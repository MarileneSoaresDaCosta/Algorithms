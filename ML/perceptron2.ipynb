{
 "cells": [
  {
   "cell_type": "code",
   "execution_count": 1,
   "metadata": {
    "collapsed": false
   },
   "outputs": [
    {
     "name": "stdout",
     "output_type": "stream",
     "text": [
      "[(7.5556969918904446, 3.3458182231349722), (2.2873400843224321, 4.406246486255232), (2.7554348631340053, 0.36812326504482518), (0.36747398396286157, 9.4433072924829258), (0.38342135706818881, 3.2143418491354145), (1.1560782967982641, 7.054155988943033), (4.8122834151227867, 6.3888906562380452), (5.7842388850554709, 9.7406764408661086), (1.0606433510701319, 1.0908569599149098), (7.544537051711572, 4.3656130521454903), (0.85935911224061856, 3.8534591295765406), (2.2231918227849965, 2.9001959233752661), (9.9406572048832125, 9.9240304301340139), (1.1088510212741198, 8.224342886103198), (7.0266097544594963, 8.024268536950105), (3.4285506071032312, 4.8557381783774147), (5.6785394721506943, 2.6226052020325952), (9.0401755997344715, 4.1315822386400649), (9.909287661878027, 4.9881302208120939), (1.1856015661849872, 4.9624077193693585)]\n"
     ]
    }
   ],
   "source": [
    "import random\n",
    "%matplotlib inline\n",
    "import matplotlib\n",
    "import numpy as np\n",
    "import matplotlib.pyplot as plt\n",
    "import pylab\n",
    "from pylab import rand  \n",
    "\n",
    "n=20\n",
    "nx1 = rand(n)\n",
    "nx2 = rand(n)\n",
    "xr = zip(nx1*10, nx2*10)\n",
    "print xr  # X input in the perceptron implementation\n",
    "\n"
   ]
  },
  {
   "cell_type": "code",
   "execution_count": 4,
   "metadata": {
    "collapsed": false
   },
   "outputs": [
    {
     "name": "stdout",
     "output_type": "stream",
     "text": [
      "[-1, 1, -1, 1, 1, 1, 1, 1, -1, -1, 1, -1, 1, 1, 1, 1, -1, -1, -1, 1]\n"
     ]
    },
    {
     "data": {
      "text/plain": [
       "<matplotlib.text.Text at 0x10cccc450>"
      ]
     },
     "execution_count": 4,
     "metadata": {},
     "output_type": "execute_result"
    },
    {
     "data": {
      "image/png": "[encoded data removed]",
      "text/plain": [
       "<matplotlib.figure.Figure at 0x10ccb9d50>"
      ]
     },
     "metadata": {},
     "output_type": "display_data"
    }
   ],
   "source": [
    "b = []\n",
    "r = []\n",
    "y = []\n",
    "\n",
    "for pair in xr:\n",
    "    #print pair[1]\n",
    "    if pair[1] > (0.7*pair[0]+2):\n",
    "        b.append(pair)\n",
    "        y.append(1)\n",
    "    else:\n",
    "        r.append(pair)\n",
    "        y.append(-1)\n",
    "        \n",
    "#print(xr[0][0])\n",
    "\n",
    "print y\n",
    "inputs = []\n",
    "#for i in range(len(b)+len(r)):\n",
    " #   inputs.append([b[i],b[i],1])\n",
    "  #  inputs.append([r[i],r[i],-1])\n",
    "    \n",
    "#print inputs2\n",
    "\n",
    "plt.scatter([x[0] for x in b], [x[1] for x in b],color='green', marker='+', s=70)\n",
    "plt.scatter([x[0] for x in r], [x[1] for x in r],color='red', marker='o')\n",
    "plt.text(4, 11,'NOT guaranteed linear separation', horizontalalignment='center',verticalalignment='center', fontsize=15)\n",
    "#plt.show()"
   ]
  },
  {
   "cell_type": "code",
   "execution_count": 5,
   "metadata": {
    "collapsed": true
   },
   "outputs": [],
   "source": [
    "class Perceptron(object):\n",
    "    \"\"\"Perceptron classifier.\n",
    "    Parameters\n",
    "    ------------\n",
    "    eta : float - NOT USED\n",
    "        Learning rate (between 0.0 and 1.0)\n",
    "        n_iter : int\n",
    "        Passes over the training dataset.\n",
    "    Attributes\n",
    "    -----------\n",
    "    w_ : 1d-array\n",
    "        Weights after fitting.\n",
    "    errors_ : list\n",
    "        Number of misclassifications in every epoch.\n",
    "    \"\"\"\n",
    "\n",
    "    def __init__(self, eta=0.01, n_iter=10):\n",
    "        self.eta = eta\n",
    "        self.n_iter = n_iter\n",
    "    \n",
    "    \n",
    "    def fit(self, X, y):\n",
    "        \"\"\"Fit training data.\n",
    "        Parameters\n",
    "        ----------\n",
    "            X : {array-like}, shape = [n_samples, n_features]\n",
    "                Training vectors, where n_samples\n",
    "                is the number of samples and\n",
    "                n_features is the number of features.\n",
    "            y : array-like, shape = [n_samples]\n",
    "                Target values.\n",
    "        Returns\n",
    "        -------\n",
    "               self : object\n",
    "        \"\"\"\n",
    "        self.w_ = np.zeros(1 + X.shape[1])\n",
    "        self.errors_ = []\n",
    "           \n",
    "        for _ in range(self.n_iter):\n",
    "            errors = 0\n",
    "            for xi, target in zip(X, y):\n",
    "                #print \"w \", self.w_, \" target \", target, \" self.predict(xi) \", self.predict(xi)\n",
    "                update = self.eta * (target - self.predict(xi))\n",
    "                #if update != 0.0:\n",
    "                 #   print \"update \" , update, \"xi \", xi, \"w\", self.w_\n",
    "                self.w_[1:] += update * xi\n",
    "                #print \"update \" , update, \"xi \", xi, \"w\", self.w_, \" update * xi \", update * xi\n",
    "                self.w_[0] += update\n",
    "                #print \"update \" , update, \"xi \", xi, \"w\", self.w_\n",
    "                errors += int(update != 0.0)\n",
    "                #print errors\n",
    "            self.errors_.append(errors)\n",
    "        return self\n",
    "        \n",
    "        \n",
    "    def net_input(self, X):\n",
    "        \"\"\"Calculate net input\"\"\"\n",
    "        return np.dot(X, self.w_[1:]) + self.w_[0]\n",
    "    \n",
    "    def predict(self, X):\n",
    "        \"\"\"Return class label after unit step\"\"\"\n",
    "        return np.where(self.net_input(X) >= 0.0, 1, -1)\n",
    "    "
   ]
  },
  {
   "cell_type": "code",
   "execution_count": null,
   "metadata": {
    "collapsed": true
   },
   "outputs": [],
   "source": []
  }
 ],
 "metadata": {
  "anaconda-cloud": {},
  "kernelspec": {
   "display_name": "Python [Root]",
   "language": "python",
   "name": "Python [Root]"
  },
  "language_info": {
   "codemirror_mode": {
    "name": "ipython",
    "version": 2
   },
   "file_extension": ".py",
   "mimetype": "text/x-python",
   "name": "python",
   "nbconvert_exporter": "python",
   "pygments_lexer": "ipython2",
   "version": "2.7.12"
  }
 },
 "nbformat": 4,
 "nbformat_minor": 0
}
