{
 "cells": [
  {
   "cell_type": "markdown",
   "metadata": {},
   "source": [
    "### compute all mnemonics for a phone pad"
   ]
  },
  {
   "cell_type": "code",
   "execution_count": 10,
   "metadata": {
    "collapsed": false
   },
   "outputs": [
    {
     "name": "stdout",
     "output_type": "stream",
     "text": [
      "['M1P', 'M1Q', 'M1R', 'M1S', 'N1P', 'N1Q', 'N1R', 'N1S', 'O1P', 'O1Q', 'O1R', 'O1S']\n"
     ]
    }
   ],
   "source": [
    "pad = {'0': '0',\n",
    "       '1': '1',\n",
    "       '2': 'ABC',\n",
    "       '3': 'DEF', \n",
    "       '4': 'GHI', \n",
    "       '5': 'JKL',\n",
    "       '6': 'MNO', \n",
    "       '7': 'PQRS', \n",
    "       '8': 'TUV', \n",
    "       '9': 'WXYZ'}\n",
    "\n",
    "def mnemonics(num):\n",
    "    if len(num) == 0:\n",
    "        yield ''\n",
    "        return\n",
    "    first = num[0]\n",
    "    rest =  num[1:]\n",
    "\n",
    "    for x in pad[first]:\n",
    "        for y in mnemonics(rest):\n",
    "                yield x + y\n",
    "\n",
    "print list(mnemonics('617'))"
   ]
  },
  {
   "cell_type": "code",
   "execution_count": null,
   "metadata": {
    "collapsed": false
   },
   "outputs": [],
   "source": []
  },
  {
   "cell_type": "code",
   "execution_count": null,
   "metadata": {
    "collapsed": true
   },
   "outputs": [],
   "source": []
  }
 ],
 "metadata": {
  "anaconda-cloud": {},
  "kernelspec": {
   "display_name": "Python [Root]",
   "language": "python",
   "name": "Python [Root]"
  },
  "language_info": {
   "codemirror_mode": {
    "name": "ipython",
    "version": 2
   },
   "file_extension": ".py",
   "mimetype": "text/x-python",
   "name": "python",
   "nbconvert_exporter": "python",
   "pygments_lexer": "ipython2",
   "version": "2.7.12"
  }
 },
 "nbformat": 4,
 "nbformat_minor": 0
}
