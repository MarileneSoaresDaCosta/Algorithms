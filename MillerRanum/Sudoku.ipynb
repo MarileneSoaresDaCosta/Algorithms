{
 "cells": [
  {
   "cell_type": "markdown",
   "metadata": {},
   "source": [
    "## Solving a Sudoku puzzle"
   ]
  },
  {
   "cell_type": "code",
   "execution_count": 225,
   "metadata": {
    "collapsed": true
   },
   "outputs": [],
   "source": [
    "import numpy as np"
   ]
  },
  {
   "cell_type": "code",
   "execution_count": 226,
   "metadata": {
    "collapsed": false
   },
   "outputs": [
    {
     "data": {
      "text/plain": [
       "4"
      ]
     },
     "execution_count": 226,
     "metadata": {},
     "output_type": "execute_result"
    }
   ],
   "source": [
    "c = [[1, 0, 2, 6, 0, 4, 8, 0, 0],\n",
    "     [0, 0, 0, 0, 8, 1, 4, 2, 5],\n",
    "     [0, 0, 4, 0, 0, 0, 0, 0, 0],\n",
    "     [0, 0, 9, 0, 6, 8, 2, 5, 0],\n",
    "     [5, 3, 0, 4, 2, 9, 0, 8, 6],\n",
    "     [0, 6, 8, 5, 3, 0, 9, 0, 0],\n",
    "     [0, 0, 0, 0, 0, 0, 3, 0, 0],\n",
    "     [8, 9, 3, 7, 5, 0, 0, 0, 0],\n",
    "     [0, 0, 7, 9, 0, 3, 5, 0, 8]]\n",
    "c[0].count(0)"
   ]
  },
  {
   "cell_type": "code",
   "execution_count": 227,
   "metadata": {
    "collapsed": false
   },
   "outputs": [
    {
     "name": "stdout",
     "output_type": "stream",
     "text": [
      "[4, 4, 8, 4, 2, 4, 8, 4, 4]\n"
     ]
    }
   ],
   "source": [
    "# iterating through rows and counting zeroes - generates a list of number of zeroes per row \n",
    "def it_rows(array): \n",
    "    rows= []\n",
    "    zeros = 0\n",
    "    i = 0\n",
    "    for row in array:\n",
    "        zeros = row.count(0)\n",
    "        i += 1\n",
    "        rows.append(zeros)\n",
    "    return rows\n",
    "        \n",
    "row_spaces = it_rows(c)\n",
    "print row_spaces"
   ]
  },
  {
   "cell_type": "code",
   "execution_count": 228,
   "metadata": {
    "collapsed": false
   },
   "outputs": [
    {
     "name": "stdout",
     "output_type": "stream",
     "text": [
      "no\n"
     ]
    }
   ],
   "source": [
    "if 1 in row_spaces:\n",
    "    print row_spaces.index(1)\n",
    "else:\n",
    "    print 'no'"
   ]
  },
  {
   "cell_type": "code",
   "execution_count": 229,
   "metadata": {
    "collapsed": false
   },
   "outputs": [
    {
     "name": "stdout",
     "output_type": "stream",
     "text": [
      "key: 0\n"
     ]
    }
   ],
   "source": [
    "i = 4\n",
    "if i in row_spaces:\n",
    "    print 'key:',  row_spaces.index(i)\n",
    "else:\n",
    "    print 'no'"
   ]
  },
  {
   "cell_type": "code",
   "execution_count": 230,
   "metadata": {
    "collapsed": false
   },
   "outputs": [
    {
     "name": "stdout",
     "output_type": "stream",
     "text": [
      "[6, 6, 3, 4, 4, 4, 3, 6, 6]\n"
     ]
    }
   ],
   "source": [
    "# iterating through columns and counting zeroes \n",
    "\n",
    "def it_cols(array):\n",
    "    column = []\n",
    "    columns = []\n",
    "    \n",
    "    for i in range (0, 9):\n",
    "        for row in array:\n",
    "            column.append(row[i])\n",
    "        i += 1    \n",
    "        columns.append(column)\n",
    "        column = []\n",
    "\n",
    "    cols = []\n",
    "    zeros = 0\n",
    "    i = 0\n",
    "    for col in columns:\n",
    "        zeros = col.count(0)\n",
    "        i += 1\n",
    "        cols.append(zeros)\n",
    "    return cols\n",
    "        \n",
    "\n",
    "col_spaces = it_cols(c)\n",
    "print col_spaces\n"
   ]
  },
  {
   "cell_type": "code",
   "execution_count": 231,
   "metadata": {
    "collapsed": false
   },
   "outputs": [
    {
     "name": "stdout",
     "output_type": "stream",
     "text": [
      "[6, 5, 5, 4, 2, 4, 5, 5, 6]\n"
     ]
    }
   ],
   "source": [
    "# iterating through grids and counting zeros\n",
    "\n",
    "def it_grids(array):\n",
    "    grid = []\n",
    "    gridslist = []\n",
    "    startrow = 0\n",
    "    startcol = 0\n",
    "    i = 0\n",
    "    j = 0\n",
    "\n",
    "\n",
    "    for startrow in range (0, 7, 3):\n",
    "        for startcol in range (0, 7, 3):\n",
    "            for i in range (startrow, startrow + 3):\n",
    "                for j in range (startcol, startcol + 3):\n",
    "                    grid.append(c[i][j])\n",
    "                    j += 1   \n",
    "                i += 1    \n",
    "            gridslist.append(grid)\n",
    "            grid = []\n",
    "\n",
    "\n",
    "    grids = []\n",
    "    zeros = 0\n",
    "    i = 0\n",
    "    for g in gridslist:\n",
    "        zeros = g.count(0)\n",
    "        i += 1\n",
    "        grids.append(zeros)\n",
    "\n",
    "        \n",
    "    return grids\n",
    "\n",
    "\n",
    "grid_spaces = it_grids(c)\n",
    "print grid_spaces"
   ]
  },
  {
   "cell_type": "code",
   "execution_count": null,
   "metadata": {
    "collapsed": false
   },
   "outputs": [],
   "source": []
  },
  {
   "cell_type": "code",
   "execution_count": null,
   "metadata": {
    "collapsed": false
   },
   "outputs": [],
   "source": []
  },
  {
   "cell_type": "code",
   "execution_count": 232,
   "metadata": {
    "collapsed": false
   },
   "outputs": [],
   "source": [
    "# placing a number when there is a single space left\n",
    "\n",
    "def compl_row(array, key):\n",
    "    integers = [1, 2, 3, 4, 5, 6, 7, 8, 9]\n",
    "    row = array[key]           # adjust that key to array address (starting with zero, not 1)\n",
    "    ind = array[key].index(0)  # find the address of the zero\n",
    "    missing = 0\n",
    "    \n",
    "    # find missing numbers in that row\n",
    "    for i in integers:\n",
    "        if i not in row:\n",
    "            missing = i\n",
    "    array[key][ind] = missing      # replace zero with missing number\n",
    "    return array"
   ]
  },
  {
   "cell_type": "code",
   "execution_count": 233,
   "metadata": {
    "collapsed": true
   },
   "outputs": [],
   "source": [
    "c = [[1, 0, 2, 6, 0, 4, 8, 0, 0],\n",
    "     [0, 0, 0, 0, 8, 1, 4, 2, 5],\n",
    "     [0, 0, 4, 0, 0, 0, 0, 0, 0],\n",
    "     [0, 0, 9, 0, 6, 8, 2, 5, 0],\n",
    "     [5, 3, 0, 4, 2, 9, 0, 8, 6],\n",
    "     [0, 6, 8, 5, 3, 0, 9, 0, 0],\n",
    "     [0, 0, 0, 0, 0, 0, 3, 0, 0],\n",
    "     [8, 9, 3, 7, 5, 0, 0, 0, 0],\n",
    "     [0, 0, 7, 9, 0, 3, 5, 0, 8]]\n",
    "key = 3"
   ]
  },
  {
   "cell_type": "code",
   "execution_count": 234,
   "metadata": {
    "collapsed": false
   },
   "outputs": [],
   "source": [
    "def compl_col(array, key):\n",
    "    integers = [1, 2, 3, 4, 5, 6, 7, 8, 9]\n",
    "    array = c\n",
    "    col = []\n",
    "\n",
    "    # find elements in the column and which number is missing \n",
    "    for row in array:\n",
    "        elem = row[key]\n",
    "        col.append(elem)    \n",
    "    for i in integers:\n",
    "        if i not in col:\n",
    "            missing = i\n",
    "    # find location of zero, and replace it with missing number\n",
    "    for row in array:\n",
    "        if row[key] == 0:\n",
    "            row[key] = missing\n",
    "    return array\n"
   ]
  },
  {
   "cell_type": "code",
   "execution_count": 235,
   "metadata": {
    "collapsed": false
   },
   "outputs": [],
   "source": [
    "c = [[1, 0, 2, 6, 0, 4, 8, 0, 0],\n",
    "     [0, 0, 0, 0, 8, 1, 4, 2, 5],\n",
    "     [0, 0, 4, 0, 0, 0, 0, 0, 0],\n",
    "     [0, 0, 9, 0, 6, 8, 2, 5, 0],\n",
    "     [5, 3, 0, 4, 2, 9, 0, 8, 6],\n",
    "     [0, 6, 8, 5, 3, 0, 9, 0, 0],\n",
    "     [0, 0, 0, 0, 0, 0, 3, 0, 0],\n",
    "     [8, 9, 3, 7, 5, 0, 0, 0, 0],\n",
    "     [0, 0, 7, 9, 0, 3, 5, 0, 8]]\n",
    "\n"
   ]
  },
  {
   "cell_type": "code",
   "execution_count": 236,
   "metadata": {
    "collapsed": false
   },
   "outputs": [],
   "source": [
    "c = [[1, 0, 2, 6, 0, 4, 8, 0, 0],\n",
    "     [0, 0, 0, 0, 8, 1, 4, 2, 5],\n",
    "     [0, 0, 4, 0, 0, 0, 0, 0, 0],\n",
    "     [0, 0, 9, 0, 6, 8, 2, 5, 0],\n",
    "     [5, 3, 0, 4, 2, 9, 0, 8, 6],\n",
    "     [0, 6, 8, 5, 3, 0, 9, 0, 0],\n",
    "     [0, 0, 0, 0, 0, 0, 3, 0, 0],\n",
    "     [8, 9, 3, 7, 5, 0, 0, 0, 0],\n",
    "     [0, 0, 7, 9, 0, 3, 5, 0, 8]]\n",
    "\n",
    "\n",
    "def compl_grid(array, key):\n",
    "    integers = [1, 2, 3, 4, 5, 6, 7, 8, 9]\n",
    "    grid = []\n",
    "    gridkeys = [[1, 0, 0], \n",
    "                [2, 0, 3],\n",
    "                [3, 0, 6],\n",
    "                [4, 3, 0],\n",
    "                [5, 3, 3],\n",
    "                [6, 3, 6],\n",
    "                [7, 6, 0],\n",
    "                [8, 6, 3],\n",
    "                [9, 6, 6]]\n",
    "\n",
    "    # find elements in the grid\n",
    "    grid = []\n",
    "#     print 'key', key, 'gridkeys[key-1]', gridkeys[key-1]   \n",
    "    startrow = gridkeys[key][1]\n",
    "    startcol = gridkeys[key][2]\n",
    "#     print 'startrow', startrow, 'startcol', startcol\n",
    "    i = 0\n",
    "    j = 0\n",
    "    for i in range (startrow, startrow + 3):\n",
    "        for j in range (startcol, startcol + 3):\n",
    "            grid.append(array[i][j])\n",
    "            j += 1   \n",
    "        i += 1    \n",
    "#     print 'grid: ', grid\n",
    "    \n",
    "    # find missing number\n",
    "    missing = 0\n",
    "    for num in integers:\n",
    "        if num not in grid:\n",
    "            missing = num\n",
    "#     print 'missing:', missing    \n",
    "    \n",
    "    i = 0\n",
    "    j = 0    \n",
    "    for i in range (startrow, startrow + 3):\n",
    "        for j in range (startcol, startcol + 3):             \n",
    "            if array[i][j] == 0:\n",
    "                array[i][j] = missing \n",
    "            j += 1   \n",
    "        i += 1    \n",
    "\n",
    "#     for row in array:\n",
    "#         print row\n",
    "    return array\n"
   ]
  },
  {
   "cell_type": "code",
   "execution_count": 237,
   "metadata": {
    "collapsed": false
   },
   "outputs": [
    {
     "name": "stdout",
     "output_type": "stream",
     "text": [
      "[1, 0, 2, 6, 0, 4, 8, 0, 0]\n",
      "[0, 0, 0, 0, 8, 1, 4, 2, 5]\n",
      "[0, 0, 4, 0, 0, 0, 0, 0, 0]\n",
      "[0, 0, 9, 0, 6, 8, 2, 5, 7]\n",
      "[5, 3, 0, 4, 2, 9, 7, 8, 6]\n",
      "[0, 6, 8, 5, 3, 0, 9, 7, 7]\n",
      "[0, 0, 0, 0, 0, 0, 3, 0, 0]\n",
      "[8, 9, 3, 7, 5, 0, 0, 0, 0]\n",
      "[0, 0, 7, 9, 0, 3, 5, 0, 8]\n"
     ]
    }
   ],
   "source": [
    "x = compl_grid(c, 5)\n",
    "for row in x:\n",
    "    print row"
   ]
  },
  {
   "cell_type": "code",
   "execution_count": 238,
   "metadata": {
    "collapsed": false
   },
   "outputs": [
    {
     "name": "stdout",
     "output_type": "stream",
     "text": [
      "[1, 0, 2, 6, 0, 4, 8, 0, 0]\n",
      "[0, 0, 0, 0, 8, 1, 4, 2, 5]\n",
      "[0, 0, 4, 0, 0, 0, 0, 0, 0]\n",
      "[0, 0, 9, 0, 6, 8, 2, 5, 0]\n",
      "[5, 3, 0, 4, 2, 9, 0, 8, 6]\n",
      "[0, 6, 8, 5, 3, 0, 9, 0, 0]\n",
      "[0, 0, 0, 0, 0, 0, 3, 0, 0]\n",
      "[8, 9, 3, 7, 5, 0, 0, 0, 0]\n",
      "[0, 0, 7, 9, 0, 3, 5, 0, 8]\n"
     ]
    }
   ],
   "source": [
    "c = [[1, 0, 2, 6, 0, 4, 8, 0, 0],\n",
    "     [0, 0, 0, 0, 8, 1, 4, 2, 5],\n",
    "     [0, 0, 4, 0, 0, 0, 0, 0, 0],\n",
    "     [0, 0, 9, 0, 6, 8, 2, 5, 0],\n",
    "     [5, 3, 0, 4, 2, 9, 0, 8, 6],\n",
    "     [0, 6, 8, 5, 3, 0, 9, 0, 0],\n",
    "     [0, 0, 0, 0, 0, 0, 3, 0, 0],\n",
    "     [8, 9, 3, 7, 5, 0, 0, 0, 0],\n",
    "     [0, 0, 7, 9, 0, 3, 5, 0, 8]]\n",
    "\n",
    "for row in c:\n",
    "    print row"
   ]
  },
  {
   "cell_type": "code",
   "execution_count": 239,
   "metadata": {
    "collapsed": false
   },
   "outputs": [
    {
     "name": "stdout",
     "output_type": "stream",
     "text": [
      "[[1, 0, 2, 6, 0, 4, 8, 0, 0], [0, 0, 0, 0, 8, 1, 4, 2, 5], [0, 0, 4, 0, 0, 0, 0, 0, 0], [0, 0, 9, 0, 6, 8, 2, 5, 0], [5, 3, 0, 4, 2, 9, 0, 8, 6], [2, 6, 8, 5, 3, 1, 9, 0, 0], [0, 0, 0, 0, 0, 0, 3, 0, 0], [8, 9, 3, 7, 5, 0, 0, 0, 0], [0, 0, 7, 9, 0, 3, 5, 0, 8]]\n"
     ]
    }
   ],
   "source": [
    "# find missing elements and indexes\n",
    "\n",
    "def compl2_row(array, key):\n",
    "    row_ind = key\n",
    "    index_counter = 0\n",
    "    integers = [1, 2, 3, 4, 5, 6, 7, 8, 9]\n",
    "    missing = []\n",
    "    indexes = []\n",
    "    \n",
    "    # find location of zeros\n",
    "    for elem in array[row_ind]:\n",
    "        if elem == 0:\n",
    "            indexes.append(index_counter)\n",
    "        index_counter += 1\n",
    "            \n",
    "    # find missing numbers \n",
    "    for num in integers:\n",
    "        if num not in array[row_ind]:\n",
    "            missing.append(num)\n",
    "\n",
    "    # creates a list = COLUMN OF FIRST CHOICE\n",
    "    colcontents = []\n",
    "    for row in array:\n",
    "        colcontents.append(row[indexes[0]])\n",
    "        \n",
    "    # grid list with locations\n",
    "    g1 = [[0, 1, 2],[0, 1, 2]] \n",
    "    g2 = [[3, 4, 5],[0, 1, 2]]\n",
    "    g3 = [[6, 7, 8],[0, 1, 2]]\n",
    "    g4 = [[0, 1, 2],[3, 4, 5]]\n",
    "    g5 = [[3, 4, 5],[3, 4, 5]]\n",
    "    g6 = [[6, 7, 8],[3, 4, 5]]\n",
    "    g7 = [[0, 1, 2],[6, 7, 8]]\n",
    "    g8 = [[3, 4, 5],[6, 7, 8]]\n",
    "    g9 = [[6, 7, 8],[6, 7, 8]]\n",
    "    gridlist = [g1, g2, g3, g4, g5, g6, g7, g8, g9]   \n",
    "\n",
    "    # creates a list = GRID OF FIRST CHOICE\n",
    "    gridcontents = []\n",
    "    for grid in gridlist:\n",
    "        if row_ind in grid[0] and indexes[0] in grid[1]:\n",
    "            for row in grid[0]:\n",
    "                for col in grid[1]:\n",
    "                    gridcontents.append(array[row][col])\n",
    "\n",
    "            \n",
    "    # check options against first place column and grid\n",
    "    if missing[0] in colcontents or missing[0] in gridcontents:    # if first choice is in first place column or grid\n",
    "        array[row_ind][indexes[0]] = missing[1]                    # swap and place\n",
    "        array[row_ind][indexes[1]] = missing[0]\n",
    "\n",
    "    \n",
    "    elif missing[1] in colcontents or missing[1] in gridcontents:   # if the second choice is in first place column or grid\n",
    "        array[row_ind][indexes[0]] = missing[0]                         # must place the first choice here\n",
    "        array[row_ind][indexes[1]] = missing[1]\n",
    "\n",
    "        \n",
    "    return array\n",
    "            \n",
    "            \n",
    "xyz = compl2_row(c, 5)\n",
    "print xyz\n"
   ]
  },
  {
   "cell_type": "code",
   "execution_count": 240,
   "metadata": {
    "collapsed": false
   },
   "outputs": [
    {
     "name": "stdout",
     "output_type": "stream",
     "text": [
      "[[1, 0, 2, 6, 0, 4, 8, 0, 0], [0, 0, 0, 2, 8, 1, 4, 2, 5], [0, 0, 4, 1, 0, 0, 0, 0, 0], [0, 0, 9, 0, 6, 8, 2, 5, 0], [5, 3, 1, 4, 2, 9, 0, 8, 6], [0, 6, 8, 5, 3, 0, 9, 0, 0], [0, 0, 0, 0, 0, 0, 3, 0, 0], [8, 9, 3, 7, 5, 0, 0, 0, 0], [0, 0, 7, 9, 0, 3, 5, 0, 8]]\n"
     ]
    }
   ],
   "source": [
    "d = [[1, 0, 2, 6, 0, 4, 8, 0, 0],\n",
    "     [0, 0, 0, 0, 8, 1, 4, 2, 5],\n",
    "     [0, 0, 4, 0, 0, 0, 0, 0, 0],\n",
    "     [0, 0, 9, 0, 6, 8, 2, 5, 0],\n",
    "     [5, 3, 1, 4, 2, 9, 0, 8, 6],\n",
    "     [0, 6, 8, 5, 3, 0, 9, 0, 0],\n",
    "     [0, 0, 0, 0, 0, 0, 3, 0, 0],\n",
    "     [8, 9, 3, 7, 5, 0, 0, 0, 0],\n",
    "     [0, 0, 7, 9, 0, 3, 5, 0, 8]]\n",
    "\n",
    "\n",
    "def compl2_col(array, key):\n",
    "    integers = [1, 2, 3, 4, 5, 6, 7, 8, 9]\n",
    "    column = []\n",
    "    col_ind = key\n",
    "    missing = []\n",
    "    indexes = []\n",
    "    index_counter = 0\n",
    "    \n",
    "    # create list with col contents\n",
    "    for row in array:\n",
    "        column.append(row[col_ind])\n",
    "  \n",
    "\n",
    "    # find location of zeros\n",
    "    for row in array:\n",
    "        if row[col_ind] == 0:\n",
    "            indexes.append(index_counter)\n",
    "        index_counter += 1  \n",
    "   \n",
    "        \n",
    "    # find missing numbers \n",
    "    for num in integers:\n",
    "        if num not in column:\n",
    "            missing.append(num)\n",
    "    \n",
    "   \n",
    "     # creates a list = ROW OF FIRST CHOICE\n",
    "    rowcontents = array[indexes[0]]\n",
    "   \n",
    "    \n",
    "    # grid list with locations\n",
    "    g1 = [[0, 1, 2],[0, 1, 2]] \n",
    "    g2 = [[3, 4, 5],[0, 1, 2]]\n",
    "    g3 = [[6, 7, 8],[0, 1, 2]]\n",
    "    g4 = [[0, 1, 2],[3, 4, 5]]\n",
    "    g5 = [[3, 4, 5],[3, 4, 5]]\n",
    "    g6 = [[6, 7, 8],[3, 4, 5]]\n",
    "    g7 = [[0, 1, 2],[6, 7, 8]]\n",
    "    g8 = [[3, 4, 5],[6, 7, 8]]\n",
    "    g9 = [[6, 7, 8],[6, 7, 8]]\n",
    "    gridlist = [g1, g2, g3, g4, g5, g6, g7, g8, g9]   \n",
    "\n",
    "    # creates a list = GRID OF FIRST CHOICE\n",
    "    gridcontents = []\n",
    "    for grid in gridlist:\n",
    "        if col_ind in grid[1] and indexes[0] in grid[0]:\n",
    "            for row in grid[0]:\n",
    "                for col in grid[1]:\n",
    "                    gridcontents.append(array[row][col])\n",
    "    \n",
    "    \n",
    "    # check options against first place row and grid\n",
    "    if missing[0] in rowcontents or missing[0] in gridcontents:    # if first choice is in first place row or grid\n",
    "        array [indexes[0]] [col_ind] = missing[1]                  \n",
    "        array [indexes[1]] [col_ind] = missing[0]\n",
    "        \n",
    "\n",
    "    \n",
    "    elif missing[1] in rowcontents or missing[1] in gridcontents:   # if the second choice is in first place row or grid\n",
    "        array [indexes[0]] [col_ind] = missing[0]                 \n",
    "        array [indexes[1]] [col_ind] = missing[1]\n",
    "      \n",
    "    \n",
    "    return array\n",
    "            \n",
    "w = compl2_col(d, 3)\n",
    "print w"
   ]
  },
  {
   "cell_type": "code",
   "execution_count": 241,
   "metadata": {
    "collapsed": true
   },
   "outputs": [],
   "source": [
    "e = [[1, 0, 2, 6, 0, 4, 8, 0, 0],\n",
    "     [0, 0, 0, 0, 8, 1, 4, 2, 5],\n",
    "     [0, 0, 4, 0, 0, 0, 0, 0, 0],\n",
    "     [0, 0, 9, 0, 6, 8, 2, 5, 0],\n",
    "     [5, 3, 0, 4, 2, 9, 0, 8, 6],\n",
    "     [0, 6, 8, 5, 3, 0, 9, 0, 0],\n",
    "     [0, 0, 0, 0, 0, 0, 3, 0, 0],\n",
    "     [8, 9, 3, 7, 5, 0, 0, 0, 0],\n",
    "     [0, 0, 7, 9, 0, 3, 5, 0, 8]]\n"
   ]
  },
  {
   "cell_type": "code",
   "execution_count": 242,
   "metadata": {
    "collapsed": false
   },
   "outputs": [
    {
     "name": "stdout",
     "output_type": "stream",
     "text": [
      "[[1, 0, 2, 6, 0, 4, 8, 0, 0], [0, 0, 0, 0, 8, 1, 4, 2, 5], [0, 0, 4, 0, 0, 0, 0, 0, 0], [0, 0, 9, 0, 6, 8, 2, 5, 0], [5, 3, 0, 4, 2, 9, 0, 8, 6], [0, 6, 8, 5, 3, 0, 9, 0, 0], [0, 0, 0, 0, 0, 0, 3, 0, 0], [8, 9, 3, 7, 5, 0, 0, 0, 0], [0, 0, 7, 9, 0, 3, 5, 0, 8]]\n"
     ]
    }
   ],
   "source": [
    "def compl2_grid(array, key):\n",
    "    # grid list with locations\n",
    "    g1 = [[0, 1, 2],[0, 1, 2]] \n",
    "    g2 = [[3, 4, 5],[0, 1, 2]]\n",
    "    g3 = [[6, 7, 8],[0, 1, 2]]\n",
    "    g4 = [[0, 1, 2],[3, 4, 5]]\n",
    "    g5 = [[3, 4, 5],[3, 4, 5]]\n",
    "    g6 = [[6, 7, 8],[3, 4, 5]]\n",
    "    g7 = [[0, 1, 2],[6, 7, 8]]\n",
    "    g8 = [[3, 4, 5],[6, 7, 8]]\n",
    "    g9 = [[6, 7, 8],[6, 7, 8]]\n",
    "    gridlist = [g1, g2, g3, g4, g5, g6, g7, g8, g9]   \n",
    "    \n",
    "    \n",
    "    integers = [1, 2, 3, 4, 5, 6, 7, 8, 9]\n",
    "    \n",
    "    grid_ind = key\n",
    "    grid_loc = gridlist[grid_ind]\n",
    "#     print 'grid_loc',grid_loc\n",
    "    \n",
    "    missing = []\n",
    "    index_i = []\n",
    "    index_j = []\n",
    "    grid = []\n",
    "    \n",
    "    # finding the locations with zeros in a grid\n",
    "    for i in grid_loc[0] :\n",
    "        for j in grid_loc[1]:\n",
    "            grid.append(array[i][j])\n",
    "#             j += 1   \n",
    "#         i += 1              \n",
    "#     print 'grid', grid \n",
    "    \n",
    "    for i in grid_loc[0] :\n",
    "        for j in grid_loc[1]:\n",
    "            if array[i][j] == 0:\n",
    "                index_i.append(i)\n",
    "                index_j.append(j)\n",
    "#     print 'index_i', index_i, 'index_j', index_j\n",
    "    \n",
    "    # find missing numbers \n",
    "    for num in integers:\n",
    "        if num not in grid:\n",
    "            missing.append(num)\n",
    "#     print 'missing', missing\n",
    "\n",
    "    # creates a list = ROW OF FIRST CHOICE\n",
    "    rowcontents = array[index_i[0]]\n",
    "#     print 'first row contents', rowcontents\n",
    "    \n",
    "    # creates a list = COLUMN OF FIRST CHOICE\n",
    "    colcontents = []\n",
    "    for row in array:\n",
    "        colcontents.append(row[index_j[0]])\n",
    "#     print 'first col contents ', colcontents\n",
    "    \n",
    "    # check options against first place row and column\n",
    "    if missing[0] in rowcontents or missing[0] in colcontents:    # if first choice is in first place row or col\n",
    "        array [index_i[0]] [index_j[0]] = missing[1]                    \n",
    "        array [index_i[1]] [index_j[1]] = missing[0]\n",
    "#         print 'first'\n",
    "    \n",
    "    elif missing[1] in rowcontents or missing[1] in colcontents:   # if the second choice is in first place row or col\n",
    "        array [index_i[0]] [index_j[0]] = missing[0]                         \n",
    "        array [index_i[1]] [index_j[1]] = missing[1]\n",
    "#         print 'sec'\n",
    "        \n",
    "    return array\n",
    "    \n",
    "m = compl2_grid(e, 5)\n",
    "print m"
   ]
  },
  {
   "cell_type": "code",
   "execution_count": 243,
   "metadata": {
    "collapsed": true
   },
   "outputs": [],
   "source": [
    "c = [[1, 0, 2, 6, 0, 4, 8, 0, 0],\n",
    "     [0, 0, 0, 0, 8, 1, 4, 2, 5],\n",
    "     [0, 0, 4, 0, 0, 0, 0, 0, 0],\n",
    "     [0, 0, 9, 0, 6, 8, 2, 5, 0],\n",
    "     [5, 3, 0, 4, 2, 9, 7, 8, 6],\n",
    "     [0, 6, 8, 5, 3, 0, 9, 0, 0],\n",
    "     [0, 0, 0, 0, 0, 0, 3, 0, 0],\n",
    "     [8, 9, 3, 7, 5, 0, 0, 0, 0],\n",
    "     [0, 0, 7, 9, 0, 3, 5, 0, 8]]"
   ]
  },
  {
   "cell_type": "code",
   "execution_count": 244,
   "metadata": {
    "collapsed": false
   },
   "outputs": [
    {
     "name": "stdout",
     "output_type": "stream",
     "text": [
      "initial grids\n",
      "[4, 4, 8, 4, 1, 4, 8, 4, 4]\n",
      "\n",
      "[6, 6, 3, 4, 4, 4, 2, 6, 6]\n",
      "\n",
      "[6, 5, 5, 4, 2, 3, 5, 5, 6]\n",
      "\n",
      "it_rows 1 [4, 4, 8, 4, 1, 4, 8, 4, 4]\n"
     ]
    },
    {
     "ename": "KeyboardInterrupt",
     "evalue": "",
     "output_type": "error",
     "traceback": [
      "\u001b[0;31m---------------------------------------------------------------------------\u001b[0m",
      "\u001b[0;31mKeyboardInterrupt\u001b[0m                         Traceback (most recent call last)",
      "\u001b[0;32m<ipython-input-244-13c452e46dcf>\u001b[0m in \u001b[0;36m<module>\u001b[0;34m()\u001b[0m\n\u001b[1;32m     58\u001b[0m \u001b[0;34m\u001b[0m\u001b[0m\n\u001b[1;32m     59\u001b[0m \u001b[0;31m# print Sudoku(c)\u001b[0m\u001b[0;34m\u001b[0m\u001b[0;34m\u001b[0m\u001b[0m\n\u001b[0;32m---> 60\u001b[0;31m \u001b[0;32mfor\u001b[0m \u001b[0mrow\u001b[0m \u001b[0;32min\u001b[0m \u001b[0mSudoku\u001b[0m\u001b[0;34m(\u001b[0m\u001b[0mc\u001b[0m\u001b[0;34m)\u001b[0m\u001b[0;34m:\u001b[0m\u001b[0;34m\u001b[0m\u001b[0m\n\u001b[0m\u001b[1;32m     61\u001b[0m     \u001b[0;32mprint\u001b[0m \u001b[0mrow\u001b[0m\u001b[0;34m\u001b[0m\u001b[0m\n",
      "\u001b[0;32m<ipython-input-244-13c452e46dcf>\u001b[0m in \u001b[0;36mSudoku\u001b[0;34m(array)\u001b[0m\n\u001b[1;32m     39\u001b[0m                 \u001b[0;31m# break\u001b[0m\u001b[0;34m\u001b[0m\u001b[0;34m\u001b[0m\u001b[0m\n\u001b[1;32m     40\u001b[0m \u001b[0;34m\u001b[0m\u001b[0m\n\u001b[0;32m---> 41\u001b[0;31m             \u001b[0;32melif\u001b[0m \u001b[0;36m2\u001b[0m \u001b[0;32min\u001b[0m \u001b[0mit_cols\u001b[0m\u001b[0;34m(\u001b[0m\u001b[0marray\u001b[0m\u001b[0;34m)\u001b[0m\u001b[0;34m:\u001b[0m\u001b[0;34m\u001b[0m\u001b[0m\n\u001b[0m\u001b[1;32m     42\u001b[0m                 \u001b[0mkey\u001b[0m \u001b[0;34m=\u001b[0m \u001b[0mit_cols\u001b[0m\u001b[0;34m(\u001b[0m\u001b[0marray\u001b[0m\u001b[0;34m)\u001b[0m\u001b[0;34m.\u001b[0m\u001b[0mindex\u001b[0m\u001b[0;34m(\u001b[0m\u001b[0;36m2\u001b[0m\u001b[0;34m)\u001b[0m\u001b[0;34m\u001b[0m\u001b[0m\n\u001b[1;32m     43\u001b[0m                 \u001b[0marray\u001b[0m \u001b[0;34m=\u001b[0m \u001b[0mcompl2_col\u001b[0m\u001b[0;34m(\u001b[0m\u001b[0marray\u001b[0m\u001b[0;34m,\u001b[0m \u001b[0mkey\u001b[0m\u001b[0;34m)\u001b[0m\u001b[0;34m\u001b[0m\u001b[0m\n",
      "\u001b[0;32m<ipython-input-230-508adb4b775e>\u001b[0m in \u001b[0;36mit_cols\u001b[0;34m(array)\u001b[0m\n\u001b[1;32m      7\u001b[0m     \u001b[0;32mfor\u001b[0m \u001b[0mi\u001b[0m \u001b[0;32min\u001b[0m \u001b[0mrange\u001b[0m \u001b[0;34m(\u001b[0m\u001b[0;36m0\u001b[0m\u001b[0;34m,\u001b[0m \u001b[0;36m9\u001b[0m\u001b[0;34m)\u001b[0m\u001b[0;34m:\u001b[0m\u001b[0;34m\u001b[0m\u001b[0m\n\u001b[1;32m      8\u001b[0m         \u001b[0;32mfor\u001b[0m \u001b[0mrow\u001b[0m \u001b[0;32min\u001b[0m \u001b[0marray\u001b[0m\u001b[0;34m:\u001b[0m\u001b[0;34m\u001b[0m\u001b[0m\n\u001b[0;32m----> 9\u001b[0;31m             \u001b[0mcolumn\u001b[0m\u001b[0;34m.\u001b[0m\u001b[0mappend\u001b[0m\u001b[0;34m(\u001b[0m\u001b[0mrow\u001b[0m\u001b[0;34m[\u001b[0m\u001b[0mi\u001b[0m\u001b[0;34m]\u001b[0m\u001b[0;34m)\u001b[0m\u001b[0;34m\u001b[0m\u001b[0m\n\u001b[0m\u001b[1;32m     10\u001b[0m         \u001b[0mi\u001b[0m \u001b[0;34m+=\u001b[0m \u001b[0;36m1\u001b[0m\u001b[0;34m\u001b[0m\u001b[0m\n\u001b[1;32m     11\u001b[0m         \u001b[0mcolumns\u001b[0m\u001b[0;34m.\u001b[0m\u001b[0mappend\u001b[0m\u001b[0;34m(\u001b[0m\u001b[0mcolumn\u001b[0m\u001b[0;34m)\u001b[0m\u001b[0;34m\u001b[0m\u001b[0m\n",
      "\u001b[0;31mKeyboardInterrupt\u001b[0m: "
     ]
    }
   ],
   "source": [
    "\n",
    "def Sudoku(array):\n",
    "    print 'initial grids'\n",
    "    print it_rows(array)\n",
    "    print\n",
    "    print it_cols(array)\n",
    "    print\n",
    "    print it_grids(array)\n",
    "    print \n",
    "    \n",
    "    while any(0 in row for row in array):\n",
    "        \n",
    "        if 1 in it_rows(array):\n",
    "            print 'it_rows 1', it_rows(array)\n",
    "            key = it_rows(array).index(1)\n",
    "            array = compl_row(array, key)\n",
    "            # break\n",
    "\n",
    "\n",
    "        elif 1 in it_cols(array):\n",
    "            print 'it_cols 1', it_cols(array)\n",
    "            key = it_cols(array).index(1)\n",
    "            array = compl_col(array, key)\n",
    "            # break \n",
    "\n",
    "        elif 1 in it_grids(array):\n",
    "            print 'it_grids 1',it_grids(array)\n",
    "            key = it_grids(array).index(1)\n",
    "            array = compl_grid(array, key)   \n",
    "            # break\n",
    "        \n",
    "        else:\n",
    "\n",
    "            if 2 in it_rows(array):\n",
    "                print 'it_rows 2', it_rows(array)\n",
    "                key = it_rows(array).index(2)\n",
    "                array = compl2_row(array, key)\n",
    "                print array\n",
    "                # break\n",
    "\n",
    "            elif 2 in it_cols(array):\n",
    "                key = it_cols(array).index(2)\n",
    "                array = compl2_col(array, key)\n",
    "                # break\n",
    "\n",
    "            elif 2 in it_grids(array):\n",
    "                print 'it_grids 2', it_grids(array)\n",
    "                key = it_grids(array).index(2)\n",
    "                array = compl2_grid(array, key)   \n",
    "                # break\n",
    "            \n",
    "            else:\n",
    "                print 'break'\n",
    "                break   \n",
    "      \n",
    "    return array\n",
    "            \n",
    "            \n",
    "# print Sudoku(c)\n",
    "for row in Sudoku(c):\n",
    "    print row        "
   ]
  },
  {
   "cell_type": "code",
   "execution_count": null,
   "metadata": {
    "collapsed": true
   },
   "outputs": [],
   "source": []
  }
 ],
 "metadata": {
  "kernelspec": {
   "display_name": "Python 2",
   "language": "python",
   "name": "python2"
  },
  "language_info": {
   "codemirror_mode": {
    "name": "ipython",
    "version": 2
   },
   "file_extension": ".py",
   "mimetype": "text/x-python",
   "name": "python",
   "nbconvert_exporter": "python",
   "pygments_lexer": "ipython2",
   "version": "2.7.13"
  }
 },
 "nbformat": 4,
 "nbformat_minor": 2
}
