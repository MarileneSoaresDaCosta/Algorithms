{
 "cells": [
  {
   "cell_type": "code",
   "execution_count": 1,
   "metadata": {
    "collapsed": false
   },
   "outputs": [
    {
     "name": "stdout",
     "output_type": "stream",
     "text": [
      "sum 904\n",
      "s-min greater than max 904\n",
      "max 904\n",
      "sum 944\n",
      "s-min greater than max 944\n",
      "max 944\n",
      "sum 1467\n",
      "s-min greater than max 1467\n",
      "max 1467\n",
      "sum 1479\n",
      "s-min greater than max 1479\n",
      "max 1479\n",
      "sum 1144\n",
      "sum 759\n",
      "sum 635\n",
      "sum 1116\n",
      "sum 1085\n",
      "sum -915\n",
      "min -915\n",
      "1479\n"
     ]
    }
   ],
   "source": [
    "a = [904, 40, 523, 12, -335, -385, -124, 481, -31, -2000]\n",
    "\n",
    "min_sum =0\n",
    "reg_sum = 0\n",
    "max_sum = 0\n",
    "\n",
    "for elem in a:\n",
    "    reg_sum += elem\n",
    "    print 'sum', reg_sum\n",
    "    if reg_sum < min_sum:\n",
    "        min_sum = reg_sum\n",
    "        print 'min', min_sum\n",
    "    if (reg_sum - min_sum) > max_sum:\n",
    "        print 's-min greater than max', (reg_sum - min_sum)\n",
    "        max_sum = reg_sum - min_sum\n",
    "        print 'max', max_sum\n",
    "print max_sum"
   ]
  },
  {
   "cell_type": "code",
   "execution_count": 2,
   "metadata": {
    "collapsed": false
   },
   "outputs": [
    {
     "name": "stdout",
     "output_type": "stream",
     "text": [
      "-915\n"
     ]
    }
   ],
   "source": [
    "print min_sum"
   ]
  },
  {
   "cell_type": "code",
   "execution_count": 3,
   "metadata": {
    "collapsed": false
   },
   "outputs": [
    {
     "name": "stdout",
     "output_type": "stream",
     "text": [
      "-915\n"
     ]
    }
   ],
   "source": [
    "print reg_sum"
   ]
  },
  {
   "cell_type": "code",
   "execution_count": 4,
   "metadata": {
    "collapsed": true
   },
   "outputs": [],
   "source": [
    "# fibonacci - for n != 0\n",
    "\n",
    "def fibL(n):\n",
    "    a,b = 1,1\n",
    "    for i in range(n-1):\n",
    "        a,b = b,a+b\n",
    "    return a\n"
   ]
  },
  {
   "cell_type": "code",
   "execution_count": 5,
   "metadata": {
    "collapsed": false
   },
   "outputs": [
    {
     "name": "stdout",
     "output_type": "stream",
     "text": [
      "1\n"
     ]
    }
   ],
   "source": [
    "print fibL(1)"
   ]
  },
  {
   "cell_type": "code",
   "execution_count": 6,
   "metadata": {
    "collapsed": false
   },
   "outputs": [],
   "source": [
    "def rfib(n):\n",
    "    if n == 1 or n == 2:\n",
    "        return 1\n",
    "    else:\n",
    "        return rfib(n-1) + rfib(n-2)\n"
   ]
  },
  {
   "cell_type": "code",
   "execution_count": 7,
   "metadata": {
    "collapsed": false
   },
   "outputs": [
    {
     "name": "stdout",
     "output_type": "stream",
     "text": [
      "13\n"
     ]
    }
   ],
   "source": [
    "print rfib(7)"
   ]
  },
  {
   "cell_type": "code",
   "execution_count": 8,
   "metadata": {
    "collapsed": true
   },
   "outputs": [],
   "source": [
    "# using cache (memoization) in Python\n",
    "factorial_memo = {}\n",
    "def factorial(k):\n",
    "    if k < 2: return 1\n",
    "    if k not in factorial_memo:\n",
    "        factorial_memo[k] = k * factorial(k-1)\n",
    "    return factorial_memo[k]"
   ]
  },
  {
   "cell_type": "code",
   "execution_count": 9,
   "metadata": {
    "collapsed": false
   },
   "outputs": [
    {
     "name": "stdout",
     "output_type": "stream",
     "text": [
      "120\n"
     ]
    }
   ],
   "source": [
    "print factorial(5)"
   ]
  },
  {
   "cell_type": "code",
   "execution_count": 10,
   "metadata": {
    "collapsed": true
   },
   "outputs": [],
   "source": [
    "# using memoization in the fibonacci recursion example\n",
    "def memoize(fn, arg):\n",
    "    memo = {}\n",
    "    print memo\n",
    "    if arg not in memo:\n",
    "        memo[arg] = fn(arg)\n",
    "    return memo[arg]"
   ]
  },
  {
   "cell_type": "code",
   "execution_count": 11,
   "metadata": {
    "collapsed": false
   },
   "outputs": [
    {
     "name": "stdout",
     "output_type": "stream",
     "text": [
      "{}\n",
      "13\n"
     ]
    }
   ],
   "source": [
    "fibm = memoize(rfib,7)\n",
    "print fibm"
   ]
  },
  {
   "cell_type": "code",
   "execution_count": 12,
   "metadata": {
    "collapsed": false
   },
   "outputs": [],
   "source": [
    "fib_memo = {}\n",
    "def fib(n):\n",
    "    if n == 1 or n == 2:\n",
    "        return 1\n",
    "    else:\n",
    "        fib_memo[n] = fib(n-1) + fib(n-2)\n",
    "        return fib_memo[n]\n",
    "    "
   ]
  },
  {
   "cell_type": "code",
   "execution_count": 13,
   "metadata": {
    "collapsed": false
   },
   "outputs": [
    {
     "name": "stdout",
     "output_type": "stream",
     "text": [
      "13\n"
     ]
    }
   ],
   "source": [
    "print fib(7)"
   ]
  },
  {
   "cell_type": "code",
   "execution_count": 14,
   "metadata": {
    "collapsed": false
   },
   "outputs": [
    {
     "name": "stdout",
     "output_type": "stream",
     "text": [
      "21\n"
     ]
    }
   ],
   "source": [
    "print fib(8)"
   ]
  },
  {
   "cell_type": "code",
   "execution_count": 15,
   "metadata": {
    "collapsed": false
   },
   "outputs": [
    {
     "name": "stdout",
     "output_type": "stream",
     "text": [
      "{3: 2, 4: 3, 5: 5, 6: 8, 7: 13, 8: 21}\n"
     ]
    }
   ],
   "source": [
    "print fib_memo"
   ]
  },
  {
   "cell_type": "code",
   "execution_count": 16,
   "metadata": {
    "collapsed": false
   },
   "outputs": [
    {
     "name": "stdout",
     "output_type": "stream",
     "text": [
      "144\n"
     ]
    }
   ],
   "source": [
    "print fib(12)"
   ]
  },
  {
   "cell_type": "code",
   "execution_count": 17,
   "metadata": {
    "collapsed": false
   },
   "outputs": [
    {
     "name": "stdout",
     "output_type": "stream",
     "text": [
      "{3: 2, 4: 3, 5: 5, 6: 8, 7: 13, 8: 21, 9: 34, 10: 55, 11: 89, 12: 144}\n"
     ]
    }
   ],
   "source": [
    "print fib_memo"
   ]
  },
  {
   "cell_type": "code",
   "execution_count": 92,
   "metadata": {
    "collapsed": false
   },
   "outputs": [],
   "source": [
    "# longest nondecreasing subsequence length\n",
    "def foo(a):\n",
    "    r = 1\n",
    "    if len(a) == 1:\n",
    "        return 1\n",
    "    for i in range(1, len(a)):\n",
    "        for j in range(0, len(a)-1):\n",
    "            if a[i] >= a[j]:\n",
    "                r = max(foo(a[:i]), foo(a[:j]))\n",
    "    return r"
   ]
  },
  {
   "cell_type": "code",
   "execution_count": 93,
   "metadata": {
    "collapsed": false
   },
   "outputs": [
    {
     "name": "stdout",
     "output_type": "stream",
     "text": [
      "1\n"
     ]
    }
   ],
   "source": [
    "x = [0, 8, 4]\n",
    "print foo(x)"
   ]
  },
  {
   "cell_type": "code",
   "execution_count": 94,
   "metadata": {
    "collapsed": true
   },
   "outputs": [],
   "source": [
    "# Dynamic programming Python implementation of LIS problem\n",
    "# lis returns length of the longest increasing subsequence\n",
    "# in arr of size n\n",
    "def lis(arr):\n",
    "    n = len(arr)\n",
    " \n",
    "    # Declare the list (array) for LIS and initialize LIS\n",
    "    # values for all indexes\n",
    "    lis = [1]*n\n",
    " \n",
    "    # Compute optimized LIS values in bottom up manner\n",
    "    for i in range (1 , n):\n",
    "        for j in range(0 , i):\n",
    "            if arr[i] > arr[j] and lis[i] < lis[j] + 1 :\n",
    "                lis[i] = lis[j]+1\n",
    " \n",
    "    # Initialize maximum to 0 to get the maximum of all\n",
    "    # LIS\n",
    "    maximum = 0\n",
    " \n",
    "    # Pick maximum of all LIS values\n",
    "    for i in range(n):\n",
    "        maximum = max(maximum , lis[i])\n",
    " \n",
    "    return maximum\n",
    "# end of lis function\n"
   ]
  },
  {
   "cell_type": "code",
   "execution_count": 95,
   "metadata": {
    "collapsed": false
   },
   "outputs": [
    {
     "name": "stdout",
     "output_type": "stream",
     "text": [
      "4\n"
     ]
    }
   ],
   "source": [
    "z = [0, 8, 4, 12, 2, 10, 6, 14, 1, 9]\n",
    "print lis(z)"
   ]
  },
  {
   "cell_type": "code",
   "execution_count": 96,
   "metadata": {
    "collapsed": false
   },
   "outputs": [
    {
     "name": "stdout",
     "output_type": "stream",
     "text": [
      "[1, 1]\n"
     ]
    }
   ],
   "source": [
    "print [1]*2"
   ]
  },
  {
   "cell_type": "code",
   "execution_count": null,
   "metadata": {
    "collapsed": true
   },
   "outputs": [],
   "source": []
  }
 ],
 "metadata": {
  "anaconda-cloud": {},
  "kernelspec": {
   "display_name": "Python [Root]",
   "language": "python",
   "name": "Python [Root]"
  },
  "language_info": {
   "codemirror_mode": {
    "name": "ipython",
    "version": 2
   },
   "file_extension": ".py",
   "mimetype": "text/x-python",
   "name": "python",
   "nbconvert_exporter": "python",
   "pygments_lexer": "ipython2",
   "version": "2.7.12"
  }
 },
 "nbformat": 4,
 "nbformat_minor": 0
}
