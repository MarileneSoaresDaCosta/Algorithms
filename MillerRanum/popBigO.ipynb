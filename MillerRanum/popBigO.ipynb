{
 "cells": [
  {
   "cell_type": "code",
   "execution_count": 1,
   "metadata": {
    "collapsed": false
   },
   "outputs": [
    {
     "name": "stdout",
     "output_type": "stream",
     "text": [
      "pop(0)   pop()\n",
      "        1.01279,         0.00052\n",
      "        2.19810,         0.00036\n",
      "        4.17930,         0.00042\n",
      "        4.39048,         0.00029\n",
      "        5.44021,         0.00031\n",
      "        6.49995,         0.00040\n",
      "       10.45412,         0.00043\n",
      "        9.42620,         0.00041\n",
      "        9.55292,         0.00108\n",
      "       10.75357,         0.00157\n"
     ]
    }
   ],
   "source": [
    "%matplotlib inline\n",
    "import matplotlib\n",
    "import matplotlib.pyplot as plt\n",
    "import timeit\n",
    "\"\"\" While our first test does show that pop(0) is indeed slower than pop(), \n",
    "it does not validate the claim that pop(0) is O(n)O(n) while pop() is O(1)O(1). \n",
    "To validate that claim we need to look at the performance of both calls \n",
    "over a range of list sizes\"\"\"\n",
    "\n",
    "\n",
    "popzero = timeit.Timer(\"x.pop(0)\",\n",
    "                \"from __main__ import x\")\n",
    "popend = timeit.Timer(\"x.pop()\",\n",
    "               \"from __main__ import x\")\n",
    "print(\"pop(0)   pop()\")\n",
    "\n",
    "newx = []\n",
    "newpt = []\n",
    "newpz = []\n",
    "for i in range(1000000,10000001,1000000):\n",
    "    x = list(range(i))\n",
    "    newx.append(x)\n",
    "    pt = popend.timeit(number=1000)\n",
    "    newpt.append(pt)\n",
    "    x = list(range(i))\n",
    "    pz = popzero.timeit(number=1000)\n",
    "    newpz.append(pz)\n",
    "    print(\"%15.5f, %15.5f\" %(pz,pt))"
   ]
  },
  {
   "cell_type": "code",
   "execution_count": null,
   "metadata": {
    "collapsed": false
   },
   "outputs": [],
   "source": []
  },
  {
   "cell_type": "code",
   "execution_count": null,
   "metadata": {
    "collapsed": true
   },
   "outputs": [],
   "source": []
  }
 ],
 "metadata": {
  "kernelspec": {
   "display_name": "Python 2",
   "language": "python",
   "name": "python2"
  },
  "language_info": {
   "codemirror_mode": {
    "name": "ipython",
    "version": 2
   },
   "file_extension": ".py",
   "mimetype": "text/x-python",
   "name": "python",
   "nbconvert_exporter": "python",
   "pygments_lexer": "ipython2",
   "version": "2.7.13"
  }
 },
 "nbformat": 4,
 "nbformat_minor": 2
}
