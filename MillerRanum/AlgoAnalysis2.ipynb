{
 "cells": [
  {
   "cell_type": "code",
   "execution_count": null,
   "metadata": {
    "collapsed": false
   },
   "outputs": [],
   "source": [
    "def anagram_solution4(s1, s2):\n",
    "    c1 = [0] * 26\n",
    "    c2 = [0] * 26\n",
    "#     print c1, c2\n",
    "    for i in range(len(s1)):\n",
    "        pos = ord(s1[i]) - ord('a')\n",
    "#         print 'ord(s1[i])', ord(s1[i])\n",
    "        c1[pos] = c1[pos] + 1\n",
    "#         print 'c1[pos]:', c1[pos], 'c1[pos] + 1:' , c1[pos]+1\n",
    "    print 'c1:', c1  \n",
    "    \n",
    "    for i in range(len(s2)):\n",
    "        pos = ord(s2[i]) - ord('a')\n",
    "        c2[pos] = c2[pos] + 1\n",
    "    print 'c2:', c2\n",
    "    \n",
    "    j=0\n",
    "    still_ok = True\n",
    "    while j < 26 and still_ok:\n",
    "        if c1[j] == c2[j]: \n",
    "            j=j+1\n",
    "        else:\n",
    "            still_ok = False\n",
    "    return still_ok\n",
    "\n",
    "print(anagram_solution4('apple','pleap'))\n"
   ]
  },
  {
   "cell_type": "code",
   "execution_count": null,
   "metadata": {
    "collapsed": true
   },
   "outputs": [],
   "source": [
    "\"\"\" performance of the data structures: Lists and Dictionaries \"\"\"\n",
    "\n",
    "# for loop and concatenation\n",
    "def test1():\n",
    "    l = []\n",
    "    for i in range(1000):\n",
    "        l = l + [i]\n",
    "        \n",
    "        \n",
    "# same, but with append\n",
    "def test2():\n",
    "    l = []\n",
    "    for i in range(1000):\n",
    "        l.append(i)\n",
    "\n",
    "        \n",
    "# using list comprehension\n",
    "def test3():\n",
    "    l = [i for i in range(1000)]\n",
    "\n",
    "    \n",
    "# range function wrapped by a call to the list constructor\n",
    "def test4():\n",
    "    l = list(range(1000))\n"
   ]
  },
  {
   "cell_type": "code",
   "execution_count": null,
   "metadata": {
    "collapsed": false
   },
   "outputs": [],
   "source": [
    "\"\"\" To capture the time it takes for each of our functions to execute \n",
    "we will use Python’s timeit module. The timeit module is designed to \n",
    "allow Python developers to make cross-platform timing measurements \n",
    "by running functions in a consistent environment and using timing \n",
    "mechanisms that are as similar as possible across operating systems.\n",
    "\n",
    "The following shows how long it takes to run each of our test \n",
    "functions 1000 times.\n",
    "https://interactivepython.org/runestone/static/pythonds/AlgorithmAnalysis/Lists.html\n",
    "\n",
    "The statement from __main__ import test1 imports the function test1 from the \n",
    "__main__ namespace into the namespace that timeit sets up for the timing experiment. \n",
    "The timeit module does this because it wants to run the timing tests in an environment \n",
    "that is uncluttered by any stray variables you may have created, that may interfere with \n",
    "your function’s performance in some unforeseen way.\n",
    "\n",
    "\"\"\"\n",
    "\n",
    "import timeit\n",
    "\n",
    "t1 = timeit.Timer(\"test1()\", \"from __main__ import test1\")\n",
    "print(\"concat \",t1.timeit(number=1000), \"milliseconds\")\n",
    "t2 = timeit.Timer(\"test2()\", \"from __main__ import test2\")\n",
    "print(\"append \",t2.timeit(number=1000), \"milliseconds\")\n",
    "t3 = timeit.Timer(\"test3()\", \"from __main__ import test3\")\n",
    "print(\"comprehension \",t3.timeit(number=1000), \"milliseconds\")\n",
    "t4 = timeit.Timer(\"test4()\", \"from __main__ import test4\")\n",
    "print(\"list range \",t4.timeit(number=1000), \"milliseconds\")\n",
    "\n"
   ]
  },
  {
   "cell_type": "code",
   "execution_count": null,
   "metadata": {
    "collapsed": false
   },
   "outputs": [],
   "source": [
    "# attempt to measure the difference between the two uses of pop\n",
    "popzero = timeit.Timer(\"x.pop(0)\",\n",
    "                       \"from __main__ import x\")\n",
    "popend = timeit.Timer(\"x.pop()\",\n",
    "                      \"from __main__ import x\")\n",
    "\n",
    "x = list(range(2000000))\n",
    "popzero.timeit(number=1000)"
   ]
  },
  {
   "cell_type": "code",
   "execution_count": null,
   "metadata": {
    "collapsed": false
   },
   "outputs": [],
   "source": [
    "x = list(range(2000000))\n",
    "popend.timeit(number=1000)"
   ]
  },
  {
   "cell_type": "code",
   "execution_count": null,
   "metadata": {
    "collapsed": false
   },
   "outputs": [],
   "source": []
  },
  {
   "cell_type": "code",
   "execution_count": null,
   "metadata": {
    "collapsed": true
   },
   "outputs": [],
   "source": []
  },
  {
   "cell_type": "code",
   "execution_count": null,
   "metadata": {
    "collapsed": true
   },
   "outputs": [],
   "source": []
  }
 ],
 "metadata": {
  "kernelspec": {
   "display_name": "Python 2",
   "language": "python",
   "name": "python2"
  },
  "language_info": {
   "codemirror_mode": {
    "name": "ipython",
    "version": 2
   },
   "file_extension": ".py",
   "mimetype": "text/x-python",
   "name": "python",
   "nbconvert_exporter": "python",
   "pygments_lexer": "ipython2",
   "version": "2.7.13"
  }
 },
 "nbformat": 4,
 "nbformat_minor": 2
}
