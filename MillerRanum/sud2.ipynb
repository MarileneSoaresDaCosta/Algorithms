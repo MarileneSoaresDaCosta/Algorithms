{
 "cells": [
  {
   "cell_type": "code",
   "execution_count": null,
   "metadata": {
    "collapsed": true
   },
   "outputs": [],
   "source": []
  },
  {
   "cell_type": "code",
   "execution_count": null,
   "metadata": {
    "collapsed": true
   },
   "outputs": [],
   "source": []
  },
  {
   "cell_type": "code",
   "execution_count": 12,
   "metadata": {
    "collapsed": false
   },
   "outputs": [
    {
     "name": "stdout",
     "output_type": "stream",
     "text": [
      "indexes [2, 6]\n",
      "missing [1, 7]\n",
      "priority [5, 3, 0, 4, 2, 9, 0, 8, 6]\n",
      "index of the priority row 4\n",
      "column elements checklist [2, 0, 4, 9, 0, 8, 0, 3, 7]\n",
      "[[3, 4, 5], [0, 1, 2]]\n",
      "gridcontents [0, 0, 9, 5, 3, 0, 0, 6, 8]\n"
     ]
    }
   ],
   "source": [
    "c = [[1, 0, 2, 6, 0, 4, 8, 0, 0],\n",
    "     [0, 0, 0, 0, 8, 1, 4, 2, 5],\n",
    "     [0, 0, 4, 0, 0, 0, 0, 0, 0],\n",
    "     [0, 0, 9, 0, 6, 8, 2, 5, 0],\n",
    "     [5, 3, 0, 4, 2, 9, 0, 8, 6],\n",
    "     [0, 6, 8, 5, 3, 0, 9, 0, 0],\n",
    "     [0, 0, 0, 0, 0, 0, 3, 0, 0],\n",
    "     [8, 9, 3, 7, 5, 0, 0, 0, 0],\n",
    "     [0, 0, 7, 9, 0, 3, 5, 0, 8]]\n",
    "\n",
    "g1 = [[0, 1, 2],[0, 1, 2]] \n",
    "g2 = [[3, 4, 5],[0, 1, 2]]\n",
    "g3 = [[6, 7, 8],[0, 1, 2]]\n",
    "g4 = [[0, 1, 2],[3, 4, 5]]\n",
    "g5 = [[3, 4, 5],[3, 4, 5]]\n",
    "g6 = [[6, 7, 8],[3, 4, 5]]\n",
    "g7 = [[0, 1, 2],[6, 7, 8]]\n",
    "g8 = [[3, 4, 5],[6, 7, 8]]\n",
    "g9 = [[6, 7, 8],[6, 7, 8]]\n",
    "gridlist = [g1, g2, g3, g4, g5, g6, g7, g8, g9]   \n",
    "\n",
    "rcount = 0\n",
    "ad_counter = 0\n",
    "integers = [1, 2, 3, 4, 5, 6, 7, 8, 9]\n",
    "missing = []\n",
    "indexes = []\n",
    "for row in c:\n",
    "    if row.count(0) == 2:\n",
    "        for elem in row:\n",
    "            if elem == 0:\n",
    "                indexes.append(ad_counter)\n",
    "            ad_counter += 1\n",
    "            \n",
    "        # find missing numbers in that row\n",
    "        for i in integers:\n",
    "            if i not in row:\n",
    "                missing.append(i)\n",
    "        priority = row \n",
    "        iprior = c.index(priority)\n",
    "\n",
    "        \n",
    "print 'indexes', indexes\n",
    "print 'missing', missing\n",
    "print 'priority', priority\n",
    "print 'index of the priority row', iprior\n",
    "\n",
    "\n",
    "\n",
    "# creates a list with elements on the column of first choice\n",
    "colcheck = indexes[0]\n",
    "checklist = []\n",
    "for row in c:\n",
    "    checklist.append(row[colcheck])\n",
    "print 'column elements checklist', checklist\n",
    "\n",
    "# creates a list with elements on the grid of first choice\n",
    "\n",
    "gridcontents = []\n",
    "for grid in gridlist:\n",
    "#     print 'grid 0 and 1', grid[0], grid[1]\n",
    "#     print 'iprior', iprior\n",
    "#     print 'indexes [0]', indexes[0]\n",
    "    if iprior in grid[0] and indexes[0] in grid[1]:\n",
    "        print grid\n",
    "        for row in grid[0]:\n",
    "            for col in grid[1]:\n",
    "                gridcontents.append(c[row][col])\n",
    "print 'gridcontents', gridcontents\n",
    " "
   ]
  },
  {
   "cell_type": "code",
   "execution_count": 14,
   "metadata": {
    "collapsed": false
   },
   "outputs": [
    {
     "name": "stdout",
     "output_type": "stream",
     "text": [
      "[1, 0, 2, 6, 0, 4, 8, 0, 0]\n",
      "[0, 0, 0, 0, 8, 1, 4, 2, 5]\n",
      "[0, 0, 4, 0, 0, 0, 0, 0, 0]\n",
      "[0, 0, 9, 0, 6, 8, 2, 5, 0]\n",
      "[5, 3, 1, 4, 2, 9, 7, 8, 6]\n",
      "[0, 6, 8, 5, 3, 0, 9, 0, 0]\n",
      "[0, 0, 0, 0, 0, 0, 3, 0, 0]\n",
      "[8, 9, 3, 7, 5, 0, 0, 0, 0]\n",
      "[0, 0, 7, 9, 0, 3, 5, 0, 8]\n"
     ]
    }
   ],
   "source": [
    "# check options against first place column and grid\n",
    "if missing[0] in checklist or missing[0] in gridcontents:             # if first choice is in first place column or grid\n",
    "    c[iprior][indexes[0]] = missing[1]                    # swap and place\n",
    "    c[iprior][indexes[1]] = missing[0]\n",
    "    print '1st'\n",
    "\n",
    "elif missing[1] in checklist or missing[0] in gridcontents:             # if the second choice is in first place column or grid\n",
    "    c[iprior][indexes[0]] = missing[0]                       # must place the first choice here\n",
    "    c[iprior][indexes[1]] = missing[1]\n",
    "\n",
    "    \n",
    "for row in c:\n",
    "    print row "
   ]
  },
  {
   "cell_type": "code",
   "execution_count": null,
   "metadata": {
    "collapsed": true
   },
   "outputs": [],
   "source": []
  }
 ],
 "metadata": {
  "kernelspec": {
   "display_name": "Python 2",
   "language": "python",
   "name": "python2"
  },
  "language_info": {
   "codemirror_mode": {
    "name": "ipython",
    "version": 2
   },
   "file_extension": ".py",
   "mimetype": "text/x-python",
   "name": "python",
   "nbconvert_exporter": "python",
   "pygments_lexer": "ipython2",
   "version": "2.7.13"
  }
 },
 "nbformat": 4,
 "nbformat_minor": 2
}
