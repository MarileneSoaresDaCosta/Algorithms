{
 "cells": [
  {
   "cell_type": "code",
   "execution_count": 2,
   "metadata": {
    "collapsed": false
   },
   "outputs": [
    {
     "name": "stdout",
     "output_type": "stream",
     "text": [
      "101010\n"
     ]
    }
   ],
   "source": [
    "# 3.8. Converting Decimal Numbers to Binary Numbers\n",
    "\n",
    "class Stack:\n",
    "    def __init__(self):\n",
    "         self.items = []\n",
    "\n",
    "    def isEmpty(self):\n",
    "        return self.items == []\n",
    "\n",
    "    def push(self, item):\n",
    "        self.items.append(item)\n",
    "\n",
    "    def pop(self):\n",
    "        return self.items.pop()\n",
    "\n",
    "    def peek(self):\n",
    "        return self.items[len(self.items)-1]\n",
    "\n",
    "    def size(self):\n",
    "        return len(self.items)\n",
    "\n",
    "    \n",
    "def divideBy2(decNumber):\n",
    "    remstack = Stack()\n",
    "\n",
    "    while decNumber > 0:\n",
    "        rem = decNumber % 2\n",
    "        remstack.push(rem)\n",
    "        decNumber = decNumber // 2\n",
    "\n",
    "    binString = \"\"\n",
    "    while not remstack.isEmpty():\n",
    "        binString = binString + str(remstack.pop())\n",
    "\n",
    "    return binString\n",
    "\n",
    "print(divideBy2(42))\n",
    "\n"
   ]
  },
  {
   "cell_type": "code",
   "execution_count": 3,
   "metadata": {
    "collapsed": false
   },
   "outputs": [
    {
     "name": "stdout",
     "output_type": "stream",
     "text": [
      "11101001\n"
     ]
    }
   ],
   "source": [
    "print(divideBy2(233))"
   ]
  },
  {
   "cell_type": "code",
   "execution_count": 4,
   "metadata": {
    "collapsed": false
   },
   "outputs": [
    {
     "name": "stdout",
     "output_type": "stream",
     "text": [
      "11001\n",
      "19\n"
     ]
    }
   ],
   "source": [
    "\n",
    "\"\"\"\n",
    "General case - to convert to another base\n",
    "\n",
    "A new function called baseConverter takes a decimal number and any base \n",
    "between 2 and 16 as parameters. The remainders are still pushed onto the stack\n",
    "until the value being converted becomes 0. The same left-to-right string \n",
    "construction technique can be used with one slight change. \n",
    "Base 2 through base 10 numbers need a maximum of 10 digits, \n",
    "so the typical digit characters 0, 1, 2, 3, 4, 5, 6, 7, 8, and 9 work fine. \n",
    "\n",
    "The problem comes when we go beyond base 10. We can no longer simply use \n",
    "the remainders, as they are themselves represented as two-digit decimal numbers. \n",
    "Instead we need to create a set of digits that can be used to represent \n",
    "those remainders beyond 9.\n",
    "\n",
    "A solution to this problem is to extend the digit set to include some \n",
    "alphabet characters. For example, hexadecimal uses the ten decimal digits \n",
    "along with the first six alphabet characters for the 16 digits. \n",
    "To implement this, a digit string is created that stores the digits \n",
    "in their corresponding positions. 0 is at position 0, 1 is at position 1, \n",
    "A is at position 10, B is at position 11, and so on. \n",
    "When a remainder is removed from the stack, it can be used to index \n",
    "into the digit string and the correct resulting digit can be appended \n",
    "to the answer. For example, if the remainder 13 is removed from the stack, \n",
    "the digit D is appended to the resulting string.\n",
    "\n",
    "\"\"\"\n",
    "def baseConverter(decNumber,base):\n",
    "    digits = \"0123456789ABCDEFGHIJKLMNOPQRSTUVWXYZ\"    # modified to calculate up to base 26\n",
    "\n",
    "    remstack = Stack()\n",
    "\n",
    "    while decNumber > 0:\n",
    "        rem = decNumber % base\n",
    "        remstack.push(rem)\n",
    "        decNumber = decNumber // base\n",
    "\n",
    "    newString = \"\"\n",
    "    while not remstack.isEmpty():\n",
    "        newString = newString + digits[remstack.pop()]\n",
    "\n",
    "    return newString\n",
    "\n",
    "print(baseConverter(25,2))\n",
    "print(baseConverter(25,16))\n"
   ]
  },
  {
   "cell_type": "code",
   "execution_count": 5,
   "metadata": {
    "collapsed": false
   },
   "outputs": [
    {
     "name": "stdout",
     "output_type": "stream",
     "text": [
      "31\n"
     ]
    }
   ],
   "source": [
    "print(baseConverter(25,8))"
   ]
  },
  {
   "cell_type": "code",
   "execution_count": 6,
   "metadata": {
    "collapsed": false
   },
   "outputs": [
    {
     "name": "stdout",
     "output_type": "stream",
     "text": [
      "100\n"
     ]
    }
   ],
   "source": [
    "print(baseConverter(256,16))"
   ]
  },
  {
   "cell_type": "code",
   "execution_count": 7,
   "metadata": {
    "collapsed": false
   },
   "outputs": [
    {
     "name": "stdout",
     "output_type": "stream",
     "text": [
      "10\n"
     ]
    }
   ],
   "source": [
    "print(baseConverter(26,26))"
   ]
  },
  {
   "cell_type": "code",
   "execution_count": 8,
   "metadata": {
    "collapsed": false
   },
   "outputs": [
    {
     "name": "stdout",
     "output_type": "stream",
     "text": [
      "10\n",
      "10\n",
      "10\n",
      "10\n"
     ]
    }
   ],
   "source": [
    "print(baseConverter(2,2))\n",
    "print(baseConverter(8,8))\n",
    "print(baseConverter(16,16))\n",
    "print(baseConverter(26,26))"
   ]
  },
  {
   "cell_type": "code",
   "execution_count": 9,
   "metadata": {
    "collapsed": false
   },
   "outputs": [],
   "source": [
    "# print(baseConverter(266775867969893,73))\n",
    "# this would produce an IndexError: string index out of range because we would run out of digits\n"
   ]
  },
  {
   "cell_type": "code",
   "execution_count": 10,
   "metadata": {
    "collapsed": false
   },
   "outputs": [
    {
     "name": "stdout",
     "output_type": "stream",
     "text": [
      "10001\n",
      "101101\n",
      "1100000\n"
     ]
    }
   ],
   "source": [
    "print(baseConverter(17,2))\n",
    "print(baseConverter(45,2))\n",
    "print(baseConverter(96,2))"
   ]
  },
  {
   "cell_type": "code",
   "execution_count": null,
   "metadata": {
    "collapsed": true
   },
   "outputs": [],
   "source": []
  }
 ],
 "metadata": {
  "kernelspec": {
   "display_name": "Python 2",
   "language": "python",
   "name": "python2"
  },
  "language_info": {
   "codemirror_mode": {
    "name": "ipython",
    "version": 2
   },
   "file_extension": ".py",
   "mimetype": "text/x-python",
   "name": "python",
   "nbconvert_exporter": "python",
   "pygments_lexer": "ipython2",
   "version": "2.7.13"
  }
 },
 "nbformat": 4,
 "nbformat_minor": 2
}
