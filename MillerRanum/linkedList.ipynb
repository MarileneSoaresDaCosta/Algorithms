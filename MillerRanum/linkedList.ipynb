{
 "cells": [
  {
   "cell_type": "code",
   "execution_count": 10,
   "metadata": {
    "collapsed": true
   },
   "outputs": [],
   "source": [
    "\"\"\"\n",
    "The basic building block for the linked list implementation is the node. \n",
    "Each node object must hold at least two pieces of information. \n",
    "    - list item itself, the data field \n",
    "    - a reference to the next node. \n",
    "The Node class also includes the usual methods to access and modify the data and the next reference.\n",
    "\"\"\"\n",
    "\n",
    "class Node:\n",
    "    def __init__(self, initdata):\n",
    "        self.data = initdata\n",
    "        self.next = None   # 'grounding' the Node\n",
    "    \n",
    "    def getData(self):\n",
    "        return self.data\n",
    "    \n",
    "    def getNext(self):\n",
    "        return self.next\n",
    "    \n",
    "    def setData(self, newdata):\n",
    "        self.data = newdata\n",
    "    \n",
    "    def setNext(self, newnext):\n",
    "        self.next = newnext\n",
    "    "
   ]
  },
  {
   "cell_type": "code",
   "execution_count": 11,
   "metadata": {
    "collapsed": false
   },
   "outputs": [
    {
     "data": {
      "text/plain": [
       "93"
      ]
     },
     "execution_count": 11,
     "metadata": {},
     "output_type": "execute_result"
    }
   ],
   "source": [
    "temp = Node(93)\n",
    "temp.getData()"
   ]
  },
  {
   "cell_type": "code",
   "execution_count": 12,
   "metadata": {
    "collapsed": false
   },
   "outputs": [
    {
     "name": "stdout",
     "output_type": "stream",
     "text": [
      "None\n"
     ]
    }
   ],
   "source": [
    "print(temp.getNext())"
   ]
  },
  {
   "cell_type": "code",
   "execution_count": 13,
   "metadata": {
    "collapsed": true
   },
   "outputs": [],
   "source": [
    "class UnorderedList:\n",
    "    def __init__(self):\n",
    "        self.head = None\n",
    "        \n",
    "    def isEmpty(self):\n",
    "        return self.head == None\n",
    "    \n",
    "    def add(self, item):\n",
    "        temp = Node(item)        # creates a new node and places the item as its data\n",
    "        temp.setNext(self.head)  # changes the next reference of the new node to refer to the old first node of the list. \n",
    "        # Now that the rest of the list has been properly attached to the new node...\n",
    "        self.head = temp         # ... we can modify the head of the list to refer to the new node (the head of the list).  \n",
    "        \n",
    "    # the methods size, search and remove are based on the technique 'linked list traversal'\n",
    "    \n",
    "    def size(self):\n",
    "        current = self.head\n",
    "        count = 0\n",
    "        while current != None:\n",
    "            count = count + 1\n",
    "            current = current.getNext()\n",
    "        return count\n",
    "    \n",
    "    def search(self, item):\n",
    "        current = self.head\n",
    "        found = False\n",
    "        while current != None and not found:\n",
    "            if current.getData() == item:\n",
    "                found = True\n",
    "            else:\n",
    "                current = current.getNext()\n",
    "        return found\n",
    "    \n",
    "   \n",
    "    def remove(self, item):\n",
    "        if self.search(item) == False:\n",
    "            raise ValueError('item not in list')\n",
    "            return False\n",
    "        current = self.head\n",
    "        previous = None\n",
    "        found = False\n",
    "        while not Found:\n",
    "            if current.getData() == item:\n",
    "                found = True\n",
    "            else:\n",
    "                previous = current\n",
    "                current = current.getNext()\n",
    "                \n",
    "        if previous == None:                 # special case: item to be removed is first in the list\n",
    "            self.head = current.getNext()    # ... so we change the head of the list\n",
    "        else:\n",
    "            previous.setNext(current.getNext())  \n",
    "    \n",
    "    \n",
    "    def append(self, item):\n",
    "        current = self.head\n",
    "        while current.getNext() != None:\n",
    "#             print current.getData(), current.getNext()\n",
    "            current = current.getNext()\n",
    "        \n",
    "        temp = Node(item)        \n",
    "        temp.setNext(None)  \n",
    "        current.setNext(temp)  \n",
    "        \n",
    "        \n",
    "    def insert(self, item, pos):\n",
    "        current = self.head\n",
    "        previous = None\n",
    "        count = 0\n",
    "        while count < pos:\n",
    "            previous = current\n",
    "            current = current.getNext()\n",
    "            count += 1\n",
    "            \n",
    "        if pos > count:        # special case: item to be inserted at the end of the list\n",
    "#             print 'append'\n",
    "            self.append(item)\n",
    "                \n",
    "        if previous == None:    # special case: item to be inserted in head\n",
    "            self.add(item)\n",
    "#             temp = Node(item) \n",
    "#             temp.setData(item)\n",
    "#             temp.setNext(self.head)  \n",
    "#             self.head = temp \n",
    "            \n",
    "        else:\n",
    "#             print 'current', current.getData() \n",
    "#             print 'previous', previous.getData() \n",
    "            temp = Node(item)   \n",
    "#             temp.setData(item)\n",
    "            temp.setNext(current)   \n",
    "#             print '44 set next' , temp.getNext()\n",
    "            previous.setNext(temp)   \n",
    "        \n",
    "        \n",
    "    # assuming the the item is in the list          \n",
    "    def index(self, item):\n",
    "        current = self.head\n",
    "        count = 0\n",
    "        while current.getData() != item:\n",
    "            count = count + 1\n",
    "            current = current.getNext()\n",
    "        return count\n",
    "            \n",
    "      \n",
    "    def pop(self, pos):\n",
    "        current = self.head\n",
    "        previous = None\n",
    "        count = 0\n",
    "        while count != pos:\n",
    "            count += 1\n",
    "            previous = current\n",
    "            current = current.getNext()\n",
    "               \n",
    "        if previous == None:                 # special case: item to be removed is first in the list\n",
    "            self.head = current.getNext()    # ... so we change the head of the list\n",
    "        else:\n",
    "            previous.setNext(current.getNext()) \n",
    "        \n",
    "        \n",
    "    def printList(self):\n",
    "        current = self.head\n",
    "        while current != None:\n",
    "            print current.getData()\n",
    "            current = current.getNext()\n",
    "        print 'end of list'\n",
    "        \n",
    "    \n",
    "    def __str__(self):\n",
    "        s = '['\n",
    "        current = self.head\n",
    "        count = 1\n",
    "        while current != None and count < self.size():\n",
    "            s = s + str(current.getData()) + ','\n",
    "            current = current.getNext()\n",
    "            count += 1\n",
    "            \n",
    "        s = s + str(current.getData()) + ']'\n",
    "        return s\n",
    "        \n",
    "        "
   ]
  },
  {
   "cell_type": "code",
   "execution_count": 14,
   "metadata": {
    "collapsed": false
   },
   "outputs": [
    {
     "name": "stdout",
     "output_type": "stream",
     "text": [
      "54\n",
      "26\n",
      "93\n",
      "17\n",
      "77\n",
      "31\n",
      "end of list\n"
     ]
    }
   ],
   "source": [
    "mylist = UnorderedList()\n",
    "mylist.add(31)\n",
    "mylist.add(77)\n",
    "mylist.add(17)\n",
    "mylist.add(93)\n",
    "mylist.add(26)\n",
    "mylist.add(54)\n",
    "mylist.printList()"
   ]
  },
  {
   "cell_type": "code",
   "execution_count": 15,
   "metadata": {
    "collapsed": false
   },
   "outputs": [
    {
     "name": "stdout",
     "output_type": "stream",
     "text": [
      "[54,26,93,17,77,31]\n"
     ]
    }
   ],
   "source": [
    "print str(mylist)"
   ]
  },
  {
   "cell_type": "code",
   "execution_count": 16,
   "metadata": {
    "collapsed": false
   },
   "outputs": [
    {
     "name": "stdout",
     "output_type": "stream",
     "text": [
      "None\n",
      "54\n",
      "26\n",
      "93\n",
      "17\n",
      "77\n",
      "31\n",
      "100\n",
      "end of list\n"
     ]
    }
   ],
   "source": [
    "# test append\n",
    "print(mylist.append(100))\n",
    "mylist.printList()"
   ]
  },
  {
   "cell_type": "code",
   "execution_count": 17,
   "metadata": {
    "collapsed": false
   },
   "outputs": [
    {
     "name": "stdout",
     "output_type": "stream",
     "text": [
      "54\n",
      "26\n",
      "44\n",
      "93\n",
      "17\n",
      "77\n",
      "31\n",
      "100\n",
      "end of list\n"
     ]
    }
   ],
   "source": [
    "mylist.insert(44,2)\n",
    "mylist.printList()"
   ]
  },
  {
   "cell_type": "code",
   "execution_count": 18,
   "metadata": {
    "collapsed": false
   },
   "outputs": [
    {
     "data": {
      "text/plain": [
       "2"
      ]
     },
     "execution_count": 18,
     "metadata": {},
     "output_type": "execute_result"
    }
   ],
   "source": [
    "mylist.index(44)"
   ]
  },
  {
   "cell_type": "code",
   "execution_count": 19,
   "metadata": {
    "collapsed": false
   },
   "outputs": [
    {
     "ename": "ValueError",
     "evalue": "item not in list",
     "output_type": "error",
     "traceback": [
      "\u001b[0;31m---------------------------------------------------------------------------\u001b[0m",
      "\u001b[0;31mValueError\u001b[0m                                Traceback (most recent call last)",
      "\u001b[0;32m<ipython-input-19-bab9080f9d65>\u001b[0m in \u001b[0;36m<module>\u001b[0;34m()\u001b[0m\n\u001b[0;32m----> 1\u001b[0;31m \u001b[0mmylist\u001b[0m\u001b[0;34m.\u001b[0m\u001b[0mremove\u001b[0m\u001b[0;34m(\u001b[0m\u001b[0;36m122\u001b[0m\u001b[0;34m)\u001b[0m\u001b[0;34m\u001b[0m\u001b[0m\n\u001b[0m",
      "\u001b[0;32m<ipython-input-13-5a85b45dd4ef>\u001b[0m in \u001b[0;36mremove\u001b[0;34m(self, item)\u001b[0m\n\u001b[1;32m     35\u001b[0m     \u001b[0;32mdef\u001b[0m \u001b[0mremove\u001b[0m\u001b[0;34m(\u001b[0m\u001b[0mself\u001b[0m\u001b[0;34m,\u001b[0m \u001b[0mitem\u001b[0m\u001b[0;34m)\u001b[0m\u001b[0;34m:\u001b[0m\u001b[0;34m\u001b[0m\u001b[0m\n\u001b[1;32m     36\u001b[0m         \u001b[0;32mif\u001b[0m \u001b[0mself\u001b[0m\u001b[0;34m.\u001b[0m\u001b[0msearch\u001b[0m\u001b[0;34m(\u001b[0m\u001b[0mitem\u001b[0m\u001b[0;34m)\u001b[0m \u001b[0;34m==\u001b[0m \u001b[0mFalse\u001b[0m\u001b[0;34m:\u001b[0m\u001b[0;34m\u001b[0m\u001b[0m\n\u001b[0;32m---> 37\u001b[0;31m             \u001b[0;32mraise\u001b[0m \u001b[0mValueError\u001b[0m\u001b[0;34m(\u001b[0m\u001b[0;34m'item not in list'\u001b[0m\u001b[0;34m)\u001b[0m\u001b[0;34m\u001b[0m\u001b[0m\n\u001b[0m\u001b[1;32m     38\u001b[0m             \u001b[0;32mreturn\u001b[0m \u001b[0mFalse\u001b[0m\u001b[0;34m\u001b[0m\u001b[0m\n\u001b[1;32m     39\u001b[0m         \u001b[0mcurrent\u001b[0m \u001b[0;34m=\u001b[0m \u001b[0mself\u001b[0m\u001b[0;34m.\u001b[0m\u001b[0mhead\u001b[0m\u001b[0;34m\u001b[0m\u001b[0m\n",
      "\u001b[0;31mValueError\u001b[0m: item not in list"
     ]
    }
   ],
   "source": [
    "mylist.remove(122)"
   ]
  },
  {
   "cell_type": "code",
   "execution_count": null,
   "metadata": {
    "collapsed": false
   },
   "outputs": [],
   "source": [
    "mylist.pop(6)"
   ]
  },
  {
   "cell_type": "code",
   "execution_count": null,
   "metadata": {
    "collapsed": false
   },
   "outputs": [],
   "source": [
    "mylist.printList()"
   ]
  },
  {
   "cell_type": "code",
   "execution_count": null,
   "metadata": {
    "collapsed": true
   },
   "outputs": [],
   "source": [
    "# 3.22 Ordered List ADT\n",
    "\n",
    "class OrderedList:\n",
    "    def __init__(self):\n",
    "        self.head = None\n",
    "        \n",
    "    def isEmpty(self):\n",
    "        return self.head == None\n",
    "    \n",
    "    def size(self):\n",
    "        current = self.head\n",
    "        count = 0\n",
    "        while current != None:\n",
    "            count += 1\n",
    "            current = self.getNext()\n",
    "        return count\n",
    "    \n",
    "    def search(self, item):\n",
    "        current = self.head\n",
    "        found = False\n",
    "        stop = False\n",
    "        while current != None and not found and not stop:\n",
    "            if current.getData() == item:\n",
    "                found = True\n",
    "            else:\n",
    "                if current.getData() > item:\n",
    "                    stop = True\n",
    "                else:\n",
    "                    current = current.getNext()\n",
    "        return found\n",
    "                \n",
    "    def add(self, item):\n",
    "        current = self.head\n",
    "        previous = None\n",
    "        stop = False\n",
    "        while current != None and not stop:\n",
    "            if current.getData() > item:\n",
    "                stop = True\n",
    "            else:\n",
    "                previous = current\n",
    "                current = current.getNext()\n",
    "        temp = Node(item)\n",
    "        if previous == None:         # special case: adding to the head\n",
    "            temp.setNext(self.head)  # here the self.head refers to the item who will no longer be the head\n",
    "            self.head = temp         # and the head points to the newly created node\n",
    "        else:\n",
    "            temp.setNext(current)\n",
    "            previous.setNext(temp)"
   ]
  },
  {
   "cell_type": "code",
   "execution_count": null,
   "metadata": {
    "collapsed": true
   },
   "outputs": [],
   "source": []
  }
 ],
 "metadata": {
  "kernelspec": {
   "display_name": "Python 2",
   "language": "python",
   "name": "python2"
  },
  "language_info": {
   "codemirror_mode": {
    "name": "ipython",
    "version": 2
   },
   "file_extension": ".py",
   "mimetype": "text/x-python",
   "name": "python",
   "nbconvert_exporter": "python",
   "pygments_lexer": "ipython2",
   "version": "2.7.13"
  }
 },
 "nbformat": 4,
 "nbformat_minor": 2
}
