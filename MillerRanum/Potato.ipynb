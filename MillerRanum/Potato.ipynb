{
 "cells": [
  {
   "cell_type": "markdown",
   "metadata": {},
   "source": [
    "### Hot Potato (example of using queue)\n"
   ]
  },
  {
   "cell_type": "markdown",
   "metadata": {},
   "source": [
    "a general simulation of Hot Potato. \n",
    "\n",
    "Our program will input a list of names and a constant, call it “num,” to be used for counting. \n",
    "It will return the name of the last person remaining after repetitive counting by num. \n",
    "\n",
    "To simulate the circle, we will use a queue. Assume that the child holding the potato will be \n",
    "at the front of the queue. Upon passing the potato, the simulation will simply dequeue and then \n",
    "immediately enqueue that child, putting her at the end of the line. \n",
    "\n",
    "She will then wait until all the others have been at the front before it will be her turn again. \n",
    "After num dequeue/enqueue operations, the child at the front will be removed permanently and \n",
    "another cycle will begin. \n",
    "\n",
    "This process will continue until only one name remains (the size of the queue is 1).\n"
   ]
  },
  {
   "cell_type": "code",
   "execution_count": 33,
   "metadata": {
    "collapsed": true
   },
   "outputs": [],
   "source": [
    "class Queue:\n",
    "    def __init__(self):\n",
    "        self.items = []\n",
    "        \n",
    "    def isEmpty(self):\n",
    "        return self.items == []\n",
    "    \n",
    "    def enqueue(self, item):  # assumes that the 'rear' is at position zero\n",
    "        self.items.insert(0,item)\n",
    "        \n",
    "    def dequeue(self):\n",
    "        return self.items.pop()\n",
    "    \n",
    "    def peek(self):\n",
    "        return self.items[len(self.items)-1]\n",
    "    \n",
    "    def size(self):\n",
    "        return len(self.items)\n",
    "        "
   ]
  },
  {
   "cell_type": "code",
   "execution_count": 36,
   "metadata": {
    "collapsed": false
   },
   "outputs": [
    {
     "name": "stdout",
     "output_type": "stream",
     "text": [
      "front Bill size 6\n",
      "front David size 6\n",
      "front Susan size 6\n",
      "front Jane size 6\n",
      "front Kent size 6\n",
      "front Brad size 6\n",
      "front Bill size 6\n",
      "front Susan size 5\n",
      "front Jane size 5\n",
      "front Kent size 5\n",
      "front Brad size 5\n",
      "front Bill size 5\n",
      "front Susan size 5\n",
      "front Jane size 5\n",
      "front Brad size 4\n",
      "front Bill size 4\n",
      "front Susan size 4\n",
      "front Jane size 4\n",
      "front Brad size 4\n",
      "front Bill size 4\n",
      "front Susan size 4\n",
      "front Brad size 3\n",
      "front Bill size 3\n",
      "front Susan size 3\n",
      "front Brad size 3\n",
      "front Bill size 3\n",
      "front Susan size 3\n",
      "front Brad size 3\n",
      "front Susan size 2\n",
      "front Brad size 2\n",
      "front Susan size 2\n",
      "front Brad size 2\n",
      "front Susan size 2\n",
      "front Brad size 2\n",
      "front Susan size 2\n",
      "Susan\n"
     ]
    }
   ],
   "source": [
    "def hotPotato(namelist, num):\n",
    "    simqueue = Queue()\n",
    "    for name in namelist:\n",
    "        simqueue.enqueue(name)\n",
    "#     print 'front', simqueue.peek()\n",
    "    while simqueue.size() > 1:\n",
    "        for i in range(num):\n",
    "            print 'front', simqueue.peek(), 'size', simqueue.size()\n",
    "            simqueue.enqueue(simqueue.dequeue())\n",
    "            \n",
    "        simqueue.dequeue()\n",
    "        \n",
    "    return simqueue.dequeue()\n",
    "\n",
    "print(hotPotato([\"Bill\",\"David\",\"Susan\",\"Jane\",\"Kent\",\"Brad\"],7))"
   ]
  },
  {
   "cell_type": "code",
   "execution_count": null,
   "metadata": {
    "collapsed": false
   },
   "outputs": [],
   "source": []
  },
  {
   "cell_type": "code",
   "execution_count": null,
   "metadata": {
    "collapsed": true
   },
   "outputs": [],
   "source": []
  }
 ],
 "metadata": {
  "kernelspec": {
   "display_name": "Python 2",
   "language": "python",
   "name": "python2"
  },
  "language_info": {
   "codemirror_mode": {
    "name": "ipython",
    "version": 2
   },
   "file_extension": ".py",
   "mimetype": "text/x-python",
   "name": "python",
   "nbconvert_exporter": "python",
   "pygments_lexer": "ipython2",
   "version": "2.7.13"
  }
 },
 "nbformat": 4,
 "nbformat_minor": 2
}
