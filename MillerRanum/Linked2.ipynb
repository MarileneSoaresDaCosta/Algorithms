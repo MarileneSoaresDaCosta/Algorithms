{
 "cells": [
  {
   "cell_type": "markdown",
   "metadata": {},
   "source": [
    "## implementing an Ordered List\n",
    "### Problem Solving with Algorithms and Data Structures Using Python SECOND EDITION\n",
    "#### pg 109\n"
   ]
  },
  {
   "cell_type": "code",
   "execution_count": 28,
   "metadata": {
    "collapsed": false
   },
   "outputs": [
    {
     "name": "stdout",
     "output_type": "stream",
     "text": [
      "\n"
     ]
    }
   ],
   "source": [
    "class Node:\n",
    "    \n",
    "    def __init__(self, data=None, next_node=None):\n",
    "        self.data = data\n",
    "        self.next_node = next_node\n",
    "      \n",
    "    def get_data(self):\n",
    "        return self.data\n",
    "    \n",
    "    def get_next(self):\n",
    "        return self.next_node\n",
    "    \n",
    "    def set_data(self, new_data):\n",
    "        self.data = new_data\n",
    "        \n",
    "    def set_next(self, new_next):\n",
    "        self.next_node = new_next\n",
    "  \n",
    "    \n",
    "\n",
    "\n",
    "class OrderedList:\n",
    "    \n",
    "    def __init__(self, head = None):\n",
    "        self.head = head\n",
    "        \n",
    "    def is_empty(self):\n",
    "        return self.head == None\n",
    "    \n",
    "    def size(self):\n",
    "        current = self.head\n",
    "        count = 0\n",
    "        while current != None:\n",
    "            count += 1\n",
    "            current = current.get_next()\n",
    "        return count\n",
    "    \n",
    "    #unlike unordered lists, now we can stop the search sooner\n",
    "    def search(self, item):\n",
    "        current = self.head\n",
    "        found = False\n",
    "        stop = False\n",
    "        while current != None and found and not found and not stop:\n",
    "            if current.get_data() == item:\n",
    "                found = True\n",
    "            else:\n",
    "                if current.get_data() > item:\n",
    "                    stop = True\n",
    "                else:\n",
    "                    current = current.get_next()\n",
    "        return found\n",
    "    \n",
    "    # in unordered lists, we added to the head. Now we must find the right spot\n",
    "    # we know we found the place when either we run our of nodes (current becomes\n",
    "    # None) or the value of the current node becomes greater than the item to be added\n",
    "    def add(self, item):\n",
    "        current = self.head\n",
    "        previous = None\n",
    "        stop = False\n",
    "        #print 'add', current\n",
    "        while current != None and not stop:\n",
    "            if current.get_data() > item:\n",
    "                stop = True\n",
    "            else:\n",
    "                previous = current\n",
    "                current = current.get_next()\n",
    "                \n",
    "        temp = Node(item)\n",
    "        if previous == None:\n",
    "            temp.set_next(self.head)\n",
    "            self.head = temp\n",
    "            #print 'previous was none'\n",
    "        else:\n",
    "            temp.set_next(current)\n",
    "            previous.set_next(temp)\n",
    "            #print 'previous was NOT none'\n",
    "            \n",
    "            \n",
    "    def printLL(self):\n",
    "        for node in enumerate(self, 1):\n",
    "            print(node, 1)\n",
    "\n"
   ]
  },
  {
   "cell_type": "code",
   "execution_count": 29,
   "metadata": {
    "collapsed": false
   },
   "outputs": [],
   "source": [
    "L1 = OrderedList()\n",
    "L1.add(2)"
   ]
  },
  {
   "cell_type": "code",
   "execution_count": 30,
   "metadata": {
    "collapsed": false
   },
   "outputs": [
    {
     "data": {
      "text/plain": [
       "True"
      ]
     },
     "execution_count": 30,
     "metadata": {},
     "output_type": "execute_result"
    }
   ],
   "source": [
    "L1.head.get_data() == 2\n",
    "#print L1.head"
   ]
  },
  {
   "cell_type": "code",
   "execution_count": 31,
   "metadata": {
    "collapsed": false
   },
   "outputs": [],
   "source": [
    "L1.add(5)\n",
    "L1.add(7)\n",
    "\n",
    "L2 = OrderedList()\n",
    "\n",
    "L2.add(3)\n",
    "L2.add(11)"
   ]
  },
  {
   "cell_type": "code",
   "execution_count": 32,
   "metadata": {
    "collapsed": false
   },
   "outputs": [],
   "source": [
    "def MergeSorted(list1, list2):\n",
    "    \n",
    "    L1_current = list1.head\n",
    "    \n",
    "    L2_current = list2.head\n",
    "    print L1_current.get_data() \n",
    "    print L2_current.get_data() \n",
    "   # return \n",
    "\n",
    "    temp = None\n",
    "    M = OrderedList()\n",
    "    \n",
    "    while L1_current != None and L2_current != None:\n",
    "        \n",
    "        print 'loop',L1_current.get_data() , L2_current.get_data()\n",
    "        if L1_current.get_data() <= L2_current.get_data():\n",
    "            temp = L1_current\n",
    "            L1_current = L1_current.get_next()\n",
    "            print 'l1<'\n",
    "        else:\n",
    "            temp = L2_current\n",
    "            L2_current = L2_current.get_next()\n",
    "            print 'l2<'\n",
    "        print \"==\",  L1_current.get_data() , L2_current.get_data()  \n",
    "        M.add(temp)  \n",
    "        \n",
    "    \n"
   ]
  },
  {
   "cell_type": "code",
   "execution_count": 27,
   "metadata": {
    "collapsed": false
   },
   "outputs": [
    {
     "name": "stdout",
     "output_type": "stream",
     "text": [
      "2\n",
      "3\n",
      "loop 2 3\n",
      "l1<\n",
      "== 5 3\n",
      "(<__main__.Node instance at 0x103ac3a70>, 1)\n",
      "loop 5 3\n",
      "l2<\n",
      "== 5 11\n",
      "(<__main__.Node instance at 0x103ac3a70>, 1)\n",
      "(<__main__.Node instance at 0x103bbf680>, 2)\n",
      "loop 5 11\n",
      "l1<\n",
      "== 7 11\n",
      "(<__main__.Node instance at 0x103ac3a70>, 1)\n",
      "(<__main__.Node instance at 0x103bbf680>, 2)\n",
      "(<__main__.Node instance at 0x103bbfa70>, 3)\n",
      "loop 7 11\n",
      "l1<\n",
      "=="
     ]
    },
    {
     "ename": "AttributeError",
     "evalue": "'NoneType' object has no attribute 'get_data'",
     "output_type": "error",
     "traceback": [
      "\u001b[0;31m---------------------------------------------------------------------------\u001b[0m",
      "\u001b[0;31mAttributeError\u001b[0m                            Traceback (most recent call last)",
      "\u001b[0;32m<ipython-input-27-d8b5a5d32722>\u001b[0m in \u001b[0;36m<module>\u001b[0;34m()\u001b[0m\n\u001b[0;32m----> 1\u001b[0;31m \u001b[0mMergeSorted\u001b[0m\u001b[0;34m(\u001b[0m\u001b[0mL1\u001b[0m\u001b[0;34m,\u001b[0m \u001b[0mL2\u001b[0m\u001b[0;34m)\u001b[0m\u001b[0;34m\u001b[0m\u001b[0m\n\u001b[0m",
      "\u001b[0;32m<ipython-input-26-67ec3063c8fe>\u001b[0m in \u001b[0;36mMergeSorted\u001b[0;34m(list1, list2)\u001b[0m\n\u001b[1;32m     22\u001b[0m             \u001b[0mL2_current\u001b[0m \u001b[0;34m=\u001b[0m \u001b[0mL2_current\u001b[0m\u001b[0;34m.\u001b[0m\u001b[0mget_next\u001b[0m\u001b[0;34m(\u001b[0m\u001b[0;34m)\u001b[0m\u001b[0;34m\u001b[0m\u001b[0m\n\u001b[1;32m     23\u001b[0m             \u001b[0;32mprint\u001b[0m \u001b[0;34m'l2<'\u001b[0m\u001b[0;34m\u001b[0m\u001b[0m\n\u001b[0;32m---> 24\u001b[0;31m         \u001b[0;32mprint\u001b[0m \u001b[0;34m\"==\"\u001b[0m\u001b[0;34m,\u001b[0m  \u001b[0mL1_current\u001b[0m\u001b[0;34m.\u001b[0m\u001b[0mget_data\u001b[0m\u001b[0;34m(\u001b[0m\u001b[0;34m)\u001b[0m \u001b[0;34m,\u001b[0m \u001b[0mL2_current\u001b[0m\u001b[0;34m.\u001b[0m\u001b[0mget_data\u001b[0m\u001b[0;34m(\u001b[0m\u001b[0;34m)\u001b[0m\u001b[0;34m\u001b[0m\u001b[0m\n\u001b[0m\u001b[1;32m     25\u001b[0m         \u001b[0mM\u001b[0m\u001b[0;34m.\u001b[0m\u001b[0madd\u001b[0m\u001b[0;34m(\u001b[0m\u001b[0mtemp\u001b[0m\u001b[0;34m)\u001b[0m\u001b[0;34m\u001b[0m\u001b[0m\n\u001b[1;32m     26\u001b[0m         \u001b[0mM\u001b[0m\u001b[0;34m.\u001b[0m\u001b[0mprintLL\u001b[0m\u001b[0;34m(\u001b[0m\u001b[0;34m)\u001b[0m\u001b[0;34m\u001b[0m\u001b[0m\n",
      "\u001b[0;31mAttributeError\u001b[0m: 'NoneType' object has no attribute 'get_data'"
     ]
    }
   ],
   "source": [
    "MergeSorted(L1, L2)"
   ]
  },
  {
   "cell_type": "code",
   "execution_count": null,
   "metadata": {
    "collapsed": false
   },
   "outputs": [],
   "source": [
    "\n"
   ]
  },
  {
   "cell_type": "code",
   "execution_count": null,
   "metadata": {
    "collapsed": true
   },
   "outputs": [],
   "source": []
  }
 ],
 "metadata": {
  "anaconda-cloud": {},
  "kernelspec": {
   "display_name": "Python [Root]",
   "language": "python",
   "name": "Python [Root]"
  },
  "language_info": {
   "codemirror_mode": {
    "name": "ipython",
    "version": 2
   },
   "file_extension": ".py",
   "mimetype": "text/x-python",
   "name": "python",
   "nbconvert_exporter": "python",
   "pygments_lexer": "ipython2",
   "version": "2.7.12"
  }
 },
 "nbformat": 4,
 "nbformat_minor": 0
}
