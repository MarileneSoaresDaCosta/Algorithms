{
 "cells": [
  {
   "cell_type": "markdown",
   "metadata": {},
   "source": [
    "## Miller, Ranum - ch 2 -Algorithm Analysis"
   ]
  },
  {
   "cell_type": "code",
   "execution_count": 2,
   "metadata": {
    "collapsed": false
   },
   "outputs": [
    {
     "name": "stdout",
     "output_type": "stream",
     "text": [
      "sum is 50005000; required  0.0015960 seconds\n",
      "sum is 50005000; required  0.0021698 seconds\n",
      "sum is 50005000; required  0.0009401 seconds\n",
      "sum is 50005000; required  0.0008960 seconds\n",
      "sum is 50005000; required  0.0010090 seconds\n"
     ]
    }
   ],
   "source": [
    "import time\n",
    "\n",
    "def sum_of_n(n):\n",
    "    start = time.time()\n",
    "    the_sum = 0\n",
    "    for i in range(1, n+1):\n",
    "        the_sum = the_sum + i\n",
    "    \n",
    "    end = time.time()\n",
    "    return the_sum, end-start\n",
    "\n",
    "for i in range(5):\n",
    "    print(\"sum is %d; required %10.7f seconds\" %sum_of_n(10000))"
   ]
  },
  {
   "cell_type": "code",
   "execution_count": 3,
   "metadata": {
    "collapsed": false
   },
   "outputs": [
    {
     "name": "stdout",
     "output_type": "stream",
     "text": [
      "sum is 500000500000; required  0.1304801 seconds\n",
      "sum is 500000500000; required  0.0780811 seconds\n",
      "sum is 500000500000; required  0.0874300 seconds\n",
      "sum is 500000500000; required  0.0889270 seconds\n",
      "sum is 500000500000; required  0.0843329 seconds\n"
     ]
    }
   ],
   "source": [
    "for i in range(5):\n",
    "    print(\"sum is %d; required %10.7f seconds\" %sum_of_n(1000000))"
   ]
  },
  {
   "cell_type": "code",
   "execution_count": 5,
   "metadata": {
    "collapsed": false
   },
   "outputs": [
    {
     "name": "stdout",
     "output_type": "stream",
     "text": [
      "sum is 50005000; required  0.0000012 seconds\n",
      "sum is 5000050000; required  0.0000000 seconds\n",
      "sum is 500000500000; required  0.0000010 seconds\n",
      "sum is 50000005000000; required  0.0000012 seconds\n",
      "sum is 5000000050000000; required  0.0000010 seconds\n"
     ]
    }
   ],
   "source": [
    "def sum_of_n2(n):\n",
    "    start = time.time()\n",
    "    end = time.time()\n",
    "    return (n*(n+1))/2, end-start\n",
    "\n",
    "print(\"sum is %d; required %10.7f seconds\" %sum_of_n2(10000))\n",
    "print(\"sum is %d; required %10.7f seconds\" %sum_of_n2(100000))\n",
    "print(\"sum is %d; required %10.7f seconds\" %sum_of_n2(1000000))\n",
    "print(\"sum is %d; required %10.7f seconds\" %sum_of_n2(10000000))\n",
    "print(\"sum is %d; required %10.7f seconds\" %sum_of_n2(100000000))\n"
   ]
  },
  {
   "cell_type": "code",
   "execution_count": 11,
   "metadata": {
    "collapsed": false
   },
   "outputs": [
    {
     "name": "stdout",
     "output_type": "stream",
     "text": [
      "(-4, 9.5367431640625e-07)\n"
     ]
    }
   ],
   "source": [
    "# page 47 Self check\n",
    "# First example: algo O(n)\n",
    "def mini(list_n):\n",
    "    start = time.time()\n",
    "    mini = 0\n",
    "    for n in list_n:\n",
    "        if n < mini:\n",
    "            mini = n\n",
    "    end = time.time()\n",
    "    return mini, end-start\n",
    "\n",
    "   \n",
    "a = [1, 5, 89, -4, 0]\n",
    "\n",
    "print mini(a)"
   ]
  },
  {
   "cell_type": "code",
   "execution_count": 12,
   "metadata": {
    "collapsed": false
   },
   "outputs": [
    {
     "name": "stdout",
     "output_type": "stream",
     "text": [
      "(-4, 7.867813110351562e-06)\n"
     ]
    }
   ],
   "source": [
    "# second example: algo O(n**2)\n",
    "\n",
    "def mini2(list_n):\n",
    "    start = time.time()\n",
    "    mini = 0\n",
    "    for n in list_n:\n",
    "        mini = n\n",
    "        for i in list_n:\n",
    "            if i < mini:\n",
    "                mini = i\n",
    "    end = time.time()            \n",
    "    return mini, end-start\n",
    "            \n",
    "           \n",
    "a = [1, 5, 89, -4, 0]\n",
    "\n",
    "print mini2(a)      "
   ]
  },
  {
   "cell_type": "code",
   "execution_count": 15,
   "metadata": {
    "collapsed": false
   },
   "outputs": [
    {
     "name": "stdout",
     "output_type": "stream",
     "text": [
      "[6, 7, 6, 3, 1, 9, 5, 1, 0, 3, 2, 0, 5, 9, 2, 1, 8, 3, 0, 0, 9, 9, 0, 1, 2, 6, 5, 3, 2, 6, 0, 4, 7, 6, 5, 1, 3, 0, 0, 4, 9, 2, 0, 2, 0, 1, 5, 5, 7, 9]\n"
     ]
    }
   ],
   "source": [
    "from pylab import rand\n",
    "\n",
    "b = rand(50)\n",
    "c = []\n",
    "for i in b:\n",
    "    c.append(int(i*10))\n",
    "    \n",
    "print c"
   ]
  },
  {
   "cell_type": "code",
   "execution_count": 16,
   "metadata": {
    "collapsed": false
   },
   "outputs": [
    {
     "name": "stdout",
     "output_type": "stream",
     "text": [
      "min is 0; required  0.0000079 seconds\n",
      "min2 is 0; required  0.0002708 seconds\n"
     ]
    }
   ],
   "source": [
    "print(\"min is %d; required %10.7f seconds\" %mini(c))\n",
    "print(\"min2 is %d; required %10.7f seconds\" %mini2(c))"
   ]
  },
  {
   "cell_type": "code",
   "execution_count": null,
   "metadata": {
    "collapsed": true
   },
   "outputs": [],
   "source": []
  }
 ],
 "metadata": {
  "kernelspec": {
   "display_name": "Python 2",
   "language": "python",
   "name": "python2"
  },
  "language_info": {
   "codemirror_mode": {
    "name": "ipython",
    "version": 2
   },
   "file_extension": ".py",
   "mimetype": "text/x-python",
   "name": "python",
   "nbconvert_exporter": "python",
   "pygments_lexer": "ipython2",
   "version": "2.7.13"
  }
 },
 "nbformat": 4,
 "nbformat_minor": 2
}
