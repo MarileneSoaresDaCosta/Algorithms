{
 "cells": [
  {
   "cell_type": "markdown",
   "metadata": {},
   "source": [
    "## simulation - printing tasks"
   ]
  },
  {
   "cell_type": "code",
   "execution_count": 1,
   "metadata": {
    "collapsed": true
   },
   "outputs": [],
   "source": [
    "class Queue:\n",
    "    def __init__(self):\n",
    "        self.items = []\n",
    "        \n",
    "    def isEmpty(self):\n",
    "        return self.items == []\n",
    "    \n",
    "    def enqueue(self, item):  # assumes that the 'rear' is at position zero\n",
    "        self.items.insert(0,item)\n",
    "        \n",
    "    def dequeue(self):\n",
    "        return self.items.pop()\n",
    "    \n",
    "    def size(self):\n",
    "        return len(self.items)\n",
    "    \n",
    "\n",
    "# tracks whether it has a current task\n",
    "class Printer:  \n",
    "    def __init__(self, ppm):\n",
    "        self.pagerate = ppm\n",
    "        self.currentTask = None\n",
    "        self.timeRemaining = 0\n",
    "\n",
    "    # decrements the internal timer and sets the printer to idle if the task is completed.\n",
    "    def tick(self):  \n",
    "        if self.currentTask != None:\n",
    "            self.timeRemaining = self.timeRemaining - 1\n",
    "            if self.timeRemaining <= 0:\n",
    "                self.currentTask = None\n",
    "\n",
    "    def busy(self):\n",
    "        if self.currentTask != None:\n",
    "            return True\n",
    "        else:\n",
    "            return False\n",
    "\n",
    "    def startNext(self,newtask):\n",
    "        self.currentTask = newtask\n",
    "        self.timeRemaining = newtask.getPages() * 60/self.pagerate\n",
    "\n",
    "        \n",
    "import random\n",
    "\n",
    "class Task:\n",
    "    def __init__(self,time):\n",
    "        self.timestamp = time\n",
    "        self.pages = random.randrange(1,21)\n",
    "\n",
    "    def getStamp(self):\n",
    "        return self.timestamp\n",
    "\n",
    "    def getPages(self):\n",
    "        return self.pages\n",
    "\n",
    "    # retrieve the amount of time spent in the queue before printing begins.\n",
    "    def waitTime(self, currenttime):\n",
    "        return currenttime - self.timestamp"
   ]
  },
  {
   "cell_type": "code",
   "execution_count": null,
   "metadata": {
    "collapsed": false
   },
   "outputs": [],
   "source": [
    "def simulation(numSeconds, pagesPerMinute):\n",
    "\n",
    "    labprinter = Printer(pagesPerMinute)\n",
    "    printQueue = Queue()\n",
    "    waitingtimes = []\n",
    "\n",
    "    for currentSecond in range(numSeconds):\n",
    "\n",
    "        if newPrintTask():\n",
    "            task = Task(currentSecond)\n",
    "            printQueue.enqueue(task)\n",
    "            \n",
    "        # If the printer is not busy and if a task is waiting,\n",
    "        if (not labprinter.busy()) and (not printQueue.isEmpty()):\n",
    "            # Remove the next task from the print queue and assign it to the printer.\n",
    "            nexttask = printQueue.dequeue() \n",
    "#             print nexttask\n",
    "            waitingtimes.append(nexttask.waitTime(currentSecond))\n",
    "            labprinter.startNext(nexttask)\n",
    "        \n",
    "        labprinter.tick()\n",
    "#         print waitingtimes\n",
    "        \n",
    "    averageWait=sum(waitingtimes)/len(waitingtimes)\n",
    "    print(\"Average Wait %6.2f secs %3d tasks remaining.\"%(averageWait,printQueue.size()))\n",
    "\n",
    "    \n",
    "def newPrintTask():\n",
    "    num = random.randrange(1,181)\n",
    "    if num == 180:  # this num reflect an expected value of 20 pages per hour (for 10 students)\n",
    "        return True\n",
    "    else:\n",
    "        return False\n",
    "\n",
    "    \n",
    "\"\"\"  \n",
    "run the simulation for a period of 60 minutes (3,600 seconds) \n",
    "using a page rate of five pages per minute. \n",
    "In addition, we will run 10 independent trials.     \n",
    "\"\"\"\n",
    "\n",
    "simulation(1800,5)\n",
    "# for i in range(10):\n",
    "#     simulation(3600,5)"
   ]
  },
  {
   "cell_type": "code",
   "execution_count": 13,
   "metadata": {
    "collapsed": false
   },
   "outputs": [
    {
     "name": "stdout",
     "output_type": "stream",
     "text": [
      "Average Wait  14.00 secs   0 tasks remaining.\n",
      "Average Wait  35.00 secs   0 tasks remaining.\n",
      "Average Wait  20.00 secs   0 tasks remaining.\n",
      "Average Wait  37.00 secs   0 tasks remaining.\n",
      "Average Wait  11.00 secs   0 tasks remaining.\n",
      "Average Wait   8.00 secs   2 tasks remaining.\n",
      "Average Wait  33.00 secs   0 tasks remaining.\n",
      "Average Wait  29.00 secs   0 tasks remaining.\n",
      "Average Wait   7.00 secs   0 tasks remaining.\n",
      "Average Wait   9.00 secs   0 tasks remaining.\n"
     ]
    }
   ],
   "source": [
    "# for i in range(10):\n",
    "#     simulation(3600,10)"
   ]
  },
  {
   "cell_type": "code",
   "execution_count": null,
   "metadata": {
    "collapsed": true
   },
   "outputs": [],
   "source": []
  },
  {
   "cell_type": "code",
   "execution_count": null,
   "metadata": {
    "collapsed": true
   },
   "outputs": [],
   "source": []
  }
 ],
 "metadata": {
  "kernelspec": {
   "display_name": "Python 2",
   "language": "python",
   "name": "python2"
  },
  "language_info": {
   "codemirror_mode": {
    "name": "ipython",
    "version": 2
   },
   "file_extension": ".py",
   "mimetype": "text/x-python",
   "name": "python",
   "nbconvert_exporter": "python",
   "pygments_lexer": "ipython2",
   "version": "2.7.13"
  }
 },
 "nbformat": 4,
 "nbformat_minor": 2
}
