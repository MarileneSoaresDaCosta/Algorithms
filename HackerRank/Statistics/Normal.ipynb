{
 "cells": [
  {
   "cell_type": "code",
   "execution_count": 16,
   "metadata": {},
   "outputs": [
    {
     "name": "stdout",
     "output_type": "stream",
     "text": [
      "20 2\n",
      "19.5\n",
      "20 22\n",
      "0.401\n",
      "0.341\n"
     ]
    }
   ],
   "source": [
    "\"\"\"\n",
    "\n",
    "problem:\n",
    "input\n",
    "mean stddev\n",
    "less than h\n",
    "between h1 h2\n",
    "\n",
    "ex:\n",
    "20 2\n",
    "19.5\n",
    "20 22\n",
    "\n",
    "probability density function of normal distribution\n",
    "\n",
    "N(mean, var) = (1/(stddev * ((2 * pi)^(1/2)))) * exp(-1 * (x - mean)^2 / (2*var) )\n",
    "\n",
    "\n",
    "\n",
    "math.erf(x)\n",
    "Return the error function at x.\n",
    "\n",
    "The erf() function can be used to compute traditional statistical functions \n",
    "such as the cumulative standard normal distribution:\n",
    "\n",
    "def phi(x):\n",
    "    'Cumulative distribution function for the standard normal distribution'\n",
    "    return (1.0 + erf(x / sqrt(2.0))) / 2.0\n",
    "\n",
    "\"\"\"\n",
    "from math import erf, sqrt\n",
    "\n",
    "dist = list(map(int,input().strip().split(\" \")))\n",
    "# print(dist)\n",
    "mean = dist[0]\n",
    "stdd = dist[1]\n",
    "\n",
    "pr1 = float(input())\n",
    "pr2 = list(map(int,input().strip().split(\" \")))\n",
    "h1 = pr2[0]\n",
    "h2= pr2[1]\n",
    "\n",
    "def phi(mean, stddev, x):\n",
    "    return (1/2) * ( 1.0 + erf( (x - mean) / (stddev * sqrt(2.0)) ) )\n",
    "\n",
    "\n",
    "# less than 19.5 hours\n",
    "print(round(phi(mean, stdd, pr1),3))\n",
    "\n",
    "print(round((phi(mean, stdd, h2) - phi(mean, stdd, h1)),3))\n"
   ]
  },
  {
   "cell_type": "code",
   "execution_count": 28,
   "metadata": {},
   "outputs": [
    {
     "name": "stdout",
     "output_type": "stream",
     "text": [
      "70 10\n",
      "80\n",
      "60\n",
      "15.87\n",
      "84.13\n",
      "15.87\n"
     ]
    }
   ],
   "source": [
    "from math import erf, sqrt\n",
    "\n",
    "dist = list(map(int,input().strip().split(\" \")))\n",
    "# print(dist)\n",
    "mean = dist[0]\n",
    "stdd = dist[1]\n",
    "\n",
    "pr1 = int(input())  # 80\n",
    "pr2 = int(input())  # 60\n",
    "\n",
    "def phi(mean, stddev, x):\n",
    "    return (1/2) * ( 1.0 + erf( (x - mean) / (stddev * sqrt(2.0)) ) )\n",
    "\n",
    "# less than 80\n",
    "# print(round(phi(mean, stdd, pr1),2))\n",
    "\n",
    "# less than 60\n",
    "# print(round(phi(mean, stdd, pr2),2))\n",
    "\n",
    "# above 80\n",
    "print(round((1-phi(mean, stdd, pr1)) * 100 ,2))\n",
    "\n",
    "# passed test >= 60\n",
    "print(round((1-phi(mean, stdd, pr2)) * 100 ,2))\n",
    "\n",
    "# less than 60\n",
    "print(round(phi(mean, stdd, pr2)*100,2))"
   ]
  },
  {
   "cell_type": "code",
   "execution_count": null,
   "metadata": {},
   "outputs": [],
   "source": []
  }
 ],
 "metadata": {
  "kernelspec": {
   "display_name": "Python 3",
   "language": "python",
   "name": "python3"
  },
  "language_info": {
   "codemirror_mode": {
    "name": "ipython",
    "version": 3
   },
   "file_extension": ".py",
   "mimetype": "text/x-python",
   "name": "python",
   "nbconvert_exporter": "python",
   "pygments_lexer": "ipython3",
   "version": "3.7.7"
  }
 },
 "nbformat": 4,
 "nbformat_minor": 4
}
