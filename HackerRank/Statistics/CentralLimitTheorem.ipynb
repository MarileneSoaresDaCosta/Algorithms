{
 "cells": [
  {
   "cell_type": "code",
   "execution_count": 5,
   "metadata": {},
   "outputs": [
    {
     "name": "stdout",
     "output_type": "stream",
     "text": [
      "9800\n",
      "49\n",
      "205\n",
      "15\n",
      "1.0\n",
      "0.0098\n"
     ]
    }
   ],
   "source": [
    "\"\"\"\n",
    "\n",
    "problem input:\n",
    "x (max weight)\n",
    "n\n",
    "mean\n",
    "std deviation\n",
    "\n",
    "\n",
    "probability density function of normal distribution\n",
    "\n",
    "N(mean, var) = (1/(stddev * ((2 * pi)^(1/2)))) * exp(-1 * (x - mean)^2 / (2*var) )\n",
    "\n",
    "\n",
    "\n",
    "math.erf(x)\n",
    "Return the error function at x.\n",
    "\n",
    "The erf() function can be used to compute traditional statistical functions \n",
    "such as the cumulative standard normal distribution:\n",
    "\n",
    "def phi(x):\n",
    "    'Cumulative distribution function for the standard normal distribution'\n",
    "    return (1.0 + erf(x / sqrt(2.0))) / 2.0\n",
    "\n",
    "\n",
    "example:\n",
    "input\n",
    "9800\n",
    "49\n",
    "205\n",
    "15\n",
    "\n",
    "output\n",
    "0.0098\n",
    "\n",
    "\"\"\"\n",
    "import math\n",
    "\n",
    "x = int(input().strip())\n",
    "n = int(input().strip())\n",
    "mu = int(input().strip())\n",
    "sigma = int(input().strip())\n",
    "\n",
    "mu_sum = n * mu\n",
    "sigma_sum = math.sqrt(n) * sigma\n",
    "\n",
    "\n",
    "def phi(mean, stddev, x):\n",
    "    return (1/2) * ( 1.0 + math.erf( (x - mean) / (stddev * math.sqrt(2.0)) ) )\n",
    "\n",
    "print(round(phi(mu, sigma, x),4))\n",
    "\n",
    "def cdf(x, mu, sigma):\n",
    "    Z = (x - mu)/sigma\n",
    "    return 0.5*(1 + math.erf(Z/(math.sqrt(2))))\n",
    "\n",
    "print(round(cdf(x, mu_sum, sigma_sum), 4))"
   ]
  },
  {
   "cell_type": "code",
   "execution_count": 12,
   "metadata": {},
   "outputs": [
    {
     "name": "stdout",
     "output_type": "stream",
     "text": [
      "0.0098\n",
      "cdf z: -2.3333333333333335\n",
      "0.0098\n"
     ]
    }
   ],
   "source": [
    "import math\n",
    "\n",
    "x = 9800\n",
    "n = 49\n",
    "mu = 205\n",
    "sigma = 15\n",
    "\n",
    "mu_sum = n * mu\n",
    "sigma_sum = math.sqrt(n) * sigma\n",
    "\n",
    "\n",
    "def phi(mean, stddev, x):\n",
    "    return (1/2) * ( 1.0 + math.erf( (x - mean) / (stddev * math.sqrt(2.0)) ) )\n",
    "\n",
    "print(round(phi(mu_sum, sigma_sum, x),4))\n",
    "\n",
    "def cdf(x, mu, sigma):\n",
    "    Z = (x - mu)/sigma\n",
    "    print(\"cdf z:\", Z )\n",
    "    return 0.5*(1 + math.erf(Z/(math.sqrt(2))))\n",
    "\n",
    "print(round(cdf(x, mu_sum, sigma_sum), 4))"
   ]
  },
  {
   "cell_type": "code",
   "execution_count": null,
   "metadata": {},
   "outputs": [],
   "source": []
  }
 ],
 "metadata": {
  "kernelspec": {
   "display_name": "Python 3",
   "language": "python",
   "name": "python3"
  },
  "language_info": {
   "codemirror_mode": {
    "name": "ipython",
    "version": 3
   },
   "file_extension": ".py",
   "mimetype": "text/x-python",
   "name": "python",
   "nbconvert_exporter": "python",
   "pygments_lexer": "ipython3",
   "version": "3.7.7"
  }
 },
 "nbformat": 4,
 "nbformat_minor": 4
}
