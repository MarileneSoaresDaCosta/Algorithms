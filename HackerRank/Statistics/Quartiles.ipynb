{
 "cells": [
  {
   "cell_type": "code",
   "execution_count": 27,
   "metadata": {},
   "outputs": [
    {
     "name": "stdout",
     "output_type": "stream",
     "text": [
      "10\n",
      "3 7 8 5 12 14 21 15 18 14\n",
      "sorted array:  [3, 5, 7, 8, 12, 14, 14, 15, 18, 21]\n",
      "mid index for even case 5\n",
      "lowerhalf:  [3, 5, 7, 8, 12]\n",
      "upperhalf: [14, 14, 15, 18, 21]\n",
      "7\n",
      "13\n",
      "15\n"
     ]
    }
   ],
   "source": [
    "\"\"\"\n",
    "sample input:\n",
    "\n",
    "9\n",
    "3 7 8 5 12 14 21 13 18\n",
    "\n",
    "\n",
    "test case\n",
    "10\n",
    "3 7 8 5 12 14 21 15 18 14\n",
    "\"\"\"\n",
    "\n",
    "n = int(input())\n",
    "raw_array = input().strip().split(\" \")\n",
    "arr = []\n",
    "for el in raw_array:\n",
    "    arr.append(int(el))\n",
    "    \n",
    "sorted_arr = sorted(arr)\n",
    "print(\"sorted array: \", sorted_arr)\n",
    "\n",
    "def findMedian(sortedlist, listsize):\n",
    "    if listsize%2 == 0:\n",
    "        middle_lower = int((listsize / 2)) - 1\n",
    "        middle_higher = int(listsize / 2)\n",
    "        median = (sortedlist[middle_lower] + sortedlist[middle_higher])/2\n",
    "    \n",
    "    else:\n",
    "        middle = int((listsize / 2))\n",
    "        median = sortedlist[middle]\n",
    "        \n",
    "    return int(median)\n",
    "\n",
    "q2 = findMedian(sorted_arr, n)\n",
    "\n",
    "\n",
    "lowerhalf = []\n",
    "upperhalf = []\n",
    "# generate lower and upper half\n",
    "if n%2 == 0:\n",
    "    mid_index = int((n / 2))\n",
    "    print(\"mid index for even case\", mid_index)\n",
    "    lowerhalf = sorted_arr[0:mid_index]\n",
    "    upperhalf = sorted_arr[mid_index : n]\n",
    "else:\n",
    "    mid_index = int(n/2)\n",
    "    lowerhalf = sorted_arr[0:mid_index]\n",
    "    upperhalf = sorted_arr[(mid_index + 1) : n]\n",
    "    \n",
    "print(\"lowerhalf: \",lowerhalf)\n",
    "print(\"upperhalf:\", upperhalf)\n",
    "\n",
    "q1 = findMedian(lowerhalf, len(lowerhalf))\n",
    "q3 = findMedian(upperhalf, len(upperhalf))\n",
    "\n",
    "# output\n",
    "\n",
    "print(q1)\n",
    "print(q2)\n",
    "print(q3)\n"
   ]
  },
  {
   "cell_type": "code",
   "execution_count": null,
   "metadata": {},
   "outputs": [],
   "source": []
  }
 ],
 "metadata": {
  "kernelspec": {
   "display_name": "Python 3",
   "language": "python",
   "name": "python3"
  },
  "language_info": {
   "codemirror_mode": {
    "name": "ipython",
    "version": 3
   },
   "file_extension": ".py",
   "mimetype": "text/x-python",
   "name": "python",
   "nbconvert_exporter": "python",
   "pygments_lexer": "ipython3",
   "version": "3.7.7"
  }
 },
 "nbformat": 4,
 "nbformat_minor": 4
}
