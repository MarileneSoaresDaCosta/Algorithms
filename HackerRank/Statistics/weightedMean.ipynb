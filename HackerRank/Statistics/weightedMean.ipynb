{
 "cells": [
  {
   "cell_type": "code",
   "execution_count": 5,
   "metadata": {},
   "outputs": [
    {
     "name": "stdout",
     "output_type": "stream",
     "text": [
      "enter first num:5\n",
      "enter nums for x array:11 23 445 56 67\n",
      "enter nums for w array:1 2 3 4 5\n",
      "130.06667\n"
     ]
    }
   ],
   "source": [
    "\"\"\"\n",
    "5\n",
    "10 40 30 50 20\n",
    "1 2 3 4 5\n",
    "\"\"\"\n",
    "\n",
    "n = int(input(\"enter first num:\"))\n",
    "\n",
    "xArr_raw = input(\"enter nums for x array:\").strip().split(\" \")\n",
    "\n",
    "wArr_raw = input(\"enter nums for w array:\").strip().split(\" \")\n",
    "\n",
    "xArr = []\n",
    "wArr = []\n",
    "\n",
    "for i in range(0, n):\n",
    "    xArr.append(int(xArr_raw[i]))\n",
    "    wArr.append(int(wArr_raw[i]))\n",
    "    \n",
    "numer = 0\n",
    "denon = sum(wArr)\n",
    "\n",
    "for i in range(0, n):\n",
    "        prod = xArr[i] * wArr[i]\n",
    "        numer += prod\n",
    "wm = round(numer / denon, 1)\n",
    "print(wm)\n"
   ]
  },
  {
   "cell_type": "markdown",
   "metadata": {},
   "source": [
    " "
   ]
  }
 ],
 "metadata": {
  "kernelspec": {
   "display_name": "Python 3",
   "language": "python",
   "name": "python3"
  },
  "language_info": {
   "codemirror_mode": {
    "name": "ipython",
    "version": 3
   },
   "file_extension": ".py",
   "mimetype": "text/x-python",
   "name": "python",
   "nbconvert_exporter": "python",
   "pygments_lexer": "ipython3",
   "version": "3.7.7"
  }
 },
 "nbformat": 4,
 "nbformat_minor": 4
}
