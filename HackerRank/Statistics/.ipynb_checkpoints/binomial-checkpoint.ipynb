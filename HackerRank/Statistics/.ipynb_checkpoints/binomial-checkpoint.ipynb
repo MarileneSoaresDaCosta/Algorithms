{
 "cells": [
  {
   "cell_type": "code",
   "execution_count": 29,
   "metadata": {},
   "outputs": [
    {
     "name": "stdout",
     "output_type": "stream",
     "text": [
      "1.09 1\n",
      "0.696\n"
     ]
    }
   ],
   "source": [
    "\"\"\"\n",
    "where number of successes is x\n",
    "total number of trials is n\n",
    "probability of success of 1 trial is p\n",
    "probability of failure of 1 trial is q, where q = 1 - p\n",
    "\n",
    "probability of having exactly x successes out of n trials:\n",
    "b(x, n, p) = combination(n, x) * p^x * q^(n-x)\n",
    "\n",
    "\n",
    "\n",
    "in the example:\n",
    "ratio of success (boy to girl) = 1.09 : 1\n",
    "or, prob of success is (1.09 / 2.09)\n",
    "b(3, 6, (1.09 / 2.09) )\n",
    "\n",
    "we want to know prob of AT LEAST 3 success events = we want to know a cumulative probability\n",
    "since there are 2 children, CDF should be the cum. prob of 3, 4, 5 or 6 successes.\n",
    "\n",
    "combination (n, x) = fact(n) / (fact(x) * (fact (n - x)))\n",
    "\n",
    "\"\"\"\n",
    "\n",
    "def fact(n):\n",
    "    res = 1\n",
    "    for i in range(1, n + 1):\n",
    "        res = res * i\n",
    "    return res\n",
    "\n",
    "def comb(n, x):\n",
    "    return fact(n) / (fact(x) * (fact (n - x)))\n",
    "\n",
    "def bi(x, n, p):\n",
    "    return comb(n, x) * (p**x) * ((1-p)**(n-x))\n",
    "\n",
    "\"\"\" \n",
    "b = 1.09\n",
    "g = 1\n",
    "\"\"\"\n",
    "l = list(map(float, input().strip().split(\" \")))\n",
    "b = l[0]\n",
    "g = l[1]\n",
    "p = b / (b + g)\n",
    "\n",
    "s = 0\n",
    "for i in range(3, 7):\n",
    "    s += bi(i, 6, p)\n",
    "\n",
    "print(round(s, 3))\n",
    "    \n"
   ]
  },
  {
   "cell_type": "code",
   "execution_count": 40,
   "metadata": {},
   "outputs": [
    {
     "name": "stdout",
     "output_type": "stream",
     "text": [
      "12 10\n",
      "0.109\n",
      "0.721\n"
     ]
    }
   ],
   "source": [
    "\"\"\"\n",
    "Task\n",
    "A manufacturer of metal pistons finds that, on average,  of the pistons they \n",
    "manufacture 12% are rejected because they are incorrectly sized. \n",
    "What is the probability that a batch of 10 pistons will contain:\n",
    ">> No more than 2 rejects?\n",
    ">> At least 2 rejects?\n",
    "\n",
    "\n",
    "Input Format\n",
    "A single line containing the following values (denoting the respective \n",
    "percentage of defective pistons and the size of the current batch of pistons):\n",
    ">> 12 10\n",
    "\n",
    "If you do not wish to read this information from stdin, you can hard-code it into your program.\n",
    "\n",
    "Output Format\n",
    "\n",
    "Print the answer to each question on its own line:\n",
    "\n",
    "The first line should contain the probability that a batch of 10 pistons \n",
    "will contain no more than 2 rejects.\n",
    "\n",
    "The second line should contain the probability that a batch of 10 pistons \n",
    "will contain at least 2 rejects.\n",
    "\n",
    "Round both of your answers to a scale of 3 decimal places (i.e.,  format).\n",
    "\"\"\"\n",
    "\n",
    "\n",
    "def fact(n):\n",
    "    res = 1\n",
    "    for i in range(1, n + 1):\n",
    "        res = res * i\n",
    "    return res\n",
    "\n",
    "def comb(n, x):\n",
    "    return fact(n) / (fact(x) * (fact (n - x)))\n",
    "\n",
    "def bi(x, n, p):\n",
    "    return comb(n, x) * (p**x) * ((1-p)**(n-x))\n",
    "\n",
    "l = list(map(int, input().strip().split(\" \")))\n",
    "p = l[0] / 100\n",
    "n = l[1]\n",
    "s = 0\n",
    "# print(p, n)\n",
    "\n",
    "# prob of at least 2 defects b(x >= 2, n, p)\n",
    "for i in range(1, 3):\n",
    "    s += bi(i, n, p)\n",
    "\n",
    "print(round(s, 3))\n",
    "\n",
    "# prob of at most 2 defects b(x <= 2, n, p)\n",
    "for i in range(3, 11):\n",
    "    s += bi(i, n, p)\n",
    "    \n",
    "print(round(s, 3))\n",
    "\n",
    "\n"
   ]
  },
  {
   "cell_type": "code",
   "execution_count": null,
   "metadata": {},
   "outputs": [],
   "source": []
  }
 ],
 "metadata": {
  "kernelspec": {
   "display_name": "Python 3",
   "language": "python",
   "name": "python3"
  },
  "language_info": {
   "codemirror_mode": {
    "name": "ipython",
    "version": 3
   },
   "file_extension": ".py",
   "mimetype": "text/x-python",
   "name": "python",
   "nbconvert_exporter": "python",
   "pygments_lexer": "ipython3",
   "version": "3.7.7"
  }
 },
 "nbformat": 4,
 "nbformat_minor": 4
}
