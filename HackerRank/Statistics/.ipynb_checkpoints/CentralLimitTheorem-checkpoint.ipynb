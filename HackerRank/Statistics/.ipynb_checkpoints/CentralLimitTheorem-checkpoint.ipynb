{
 "cells": [
  {
   "cell_type": "code",
   "execution_count": 13,
   "metadata": {},
   "outputs": [
    {
     "name": "stdout",
     "output_type": "stream",
     "text": [
      "9800\n",
      "49\n",
      "205\n",
      "15\n",
      "0.0098\n"
     ]
    }
   ],
   "source": [
    "\"\"\"\n",
    "\n",
    "problem input:\n",
    "x (max weight)\n",
    "n\n",
    "mean\n",
    "std deviation\n",
    "\n",
    "\n",
    "probability density function of normal distribution\n",
    "\n",
    "N(mean, var) = (1/(stddev * ((2 * pi)^(1/2)))) * exp(-1 * (x - mean)^2 / (2*var) )\n",
    "\n",
    "\n",
    "\n",
    "math.erf(x)\n",
    "Return the error function at x.\n",
    "\n",
    "The erf() function can be used to compute traditional statistical functions \n",
    "such as the cumulative standard normal distribution:\n",
    "\n",
    "def phi(x):\n",
    "    'Cumulative distribution function for the standard normal distribution'\n",
    "    return (1.0 + erf(x / sqrt(2.0))) / 2.0\n",
    "\n",
    "\n",
    "example:\n",
    "input\n",
    "9800\n",
    "49\n",
    "205\n",
    "15\n",
    "\n",
    "output\n",
    "0.0098\n",
    "\n",
    "\"\"\"\n",
    "import math\n",
    "\n",
    "x = int(input().strip())\n",
    "n = int(input().strip())\n",
    "mu = int(input().strip())\n",
    "sigma = int(input().strip())\n",
    "\n",
    "mu_sum = n * mu\n",
    "sigma_sum = math.sqrt(n) * sigma\n",
    "\n",
    "\n",
    "def phi(mean, stddev, x):\n",
    "    return (1/2) * ( 1.0 + math.erf( (x - mean) / (stddev * math.sqrt(2.0)) ) )\n",
    "\n",
    "print(round(phi(mu_sum, sigma_sum, x),4))\n",
    "\n"
   ]
  },
  {
   "cell_type": "code",
   "execution_count": null,
   "metadata": {},
   "outputs": [],
   "source": [
    "\"\"\"\n",
    "for problem CLT II, only change input reading \n",
    "\"\"\"\n",
    "import math\n",
    "\n",
    "x = int(input().strip())\n",
    "n = int(input().strip())\n",
    "mu = float(input().strip())\n",
    "sigma = float(input().strip())\n",
    "\n",
    "mu_sum = n * mu\n",
    "sigma_sum = math.sqrt(n) * sigma\n",
    "\n",
    "\n",
    "def phi(mean, stddev, x):\n",
    "    return (1/2) * ( 1.0 + math.erf( (x - mean) / (stddev * math.sqrt(2.0)) ) )\n",
    "\n",
    "print(round(phi(mu_sum, sigma_sum, x),4))\n"
   ]
  },
  {
   "cell_type": "code",
   "execution_count": 15,
   "metadata": {},
   "outputs": [
    {
     "name": "stdout",
     "output_type": "stream",
     "text": [
      "100\n",
      "500\n",
      "80\n",
      "0.95\n",
      "1.96\n",
      "484.32\n",
      "515.68\n"
     ]
    }
   ],
   "source": [
    "\"\"\"\n",
    "problem III\n",
    "Task\n",
    "You have a sample of n = 100 values from a population with mean mu = 500 and with standard deviation sigma = 80. \n",
    "Compute the interval that covers the middle 95% of the distribution of the sample mean; \n",
    "in other words, compute A and B such that P (A < x < B) = 0.95 Use the value of z = 1.96 \n",
    "Note that z is the z-score.\n",
    "\n",
    "Input Format\n",
    "\n",
    "100\n",
    "500\n",
    "80\n",
    ".95\n",
    "1.96\n",
    "\n",
    "The first line contains the sample size. \n",
    "The second and third lines contain the respective mean () and standard deviation (). \n",
    "The fourth line contains the distribution percentage we want to cover (as a decimal), \n",
    "and the fifth line contains the value of .\n",
    "\n",
    "Output Format\n",
    "\n",
    "Print the following two lines of output, rounded to a scale of 2 decimal places (i.e.,  format):\n",
    "\n",
    "On the first line, print the value of A.\n",
    "On the second line, print the value of B.\n",
    "\n",
    "\"\"\"\n",
    "\n",
    "n = float(input())\n",
    "mu = float(input())\n",
    "sigma = float(input())\n",
    "interval = float(input())\n",
    "z = float (input())\n",
    "\n",
    "sigma_sample = sigma / (n ** 0.5)\n",
    "print(round(mu - sigma_sample * z, 2))\n",
    "print(round(mu + sigma_sample * z, 2))\n"
   ]
  },
  {
   "cell_type": "code",
   "execution_count": null,
   "metadata": {},
   "outputs": [],
   "source": []
  }
 ],
 "metadata": {
  "kernelspec": {
   "display_name": "Python 3",
   "language": "python",
   "name": "python3"
  },
  "language_info": {
   "codemirror_mode": {
    "name": "ipython",
    "version": 3
   },
   "file_extension": ".py",
   "mimetype": "text/x-python",
   "name": "python",
   "nbconvert_exporter": "python",
   "pygments_lexer": "ipython3",
   "version": "3.7.7"
  }
 },
 "nbformat": 4,
 "nbformat_minor": 4
}
