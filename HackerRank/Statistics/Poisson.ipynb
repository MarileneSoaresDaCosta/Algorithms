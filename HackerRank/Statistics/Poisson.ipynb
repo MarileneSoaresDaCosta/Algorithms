{
 "cells": [
  {
   "cell_type": "code",
   "execution_count": 2,
   "metadata": {},
   "outputs": [
    {
     "name": "stdout",
     "output_type": "stream",
     "text": [
      "1\n",
      "148.4131591025766\n"
     ]
    }
   ],
   "source": [
    "\"\"\"\n",
    "Poisson Distribution I\n",
    "\n",
    "P(k, Lambda) = [ Lambda^(k) * e ^(-Lambda) ] / fact(k)\n",
    " \n",
    "where\n",
    "math.factorial(x) = fact(x)\n",
    "math.exp(x) = e to the power of x\n",
    "Lambda  is the average number of successes\n",
    "k actual number of successes\n",
    "\n",
    "P(k, Lambda) is the poisson prob, the prob of getting exactly k successes when\n",
    "the average num of successes is Lambda\n",
    "\"\"\"\n"
   ]
  },
  {
   "cell_type": "code",
   "execution_count": 13,
   "metadata": {},
   "outputs": [
    {
     "name": "stdout",
     "output_type": "stream",
     "text": [
      "2.5\n",
      "2\n",
      "0.257\n"
     ]
    }
   ],
   "source": [
    "\"\"\" problem\n",
    "a random var X follows Poisson distribution with mean 2.5\n",
    "find the prob with which X == 5\n",
    "\n",
    "input format\n",
    "2.5\n",
    "5\n",
    "\n",
    "output format \n",
    "3 decimal places\n",
    "\"\"\" \n",
    "\n",
    "from math import factorial, exp\n",
    "L = float(input().strip())\n",
    "k = int(input().strip())\n",
    "prob = ( L**k * exp(-L)) / factorial(k)\n",
    "\n",
    "print(round(prob,3))"
   ]
  },
  {
   "cell_type": "code",
   "execution_count": 17,
   "metadata": {},
   "outputs": [
    {
     "name": "stdout",
     "output_type": "stream",
     "text": [
      "0.88 1.55\n",
      "226.176\n",
      "286.1\n"
     ]
    }
   ],
   "source": [
    "\"\"\"\n",
    "Poisson Distribution II\n",
    "\n",
    "Special Case\n",
    "E[X] is the expected value of X. Find the value of E[X^2]\n",
    "\n",
    "if a random var has a poisson distr, then \n",
    "E[X] = Lambda\n",
    "Var(X) = Lambda\n",
    "\n",
    "Since   Var(X) = E[X^2] - (E[X])^2\n",
    "        E[X^2] = Var(X) + (E[X])^2\n",
    "        E[X^2] = Lambda + Lambda^2\n",
    "        \n",
    "Problem:\n",
    "machine A: number or repairs X with mean 0.88. Cost C = 160 + 40X^2\n",
    "machine B: number or repairs Y with mean 1.55. Cost C = 128 + 40Y^2\n",
    "\n",
    "\n",
    "Print expected daily cost for each machine\n",
    "\"\"\"\n",
    "lambdas = list(map(float, input().strip().split(\" \")))\n",
    "xlam = lambdas[0]\n",
    "ylam = lambdas[1]\n",
    "# print(lambdas)\n",
    "               \n",
    "# cost for machine A\n",
    "A = 160 + 40*(xlam + xlam**2)\n",
    "B = 128 + 40*(ylam + ylam**2)\n",
    "print(round(A,3))\n",
    "print(round(B, 3))\n"
   ]
  },
  {
   "cell_type": "code",
   "execution_count": null,
   "metadata": {},
   "outputs": [],
   "source": []
  }
 ],
 "metadata": {
  "kernelspec": {
   "display_name": "Python 3",
   "language": "python",
   "name": "python3"
  },
  "language_info": {
   "codemirror_mode": {
    "name": "ipython",
    "version": 3
   },
   "file_extension": ".py",
   "mimetype": "text/x-python",
   "name": "python",
   "nbconvert_exporter": "python",
   "pygments_lexer": "ipython3",
   "version": "3.7.7"
  }
 },
 "nbformat": 4,
 "nbformat_minor": 4
}
