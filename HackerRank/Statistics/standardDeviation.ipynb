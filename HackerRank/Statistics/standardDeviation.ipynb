{
 "cells": [
  {
   "cell_type": "code",
   "execution_count": 22,
   "metadata": {},
   "outputs": [
    {
     "name": "stdout",
     "output_type": "stream",
     "text": [
      "5\n",
      "10 40 30 50 20\n",
      "400.0\n",
      "400.0\n",
      "100.0\n",
      "500.0\n",
      "0.0\n",
      "500.0\n",
      "400.0\n",
      "900.0\n",
      "100.0\n",
      "1000.0\n",
      "14.1\n"
     ]
    }
   ],
   "source": [
    "\"\"\" \n",
    "sample input\n",
    "\n",
    "5\n",
    "10 40 30 50 20\n",
    "\"\"\"\n",
    "\n",
    "n = int(input())\n",
    "arr = list(map(int, input().strip().split(\" \")))\n",
    "\n",
    "total = 0\n",
    "for el in arr:\n",
    "    total += el\n",
    "\n",
    "mean = total / n\n",
    "sqrdSum = 0\n",
    "\n",
    "for el in arr:\n",
    "    sqrd = (el - mean)**2\n",
    "#     print(sqrd)\n",
    "    sqrdSum += sqrd\n",
    "#     print(sqrdSum)\n",
    "    \n",
    "stddev = round((sqrdSum / n)**(1/2), 1)\n",
    "print(stddev)\n",
    "\n"
   ]
  },
  {
   "cell_type": "code",
   "execution_count": null,
   "metadata": {},
   "outputs": [],
   "source": []
  }
 ],
 "metadata": {
  "kernelspec": {
   "display_name": "Python 3",
   "language": "python",
   "name": "python3"
  },
  "language_info": {
   "codemirror_mode": {
    "name": "ipython",
    "version": 3
   },
   "file_extension": ".py",
   "mimetype": "text/x-python",
   "name": "python",
   "nbconvert_exporter": "python",
   "pygments_lexer": "ipython3",
   "version": "3.7.7"
  }
 },
 "nbformat": 4,
 "nbformat_minor": 4
}
