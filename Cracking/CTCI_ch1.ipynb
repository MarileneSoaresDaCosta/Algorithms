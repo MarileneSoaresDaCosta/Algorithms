{
 "cells": [
  {
   "cell_type": "code",
   "execution_count": 3,
   "metadata": {},
   "outputs": [
    {
     "name": "stdout",
     "output_type": "stream",
     "text": [
      "It is raining cats and dogs.\n"
     ]
    }
   ],
   "source": [
    "\"\"\"\n",
    "Chapter 1 - Arrays and Strings\n",
    "\"\"\"\n",
    "\n",
    "# Concatenation of words into a sentence\n",
    "\n",
    "# Using built-in function \n",
    "word_list = [\"It\", \"is\", \"raining\", \"cats\", \"and\", \"dogs\"]\n",
    "sentence = ' '.join(word_list)+\".\"\n",
    "print(sentence)"
   ]
  },
  {
   "cell_type": "code",
   "execution_count": 7,
   "metadata": {},
   "outputs": [
    {
     "name": "stdout",
     "output_type": "stream",
     "text": [
      "It is raining cats and dogs.\n"
     ]
    }
   ],
   "source": [
    "# Using a for loop\n",
    "\n",
    "s2 = ''\n",
    "for i in range(len(word_list)-1):\n",
    "    s2 += word_list[i]\n",
    "    s2 += \" \"\n",
    "s2 += word_list[len(word_list)-1]\n",
    "s2 += \".\"\n",
    "print(s2)"
   ]
  },
  {
   "cell_type": "code",
   "execution_count": 27,
   "metadata": {},
   "outputs": [
    {
     "name": "stdout",
     "output_type": "stream",
     "text": [
      "False\n"
     ]
    }
   ],
   "source": [
    "\"\"\" \n",
    "Interview questions\n",
    "ch 1, q1: Is unique - implement an algorithm to determine if a string has all unique characters\n",
    "          What if you cannot use additional data structures?\n",
    "\"\"\"\n",
    "# from the solutions git - using another data structure\n",
    "def unique(string):\n",
    "    # Assuming character set is ASCII (128 characters), O(n)\n",
    "    if len(string) > 128:\n",
    "        return False\n",
    "\n",
    "    char_set = [False for _ in range(128)]\n",
    "    for char in string:\n",
    "        val = ord(char)\n",
    "        print(val)\n",
    "        if char_set[val]:\n",
    "            # Char already found in string\n",
    "            return False\n",
    "        char_set[val] = True\n",
    "\n",
    "    return True\n",
    "\n",
    "# print(char_set)\n",
    "test1 = unique('23ds2')\n",
    "print(test1)"
   ]
  },
  {
   "cell_type": "code",
   "execution_count": 29,
   "metadata": {},
   "outputs": [
    {
     "name": "stdout",
     "output_type": "stream",
     "text": [
      "passed true case\n",
      "passed false case\n"
     ]
    }
   ],
   "source": [
    "# my solution, without using another data structure, but O(n^2)\n",
    "\n",
    "def isUnique(string):\n",
    "\tstring = string.lower()\n",
    "\tfor i in range(0, len(string) - 1):\n",
    "\t\tfor j in range(i+1, len(string)):\n",
    "\t\t\t# print(string[i], string[j])\n",
    "\t\t\tif string[i] == string[j]:\n",
    "\t\t\t\t# print(string[i], string[j])\n",
    "\t\t\t\treturn False\n",
    "\treturn True\n",
    "\n",
    "\n",
    "\n",
    "# testing:\n",
    "if isUnique('abcd') == True:\n",
    "\tprint('passed true case')\n",
    "else:\n",
    "\tprint ('failed')\n",
    "\n",
    "\n",
    "if isUnique('abcc') == False:\n",
    "\tprint('passed false case')\t\n",
    "else:\n",
    "\tprint ('failed')"
   ]
  },
  {
   "cell_type": "code",
   "execution_count": 46,
   "metadata": {},
   "outputs": [
    {
     "name": "stdout",
     "output_type": "stream",
     "text": [
      "passed true case\n",
      "passed false case\n"
     ]
    }
   ],
   "source": [
    "\"\"\"\n",
    "c1, q2 - Check permutation: given two strings, write a method to decide if one is a permutation of the other\n",
    "\"\"\"\n",
    "\n",
    "# Using built-in functions, assuming case insensitive, space sensitive\n",
    "def isPermutation(string1, string2):\n",
    "    if len(string1) != len(string2):\n",
    "        return False\n",
    "    \n",
    "    sorted1 = sorted(string1.lower())\n",
    "    sorted2 = sorted(string2.lower())\n",
    "    \n",
    "    for i in range(len(string1)):\n",
    "#         print(sorted1[i], sorted2[i])\n",
    "        if sorted1[i] != sorted2[i]:\n",
    "            return False\n",
    "        \n",
    "    return True\n",
    "\n",
    "    \n",
    "# testing\n",
    "s1 = \"abcd\"\n",
    "s2 = \"CDBA\"\n",
    "s3 = \"abc d\"\n",
    "\n",
    "if isPermutation(s1, s2) == True:\n",
    "    print('passed true case')\n",
    "else:\n",
    "    print('failed true case')\n",
    "    \n",
    "\n",
    "if isPermutation(s1, s3) == False:\n",
    "    print('passed false case')\n",
    "else:\n",
    "    print('failed false case')\n",
    " "
   ]
  },
  {
   "cell_type": "code",
   "execution_count": 68,
   "metadata": {},
   "outputs": [
    {
     "name": "stdout",
     "output_type": "stream",
     "text": [
      "passed true case\n",
      "passed false case\n"
     ]
    }
   ],
   "source": [
    "# using dicts\n",
    "from collections import defaultdict\n",
    "\n",
    "def isPermutation2(string1, string2):\n",
    "    if len(string1) != len(string2):\n",
    "        return False\n",
    "    \n",
    "    s1 = string1.lower()\n",
    "    s2 = string2.lower()\n",
    "    \n",
    "    check = defaultdict(int)\n",
    "    for char in s1:\n",
    "        check[char] += check.setdefault(char, 0) + 1\n",
    "        \n",
    "    \n",
    "#     print(check)\n",
    "    \n",
    "    for char in s2:\n",
    "        check[char] -= 1\n",
    "        \n",
    "#     print(check)\n",
    "        \n",
    "    if sum(check.values()) == 0:\n",
    "        return True\n",
    "    else:\n",
    "        return False \n",
    "    \n",
    "    \n",
    "# testing\n",
    "s1 = \"abcd\"\n",
    "s2 = \"CDBA\"\n",
    "s3 = \"abc d\"\n",
    "\n",
    "if isPermutation2(s1, s2) == True:\n",
    "    print('passed true case')\n",
    "else:\n",
    "    print('failed true case')\n",
    "    \n",
    "\n",
    "if isPermutation2(s1, s3) == False:\n",
    "    print('passed false case')\n",
    "else:\n",
    "    print('failed false case')\n",
    "    "
   ]
  },
  {
   "cell_type": "code",
   "execution_count": 62,
   "metadata": {},
   "outputs": [
    {
     "name": "stdout",
     "output_type": "stream",
     "text": [
      "{'a': 2, 'b': 2, 'c': 6, 'd': 1, 'e': 1}\n"
     ]
    }
   ],
   "source": [
    "\"\"\"\n",
    "Observations about using dict for frequency counting without importing collections etc:\n",
    "\n",
    "d is initially empty, so we can't assign to d[char] at first time(it will rise key exception),\n",
    "so we must use dict.setdefault(key, default=None). The first time when a new character comes, \n",
    "the count (value) is set to zero, then add 1 and assign to same dict.\n",
    "\"\"\"\n",
    "d = {}\n",
    "string = \"abcdeabccccc\"\n",
    "\n",
    "for char in string:\n",
    "    d[char] = d.setdefault(char, 0) + 1  # the setdefault to zero is ignored when the key is already in the dict\n",
    "\n",
    "print(d)"
   ]
  },
  {
   "cell_type": "code",
   "execution_count": 70,
   "metadata": {},
   "outputs": [
    {
     "name": "stdout",
     "output_type": "stream",
     "text": [
      "{'a': 2, 'b': 2, 'c': 6, 'd': 1, 'e': 1}\n"
     ]
    }
   ],
   "source": [
    "# alternatively\n",
    "\n",
    "d2 = {}\n",
    "string = \"abcdeabccccc\"\n",
    "\n",
    "for char in string:\n",
    "    if char not in d2:\n",
    "        d2[char] = 1\n",
    "    else:\n",
    "        d2[char] += 1\n",
    "        \n",
    "print(d)"
   ]
  },
  {
   "cell_type": "code",
   "execution_count": null,
   "metadata": {
    "collapsed": true
   },
   "outputs": [],
   "source": [
    "\"\"\"\n",
    "1.3 URLify\n",
    "1.4 Palindrome Permutation\n",
    "1.5 One Away\n",
    "1.6 String Compression\n",
    "1.7 Rotate Matrix\n",
    "1.8 Zero Matrix\n",
    "1.9 String Rotation\n",
    "\"\"\""
   ]
  }
 ],
 "metadata": {
  "kernelspec": {
   "display_name": "Python 3",
   "language": "python",
   "name": "python3"
  },
  "language_info": {
   "codemirror_mode": {
    "name": "ipython",
    "version": 3
   },
   "file_extension": ".py",
   "mimetype": "text/x-python",
   "name": "python",
   "nbconvert_exporter": "python",
   "pygments_lexer": "ipython3",
   "version": "3.6.2"
  }
 },
 "nbformat": 4,
 "nbformat_minor": 2
}
