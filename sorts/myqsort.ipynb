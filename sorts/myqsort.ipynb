{
 "cells": [
  {
   "cell_type": "code",
   "execution_count": 215,
   "metadata": {},
   "outputs": [],
   "source": [
    "# my quicksort"
   ]
  },
  {
   "cell_type": "code",
   "execution_count": 216,
   "metadata": {},
   "outputs": [
    {
     "name": "stdout",
     "output_type": "stream",
     "text": [
      "['asdfasfd', 'werwar', '13234', 'asdfasfd', 'oioj', 'extent', 'boat', 'sausage', 'warn', 'earthwax', 'orbit', 'proportion', 'launch', 'outer', 'precedent']\n"
     ]
    }
   ],
   "source": [
    "# arr = [10, 80, 30, 90, 40, 50, 70]\n",
    "arr = [\"asdfasfd\", \"werwar\", \"13234\", \"asdfasfd\", \"oioj\", \"extent\", \"boat\", \"sausage\", \"warn\", \"earthwax\", \"orbit\", \"proportion\",\n",
    "\"launch\", \"outer\", \"precedent\"]\n",
    "print(arr)"
   ]
  },
  {
   "cell_type": "code",
   "execution_count": 217,
   "metadata": {},
   "outputs": [],
   "source": [
    "def is_sorted(array):\n",
    "    for i in range(0, len(array) - 1): \n",
    "        if(array[i] > array[i+1]):\n",
    "\n",
    "            return False\n",
    "    return True"
   ]
  },
  {
   "cell_type": "code",
   "execution_count": 218,
   "metadata": {},
   "outputs": [
    {
     "name": "stdout",
     "output_type": "stream",
     "text": [
      "False\n"
     ]
    }
   ],
   "source": [
    "print(is_sorted(arr))"
   ]
  },
  {
   "cell_type": "code",
   "execution_count": 219,
   "metadata": {},
   "outputs": [],
   "source": [
    "def swap(array, a, b):\n",
    "    temp = array[a]\n",
    "    array[a] = array [b]\n",
    "    array[b] = temp"
   ]
  },
  {
   "cell_type": "code",
   "execution_count": 220,
   "metadata": {},
   "outputs": [],
   "source": [
    "def partition(array, lo, hi):\n",
    "    pivot = array[hi]\n",
    "    i = lo - 1\n",
    "    for j in range(lo, hi): # j goes up to hi - 1 here!\n",
    "        if array[j] <= pivot:\n",
    "            i += 1\n",
    "            swap(array, i, j)\n",
    "    swap(array, i + 1, hi)\n",
    "\n",
    "    return(i + 1)\n"
   ]
  },
  {
   "cell_type": "code",
   "execution_count": 221,
   "metadata": {},
   "outputs": [],
   "source": [
    "def quicksort(array, lo, hi):\n",
    "    if lo < hi:\n",
    "        p = partition(array, lo, hi) # partitioning index, where we place pivot\n",
    "        quicksort(array, lo, p - 1)  # below p\n",
    "        quicksort(array, p + 1, hi)  # above p\n",
    "    "
   ]
  },
  {
   "cell_type": "code",
   "execution_count": 222,
   "metadata": {},
   "outputs": [
    {
     "name": "stdout",
     "output_type": "stream",
     "text": [
      "True\n",
      "['13234', 'asdfasfd', 'asdfasfd', 'boat', 'earthwax', 'extent', 'launch', 'oioj', 'orbit', 'outer', 'precedent', 'proportion', 'sausage', 'warn', 'werwar']\n"
     ]
    }
   ],
   "source": [
    "quicksort(arr, 0, len(arr)-1)\n",
    "print(is_sorted(arr))\n",
    "print(arr)"
   ]
  },
  {
   "cell_type": "code",
   "execution_count": null,
   "metadata": {},
   "outputs": [],
   "source": []
  }
 ],
 "metadata": {
  "kernelspec": {
   "display_name": "Python 3",
   "language": "python",
   "name": "python3"
  },
  "language_info": {
   "codemirror_mode": {
    "name": "ipython",
    "version": 3
   },
   "file_extension": ".py",
   "mimetype": "text/x-python",
   "name": "python",
   "nbconvert_exporter": "python",
   "pygments_lexer": "ipython3",
   "version": "3.7.2"
  }
 },
 "nbformat": 4,
 "nbformat_minor": 2
}
