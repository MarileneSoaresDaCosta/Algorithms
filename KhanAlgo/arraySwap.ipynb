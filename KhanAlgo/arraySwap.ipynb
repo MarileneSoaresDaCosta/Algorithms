{
 "cells": [
  {
   "cell_type": "code",
   "execution_count": 51,
   "metadata": {
    "collapsed": false
   },
   "outputs": [
    {
     "name": "stdout",
     "output_type": "stream",
     "text": [
      "[2, 12, 2, 4, 22, 5, 3, 9, 1]\n"
     ]
    }
   ],
   "source": [
    "# array exercises - EPI pg 59\n",
    "# reorder an array of integers so that the even entries appear first\n",
    "# solve without allocating additional storage (swap in place)\n",
    "\n",
    "a = [2,1,9,2,5,3,22,4,12]\n",
    "\n",
    "n = len(a)\n",
    "\n",
    "for i in range (0, n-1):\n",
    "    # starting from left to right, if the element is even\n",
    "    if a[i]%2 == 0:\n",
    "        # move on to the next element\n",
    "        i+=1  \n",
    "    else:\n",
    "        \n",
    "        for j in range (1, n-i):\n",
    "            # starting from right to left, if the last element is even\n",
    "            if a[n-j]%2 == 0:\n",
    "                # swap the odd by the last (even)\n",
    "                a[i], a[n-j] = a[n-j], a[i]\n",
    "                i+=1\n",
    "                j+=1\n",
    "                \n",
    "            else:\n",
    "                # move to the previous to the last\n",
    "                j+=1\n",
    " \n",
    "print a"
   ]
  },
  {
   "cell_type": "code",
   "execution_count": null,
   "metadata": {
    "collapsed": true
   },
   "outputs": [],
   "source": []
  }
 ],
 "metadata": {
  "anaconda-cloud": {},
  "kernelspec": {
   "display_name": "Python [Root]",
   "language": "python",
   "name": "Python [Root]"
  },
  "language_info": {
   "codemirror_mode": {
    "name": "ipython",
    "version": 2
   },
   "file_extension": ".py",
   "mimetype": "text/x-python",
   "name": "python",
   "nbconvert_exporter": "python",
   "pygments_lexer": "ipython2",
   "version": "2.7.12"
  }
 },
 "nbformat": 4,
 "nbformat_minor": 0
}
