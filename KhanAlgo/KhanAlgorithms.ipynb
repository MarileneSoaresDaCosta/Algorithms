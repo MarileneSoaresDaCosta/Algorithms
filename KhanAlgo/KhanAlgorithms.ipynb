{
 "cells": [
  {
   "cell_type": "markdown",
   "metadata": {},
   "source": [
    "# Khan Academy - Algorithms\n",
    "\n",
    "### Selection sort\n",
    "####    1. Find the smallest element. Swap it with the first place.\n",
    "####    2. Find the second-smallest. Swap it with the second.\n",
    "####    3. Find the third-smallest. Swap it with the third.\n",
    "####    4. Repeat finding the next-smallest element and swapping it into the correct position until the array is sorted.\n",
    "\n",
    "#### the selection sort is simple and has low overhead, so it tends to be faster for small amounts of items, but eventually, as n grows, other algorithms with more overhead will be faster."
   ]
  },
  {
   "cell_type": "code",
   "execution_count": 9,
   "metadata": {
    "collapsed": false
   },
   "outputs": [
    {
     "data": {
      "text/plain": [
       "[7, 9, 11, 22, 42, 88, 99]"
      ]
     },
     "execution_count": 9,
     "metadata": {},
     "output_type": "execute_result"
    }
   ],
   "source": [
    "def swap(array, firstIndex, secondIndex):\n",
    "    temp = array[firstIndex]\n",
    "    array[firstIndex]= array[secondIndex]\n",
    "    array[secondIndex] = temp\n",
    "    \n",
    "def indexOfMin(array, startIndex):\n",
    "    minValue = array[startIndex]\n",
    "    minIndex = startIndex\n",
    "    \n",
    "    for i in range (minIndex + 1, len(array)):\n",
    "        if array[i] < minValue:\n",
    "            minValue = array[i]\n",
    "            minIndex = i\n",
    "    return minIndex\n",
    "\n",
    "def selectionSort(array):\n",
    "    for j in range(0,len(array)):\n",
    "        #print 'j', j\n",
    "        minIndex = indexOfMin(array, j)\n",
    "        #print 'minIndex', minIndex\n",
    "        swap(array, j, minIndex)\n",
    "        #print array\n",
    "    return array\n",
    "    \n",
    "\n",
    "# Testing\n",
    "a = [22, 11, 99, 88, 9, 7, 42]\n",
    "selectionSort(a)\n"
   ]
  },
  {
   "cell_type": "markdown",
   "metadata": {},
   "source": [
    "### Insertion Sort\n",
    "#### 1. call insert to insert the element that starts at index 1 into the 'sorted' subarray in index 0;\n",
    "#### 2. call insert to insert the element that starts at index 2 into the 'sorted' subarray in indices 0 through 1;\n",
    "\n",
    "#### ... finally, call insert to insert the element at n-1 into the sorted subarray 0 through n-2"
   ]
  },
  {
   "cell_type": "code",
   "execution_count": 12,
   "metadata": {
    "collapsed": false
   },
   "outputs": [
    {
     "name": "stdout",
     "output_type": "stream",
     "text": [
      "[2, 3, 5, 6, 7, 9, 11, 12, 13]\n"
     ]
    }
   ],
   "source": [
    "def insert(array, rightIndex, value):\n",
    "    j = rightIndex\n",
    "    for elem in array:\n",
    "        if value < array[j] and j >=0:\n",
    "            array[j + 1] = array [j]\n",
    "            j = j - 1\n",
    "        else:\n",
    "            array[j+1] = value\n",
    "            return array\n",
    "\n",
    "def insertionSort(array):\n",
    "    if len(array) >=2:\n",
    "        i = 1;\n",
    "        for elem in array:\n",
    "            #print \"i \", i, \"array[i] \", array[i], \"array\", array \n",
    "            insert(array, i-1, array[i])\n",
    "            i = i + 1\n",
    "            if i > len(array)-1:\n",
    "                return array\n",
    "    return array\n",
    "\n",
    "#Testing\n",
    "a = [12, 3, 5, 7, 11, 13, 2, 9, 6]\n",
    "print insertionSort(a)"
   ]
  },
  {
   "cell_type": "markdown",
   "metadata": {},
   "source": [
    "### Merge Sort\n",
    "the solution is not 'in place'\n",
    "1. (DIVIDE) create two temporary arrays by splitting the original into 2 - lowHalf and highHalf: copy each element of the original array into these two\n",
    "2. (CONQUER) recursively sort the subarrays\n",
    "3. (COMBINE) compare 2 elements at a time, copying the smaller one into the array; once one of the temp arrays has been fully copied, copy remaining elements of the other temp array\n",
    "###### Most of the steps in merge sort are simple. You can check for the base case easily. Finding the midpoint q q qq in the divide step is also really easy. You have to make two recursive calls in the conquer step. It's the combine step, where you have to merge two sorted subarrays, where the real work happens.\n"
   ]
  },
  {
   "cell_type": "code",
   "execution_count": 49,
   "metadata": {
    "collapsed": false
   },
   "outputs": [
    {
     "name": "stdout",
     "output_type": "stream",
     "text": [
      "[2, 3, 6, 7, 9, 11, 12, 14]\n",
      "[-12, 0, 3, 9, 78]\n"
     ]
    }
   ],
   "source": [
    "import math\n",
    "\n",
    "\n",
    "# merge two arrays\n",
    "def merge(array, initIndex, halfPoint, lastIndex):\n",
    "    # create and populate temporary arrays lowHalf and highHalf\n",
    "    lowHalf = []\n",
    "    for elem in range(initIndex, halfPoint +1):\n",
    "        lowHalf.append(array[elem])\n",
    "    highHalf = []\n",
    "    for elem in range(halfPoint +1, lastIndex + 1):\n",
    "        highHalf.append(array[elem])\n",
    "   \n",
    "    k = initIndex  # counting through the array elements, starting with initIndex\n",
    "    i = 0          # index of lowHalf\n",
    "    j = 0          # index of highHalf\n",
    "    \n",
    "    # Repeatedly compare the lowest untaken element in lowHalf with the lowest untaken element in highHalf\n",
    "    # and copy the lower of the two back into array\n",
    "    while i <= (halfPoint - initIndex)  and  j <= (lastIndex - halfPoint - 1):\n",
    "        if lowHalf[i] < highHalf[j]:\n",
    "            array[k] = lowHalf[i]\n",
    "            i+= 1\n",
    "        else:\n",
    "            array[k] = highHalf[j]\n",
    "            j+= 1\n",
    "        k+= 1\n",
    "    \n",
    "    # Once either lowHalf or highHalf has been fully copied back into array, copy the remaining elements \n",
    "    # from the other temporary array back into the array\n",
    "    while i <= (halfPoint - initIndex):\n",
    "        array[k] = lowHalf[i]\n",
    "        i+= 1\n",
    "        k+= 1\n",
    "    while (j <= (lastIndex - halfPoint - 1)):\n",
    "        array[k] = highHalf[j]\n",
    "        j+= 1\n",
    "        k+= 1\n",
    "    \n",
    "    \n",
    "    \n",
    "# merge sort divides an array, calls for more sorting recursively and then merges \n",
    "def mSort(array, initIndex, lastIndex):\n",
    "    # base case - the subarray has fewer than 2 elements (when p=> r)\n",
    "    if initIndex < lastIndex:\n",
    "        halfPoint = int(math.floor((lastIndex + initIndex)/2))\n",
    "        mSort(array, initIndex, halfPoint)\n",
    "        mSort(array, halfPoint + 1, lastIndex)  \n",
    "        merge(array, initIndex, halfPoint, lastIndex)\n",
    "    return array\n",
    "        \n",
    "                        \n",
    "# Testing\n",
    "a = [14, 7, 3, 12, 9, 11, 6, 2]    \n",
    "print mSort(a, 0, len(a)-1)\n",
    "\n",
    "b = [3, 0, 78, -12, 9]\n",
    "print mSort(b, 0, len(b)-1)"
   ]
  },
  {
   "cell_type": "markdown",
   "metadata": {
    "collapsed": true
   },
   "source": [
    "### Quick Sort\n",
    "the solution is 'in place'\n",
    "1. (DIVIDE) choose a 'pivot' (usually last element), then partition the array into a group of elements less than or equal the pivot, and another group of elements greater. Place the pivot in between these two groups. \n",
    "2. (CONQUER) recursively, do the same pivot partitioning to the two subgroups\n",
    "3. (COMBINE) does nothing, as array will already be sorted at the end of conquer\n",
    "\n",
    "The quickSort function should recursively sort the subarray array[p..r].\n",
    "If the subarray has size 0 or 1, then it's already sorted, and so nothing needs to be done.\n",
    "Otherwise, quickSort uses divide-and-conquer to sort the subarray.\n",
    "The divide step should partition the array, the conquer step should recursively quicksort the partitioned subarrays, and the combine step should do nothing."
   ]
  },
  {
   "cell_type": "code",
   "execution_count": 72,
   "metadata": {
    "collapsed": false
   },
   "outputs": [
    {
     "name": "stdout",
     "output_type": "stream",
     "text": [
      "[2, 3, 4, 5, 6, 7, 9, 10, 11, 12, 14]\n"
     ]
    }
   ],
   "source": [
    "def swap(array, firstIndex, secondIndex):\n",
    "    temp = array[firstIndex]\n",
    "    array[firstIndex] = array[secondIndex]\n",
    "    array[secondIndex] = temp\n",
    "\n",
    "# this function partitions a given array and returns the index of the pivot \n",
    "# to do so, it separates the array into 3 groups: Lower or equal to pivot (l), Greater (g) and Unknown (u)    \n",
    "def partition(array, l, p):\n",
    "    g = u = l\n",
    "    #print g, u\n",
    "    for u in range(l, p):\n",
    "        #print 'array[p] ', array[p], 'array[u] ', array[u]\n",
    "        if array[u] > array[p]:   # if elem is greater than pivot, slide division between G and U to the right\n",
    "            u += 1\n",
    "        else:\n",
    "            swap(array, u, g)\n",
    "            g += 1\n",
    "    swap(array, p, g)\n",
    "    return g\n",
    "\n",
    "def quickSort(array, initIndex, lastIndex):\n",
    "    if initIndex < lastIndex:\n",
    "        g = partition(array, initIndex, lastIndex)\n",
    "        quickSort(array, initIndex, g - 1)\n",
    "        quickSort(array, g + 1, lastIndex)\n",
    "    return array\n",
    "    \n",
    "    \n",
    "    \n",
    "# testing\n",
    "a = [9, 7, 5, 11, 12, 2, 14, 3, 10, 4, 6]\n",
    "#swap(a, 3, 5)\n",
    "#print a\n",
    "\n",
    "print quickSort(a, 0, len(a)-1)"
   ]
  },
  {
   "cell_type": "code",
   "execution_count": null,
   "metadata": {
    "collapsed": true
   },
   "outputs": [],
   "source": []
  }
 ],
 "metadata": {
  "anaconda-cloud": {},
  "kernelspec": {
   "display_name": "Python [Root]",
   "language": "python",
   "name": "Python [Root]"
  },
  "language_info": {
   "codemirror_mode": {
    "name": "ipython",
    "version": 2
   },
   "file_extension": ".py",
   "mimetype": "text/x-python",
   "name": "python",
   "nbconvert_exporter": "python",
   "pygments_lexer": "ipython2",
   "version": "2.7.12"
  }
 },
 "nbformat": 4,
 "nbformat_minor": 0
}
