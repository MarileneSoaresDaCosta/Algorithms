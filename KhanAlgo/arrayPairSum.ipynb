{
 "cells": [
  {
   "cell_type": "markdown",
   "metadata": {},
   "source": [
    "\n",
    "### given an array of integers, and a number k, find all pairs of numbers where the sum of the pair is k"
   ]
  },
  {
   "cell_type": "code",
   "execution_count": 12,
   "metadata": {
    "collapsed": false
   },
   "outputs": [],
   "source": [
    "import numpy as np"
   ]
  },
  {
   "cell_type": "code",
   "execution_count": 59,
   "metadata": {
    "collapsed": true
   },
   "outputs": [],
   "source": [
    "a = [-1, 2, 5, 3, 4, 0]\n",
    "k = 4"
   ]
  },
  {
   "cell_type": "code",
   "execution_count": null,
   "metadata": {
    "collapsed": true
   },
   "outputs": [],
   "source": [
    "# output should be [(-1, 5), (4, 0)], with no duplications"
   ]
  },
  {
   "cell_type": "code",
   "execution_count": 61,
   "metadata": {
    "collapsed": false
   },
   "outputs": [
    {
     "name": "stdout",
     "output_type": "stream",
     "text": [
      "[(-1, 5), (2, 2), (4, 0)]\n"
     ]
    }
   ],
   "source": [
    "output = []\n",
    "i=0\n",
    "for i in range(0, len(a)-1):\n",
    "    p1 = a[i]\n",
    "    p2 = k - p1\n",
    "    #print\n",
    "    #print i, \":\" ,(p1,p2), \"p2\", (p2,p1), output\n",
    "        \n",
    "    if p2 not in a or (p1, p2) in output or (p2, p1) in output:\n",
    "        i+=1\n",
    "        #print \"dont append\"\n",
    "    else:\n",
    "        output.append((p1, p2))\n",
    "        i+= 1\n",
    "        #print \"append \"\n",
    "        #print output\n",
    "\n",
    "print output"
   ]
  },
  {
   "cell_type": "code",
   "execution_count": null,
   "metadata": {
    "collapsed": true
   },
   "outputs": [],
   "source": []
  },
  {
   "cell_type": "code",
   "execution_count": null,
   "metadata": {
    "collapsed": true
   },
   "outputs": [],
   "source": []
  }
 ],
 "metadata": {
  "anaconda-cloud": {},
  "kernelspec": {
   "display_name": "Python [Root]",
   "language": "python",
   "name": "Python [Root]"
  },
  "language_info": {
   "codemirror_mode": {
    "name": "ipython",
    "version": 2
   },
   "file_extension": ".py",
   "mimetype": "text/x-python",
   "name": "python",
   "nbconvert_exporter": "python",
   "pygments_lexer": "ipython2",
   "version": "2.7.12"
  }
 },
 "nbformat": 4,
 "nbformat_minor": 0
}
