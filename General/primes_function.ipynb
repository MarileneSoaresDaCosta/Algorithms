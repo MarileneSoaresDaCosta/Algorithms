{
 "cells": [
  {
   "cell_type": "code",
   "execution_count": 8,
   "metadata": {
    "collapsed": false
   },
   "outputs": [
    {
     "name": "stdout",
     "output_type": "stream",
     "text": [
      "[2, 3, 5, 7, 11, 13, 17, 19, 23, 29, 31, 37, 41, 43, 47, 53, 59, 61, 67, 71, 73, 79, 83, 89, 97, 101, 103, 107, 109, 113, 127, 131, 137, 139, 149, 151, 157, 163, 167, 173, 179, 181, 191, 193, 197, 199, 211, 223, 227, 229, 233, 239, 241, 251, 257, 263, 269, 271, 277, 281, 283, 293, 307, 311]\n"
     ]
    }
   ],
   "source": [
    "p_list = []\n",
    "n=312\n",
    "for p in range(2, n+1):\n",
    "    for i in range(2, p):\n",
    "        if p % i == 0:\n",
    "            break\n",
    "    else:\n",
    "        p_list.append(p)\n",
    "print p_list"
   ]
  },
  {
   "cell_type": "code",
   "execution_count": 20,
   "metadata": {
    "collapsed": false
   },
   "outputs": [
    {
     "name": "stdout",
     "output_type": "stream",
     "text": [
      "31 131\n",
      "15 53\n",
      "7 19\n",
      "11 37\n",
      "13 43\n",
      "14 47\n",
      "not found\n"
     ]
    }
   ],
   "source": [
    "\n",
    "import math \n",
    "\n",
    "targetValue = 52\n",
    "minv = 0\n",
    "maxv = len(p_list)-1\n",
    "guess = 0\n",
    "\n",
    "\n",
    "while (maxv >= minv):\n",
    "    \n",
    "    guess = int((maxv + minv)/2)\n",
    "    print guess, p_list[guess]\n",
    "    if p_list[guess] == targetValue:\n",
    "        print 'found it in index ', guess \n",
    "    elif p_list[guess] < targetValue:\n",
    "           minv = guess + 1\n",
    "    else:\n",
    "        maxv = guess - 1\n",
    "        \n",
    "print 'not found'"
   ]
  },
  {
   "cell_type": "code",
   "execution_count": null,
   "metadata": {
    "collapsed": false
   },
   "outputs": [],
   "source": []
  },
  {
   "cell_type": "code",
   "execution_count": null,
   "metadata": {
    "collapsed": true
   },
   "outputs": [],
   "source": []
  }
 ],
 "metadata": {
  "anaconda-cloud": {},
  "kernelspec": {
   "display_name": "Python [Root]",
   "language": "python",
   "name": "Python [Root]"
  },
  "language_info": {
   "codemirror_mode": {
    "name": "ipython",
    "version": 2
   },
   "file_extension": ".py",
   "mimetype": "text/x-python",
   "name": "python",
   "nbconvert_exporter": "python",
   "pygments_lexer": "ipython2",
   "version": "2.7.12"
  }
 },
 "nbformat": 4,
 "nbformat_minor": 0
}
