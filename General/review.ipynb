{
 "cells": [
  {
   "cell_type": "markdown",
   "metadata": {},
   "source": [
    "### Python Review - (Bradley N. Miller, David L. Ranum - Problem Solving with Algorithms and Data Structures)\n"
   ]
  },
  {
   "cell_type": "code",
   "execution_count": 191,
   "metadata": {
    "collapsed": false
   },
   "outputs": [
    {
     "data": {
      "text/plain": [
       "0.16666666666666666"
      ]
     },
     "execution_count": 191,
     "metadata": {},
     "output_type": "execute_result"
    }
   ],
   "source": [
    "1/6"
   ]
  },
  {
   "cell_type": "code",
   "execution_count": 192,
   "metadata": {
    "collapsed": true
   },
   "outputs": [],
   "source": [
    "from __future__ import division"
   ]
  },
  {
   "cell_type": "code",
   "execution_count": 193,
   "metadata": {
    "collapsed": false
   },
   "outputs": [
    {
     "data": {
      "text/plain": [
       "0.16666666666666666"
      ]
     },
     "execution_count": 193,
     "metadata": {},
     "output_type": "execute_result"
    }
   ],
   "source": [
    "1/6"
   ]
  },
  {
   "cell_type": "code",
   "execution_count": 194,
   "metadata": {
    "collapsed": false
   },
   "outputs": [
    {
     "data": {
      "text/plain": [
       "0.16666666666666666"
      ]
     },
     "execution_count": 194,
     "metadata": {},
     "output_type": "execute_result"
    }
   ],
   "source": [
    "x = 1\n",
    "y = 6\n",
    "float(x)/y"
   ]
  },
  {
   "cell_type": "code",
   "execution_count": 195,
   "metadata": {
    "collapsed": false
   },
   "outputs": [
    {
     "data": {
      "text/plain": [
       "0.16666666666666666"
      ]
     },
     "execution_count": 195,
     "metadata": {},
     "output_type": "execute_result"
    }
   ],
   "source": [
    "x/y"
   ]
  },
  {
   "cell_type": "code",
   "execution_count": 196,
   "metadata": {
    "collapsed": false
   },
   "outputs": [
    {
     "ename": "SyntaxError",
     "evalue": "invalid syntax (<ipython-input-196-2102eed3c895>, line 2)",
     "output_type": "error",
     "traceback": [
      "\u001b[0;36m  File \u001b[0;32m\"<ipython-input-196-2102eed3c895>\"\u001b[0;36m, line \u001b[0;32m2\u001b[0m\n\u001b[0;31m    print s1\u001b[0m\n\u001b[0m           ^\u001b[0m\n\u001b[0;31mSyntaxError\u001b[0m\u001b[0;31m:\u001b[0m invalid syntax\n"
     ]
    }
   ],
   "source": [
    "s1 = '   abc'\n",
    "print s1"
   ]
  },
  {
   "cell_type": "code",
   "execution_count": null,
   "metadata": {
    "collapsed": false
   },
   "outputs": [],
   "source": [
    "s2 = 'this is a string'\n",
    "print s2[2]"
   ]
  },
  {
   "cell_type": "code",
   "execution_count": null,
   "metadata": {
    "collapsed": false
   },
   "outputs": [],
   "source": [
    "print s2[1:6]"
   ]
  },
  {
   "cell_type": "code",
   "execution_count": null,
   "metadata": {
    "collapsed": false
   },
   "outputs": [],
   "source": [
    "print s2[1:]"
   ]
  },
  {
   "cell_type": "code",
   "execution_count": null,
   "metadata": {
    "collapsed": false
   },
   "outputs": [],
   "source": [
    "print s2[:6]"
   ]
  },
  {
   "cell_type": "code",
   "execution_count": null,
   "metadata": {
    "collapsed": false
   },
   "outputs": [],
   "source": [
    "mylist= [7,8,4,3]\n",
    "mylist[0] = 650\n",
    "mylist[2] = [86, 45]\n",
    "mylist[1] = [120]\n",
    "print mylist"
   ]
  },
  {
   "cell_type": "code",
   "execution_count": null,
   "metadata": {
    "collapsed": true
   },
   "outputs": [],
   "source": [
    "s2 = 'this is now another string'"
   ]
  },
  {
   "cell_type": "code",
   "execution_count": null,
   "metadata": {
    "collapsed": false
   },
   "outputs": [],
   "source": [
    "print s2"
   ]
  },
  {
   "cell_type": "code",
   "execution_count": null,
   "metadata": {
    "collapsed": false
   },
   "outputs": [],
   "source": [
    "print s2.count('i')"
   ]
  },
  {
   "cell_type": "code",
   "execution_count": null,
   "metadata": {
    "collapsed": false
   },
   "outputs": [],
   "source": [
    "print s2.find('s')\n",
    "#gives me the first instance"
   ]
  },
  {
   "cell_type": "code",
   "execution_count": null,
   "metadata": {
    "collapsed": false
   },
   "outputs": [],
   "source": [
    "print s2.index('another')\n",
    "# outputs where the substring starts"
   ]
  },
  {
   "cell_type": "code",
   "execution_count": null,
   "metadata": {
    "collapsed": false
   },
   "outputs": [],
   "source": [
    "word = \"Hello World\"\n",
    "\n",
    "print word[0]          #get one char of the word\n",
    "print word[0:1]        #get one char of the word (same as above)\n",
    "print word[0:3]        #get the first three char\n",
    "print word[:3]         #get the first three char\n",
    "print word[-3:]        #get the last three char\n",
    "print word[3:]         #get all but the three first char\n",
    "print word[:-3]        #get all but the three last character"
   ]
  },
  {
   "cell_type": "code",
   "execution_count": null,
   "metadata": {
    "collapsed": false
   },
   "outputs": [],
   "source": [
    "print word.title()"
   ]
  },
  {
   "cell_type": "code",
   "execution_count": null,
   "metadata": {
    "collapsed": false
   },
   "outputs": [],
   "source": [
    "print word.capitalize()"
   ]
  },
  {
   "cell_type": "code",
   "execution_count": null,
   "metadata": {
    "collapsed": false
   },
   "outputs": [],
   "source": [
    "print word.swapcase()"
   ]
  },
  {
   "cell_type": "code",
   "execution_count": null,
   "metadata": {
    "collapsed": false
   },
   "outputs": [],
   "source": [
    "print ''.join(reversed(word))"
   ]
  },
  {
   "cell_type": "code",
   "execution_count": null,
   "metadata": {
    "collapsed": false
   },
   "outputs": [],
   "source": [
    "s = \"hello world\"\n",
    "splitted = s.split()\n",
    "print splitted\n",
    "print splitted.reverse()"
   ]
  },
  {
   "cell_type": "code",
   "execution_count": null,
   "metadata": {
    "collapsed": false
   },
   "outputs": [],
   "source": [
    "print word[0]"
   ]
  },
  {
   "cell_type": "code",
   "execution_count": null,
   "metadata": {
    "collapsed": false
   },
   "outputs": [],
   "source": [
    "# strings are immutable\n",
    "# word[0] = 'k'\n",
    "# print word\n",
    "# returns the following error: \n",
    "#  TypeError: 'str' object does not support item assignment"
   ]
  },
  {
   "cell_type": "code",
   "execution_count": null,
   "metadata": {
    "collapsed": false
   },
   "outputs": [],
   "source": [
    "raw = 'rthis\\t\\n and that'\n",
    "print raw     "
   ]
  },
  {
   "cell_type": "code",
   "execution_count": null,
   "metadata": {
    "collapsed": false
   },
   "outputs": [],
   "source": [
    "notraw = 'this\\t\\n and that'\n",
    "print notraw"
   ]
  },
  {
   "cell_type": "code",
   "execution_count": null,
   "metadata": {
    "collapsed": false
   },
   "outputs": [],
   "source": [
    "multi = \"\"\"It was the best of times.\n",
    "It was the worst of times.\"\"\"\n",
    "print multi"
   ]
  },
  {
   "cell_type": "code",
   "execution_count": null,
   "metadata": {
    "collapsed": false
   },
   "outputs": [],
   "source": [
    "# % operator\n",
    "text = \"%d little pigs come out or I'll %s and %s and %s\" % (3, 'huff', 'puff', 'blow down')\n",
    "print text"
   ]
  },
  {
   "cell_type": "code",
   "execution_count": null,
   "metadata": {
    "collapsed": false
   },
   "outputs": [],
   "source": [
    "# add parens to make the long-line work:\n",
    "text2 = (\"%d little pigs come out or I'll %s and %s and %s\" \n",
    "         %(3, 'huff', 'puff', 'blow down'))\n",
    "print text2"
   ]
  },
  {
   "cell_type": "code",
   "execution_count": null,
   "metadata": {
    "collapsed": false
   },
   "outputs": [],
   "source": [
    "# lists\n",
    "newlist = [7,4,8,12]\n",
    "listsum = 0\n",
    "for x in newlist:\n",
    "    listsum = listsum + x\n",
    "print listsum"
   ]
  },
  {
   "cell_type": "code",
   "execution_count": null,
   "metadata": {
    "collapsed": false
   },
   "outputs": [],
   "source": [
    "maximum = 0\n",
    "for x in newlist:\n",
    "    if x > maximum:\n",
    "        maximum = x\n",
    "print maximum"
   ]
  },
  {
   "cell_type": "code",
   "execution_count": null,
   "metadata": {
    "collapsed": false
   },
   "outputs": [],
   "source": [
    "print newlist"
   ]
  },
  {
   "cell_type": "code",
   "execution_count": null,
   "metadata": {
    "collapsed": false
   },
   "outputs": [],
   "source": [
    "newlist.pop()"
   ]
  },
  {
   "cell_type": "code",
   "execution_count": null,
   "metadata": {
    "collapsed": false
   },
   "outputs": [],
   "source": [
    "print newlist"
   ]
  },
  {
   "cell_type": "code",
   "execution_count": null,
   "metadata": {
    "collapsed": false
   },
   "outputs": [],
   "source": [
    "w = ['a', 'b', 'c']\n",
    "cap_w = [letter.upper() for letter in w]\n",
    "print cap_w"
   ]
  },
  {
   "cell_type": "code",
   "execution_count": null,
   "metadata": {
    "collapsed": false
   },
   "outputs": [],
   "source": [
    "floats = [1.45, 5.44, 7.29]\n",
    "rounded = [int(number) for number in floats]\n",
    "print rounded"
   ]
  },
  {
   "cell_type": "code",
   "execution_count": null,
   "metadata": {
    "collapsed": false
   },
   "outputs": [],
   "source": [
    "v = 9\n",
    "type(v)"
   ]
  },
  {
   "cell_type": "code",
   "execution_count": null,
   "metadata": {
    "collapsed": false
   },
   "outputs": [],
   "source": [
    "import math\n",
    "type((v)) != int"
   ]
  },
  {
   "cell_type": "code",
   "execution_count": null,
   "metadata": {
    "collapsed": false
   },
   "outputs": [],
   "source": [
    "(math.floor(math.sqrt(v)))"
   ]
  },
  {
   "cell_type": "code",
   "execution_count": null,
   "metadata": {
    "collapsed": true
   },
   "outputs": [],
   "source": [
    "def perfect_sq(n):\n",
    "    return n == int(math.sqrt(n)) * int(math.sqrt(n))"
   ]
  },
  {
   "cell_type": "code",
   "execution_count": null,
   "metadata": {
    "collapsed": false
   },
   "outputs": [],
   "source": [
    "print perfect_sq(9)\n",
    "print perfect_sq(25)\n",
    "print perfect_sq(10)"
   ]
  },
  {
   "cell_type": "code",
   "execution_count": null,
   "metadata": {
    "collapsed": false
   },
   "outputs": [],
   "source": [
    "n = 12\n",
    "q = math.sqrt(n)\n",
    "print q"
   ]
  },
  {
   "cell_type": "code",
   "execution_count": null,
   "metadata": {
    "collapsed": false
   },
   "outputs": [],
   "source": [
    "print int(q)"
   ]
  },
  {
   "cell_type": "code",
   "execution_count": null,
   "metadata": {
    "collapsed": false
   },
   "outputs": [],
   "source": [
    "print int(q) * int(q)"
   ]
  },
  {
   "cell_type": "code",
   "execution_count": null,
   "metadata": {
    "collapsed": false
   },
   "outputs": [],
   "source": [
    "sum_list = []\n",
    "for n in range (1, 100):\n",
    "    if n%2 == 0 and n != int(math.sqrt(n))*int(math.sqrt(n)):\n",
    "        sum_list.append(n)\n",
    "\n",
    "print sum(sum_list)\n",
    "    "
   ]
  },
  {
   "cell_type": "code",
   "execution_count": null,
   "metadata": {
    "collapsed": false
   },
   "outputs": [],
   "source": [
    "S = [x**2 for x in range(10)]\n",
    "print S"
   ]
  },
  {
   "cell_type": "code",
   "execution_count": null,
   "metadata": {
    "collapsed": true
   },
   "outputs": [],
   "source": [
    "V = [2**i for i in range (13)]"
   ]
  },
  {
   "cell_type": "code",
   "execution_count": null,
   "metadata": {
    "collapsed": false
   },
   "outputs": [],
   "source": [
    "print V"
   ]
  },
  {
   "cell_type": "code",
   "execution_count": null,
   "metadata": {
    "collapsed": false
   },
   "outputs": [],
   "source": [
    "# same loop as above but using list comprehension\n",
    "sum_list2 = [n for n in range (1, 100) if n%2 == 0 and n != int(math.sqrt(n))*int(math.sqrt(n))]\n",
    "print sum(sum_list2)"
   ]
  },
  {
   "cell_type": "code",
   "execution_count": null,
   "metadata": {
    "collapsed": false
   },
   "outputs": [],
   "source": [
    "noprimes = [j for i in range(2, 8) for j in range(i*2, 50, i)]\n",
    "print noprimes"
   ]
  },
  {
   "cell_type": "code",
   "execution_count": null,
   "metadata": {
    "collapsed": false
   },
   "outputs": [],
   "source": [
    "lc1 = []\n",
    "for i in range(2, 8):\n",
    "    for j in range(i*2, 50, i):\n",
    "        lc1.append(j)\n",
    "print lc1"
   ]
  },
  {
   "cell_type": "code",
   "execution_count": null,
   "metadata": {
    "collapsed": false
   },
   "outputs": [],
   "source": [
    "# for readability, we can break lines when using parenthesis or brackets... \n",
    "# good for long list comprehensions\n",
    "sum_list3 = [n \n",
    "             for n in range (1, 100) \n",
    "             if n%2 == 0 and n != int(math.sqrt(n))*int(math.sqrt(n))]\n",
    "\n",
    "print sum(sum_list3)"
   ]
  },
  {
   "cell_type": "code",
   "execution_count": null,
   "metadata": {
    "collapsed": false
   },
   "outputs": [],
   "source": [
    "# more list comprehension\n",
    "a = [1,2,3,4,5] \n",
    "\n",
    "b = [x*2 for x in a]   # map\n",
    "print b\n",
    "\n",
    "c = [x for x in a if x > 3]   # filter\n",
    "print c\n",
    "\n",
    "d= [x * 3 for x in a if x % 2 == 0]  # both\n",
    "print d"
   ]
  },
  {
   "cell_type": "code",
   "execution_count": null,
   "metadata": {
    "collapsed": false
   },
   "outputs": [],
   "source": [
    "# copying lists\n",
    "# 1) shallow copy:\n",
    "a = [1,2,3,4,5] \n",
    "b = list(a)\n",
    "a == b"
   ]
  },
  {
   "cell_type": "code",
   "execution_count": null,
   "metadata": {
    "collapsed": false
   },
   "outputs": [],
   "source": [
    "# b is a shallow copy, not stored in the same memory location\n",
    "a is b  "
   ]
  },
  {
   "cell_type": "code",
   "execution_count": null,
   "metadata": {
    "collapsed": false
   },
   "outputs": [],
   "source": [
    "a.append(6)\n",
    "print a, b # b did not change because it is a different object"
   ]
  },
  {
   "cell_type": "code",
   "execution_count": null,
   "metadata": {
    "collapsed": false
   },
   "outputs": [],
   "source": [
    "c = a[:]\n",
    "print c"
   ]
  },
  {
   "cell_type": "code",
   "execution_count": null,
   "metadata": {
    "collapsed": false
   },
   "outputs": [],
   "source": [
    "a.append(7)\n",
    "print a, c"
   ]
  },
  {
   "cell_type": "code",
   "execution_count": null,
   "metadata": {
    "collapsed": false
   },
   "outputs": [],
   "source": [
    "#  == checks whether variables point to objects of the same value   \n",
    "#  is checks whether variables point to the same object\n",
    "\n",
    "# deep copy\n",
    "a = [1,2,3,4,5] \n",
    "f = a\n",
    "a == f"
   ]
  },
  {
   "cell_type": "code",
   "execution_count": null,
   "metadata": {
    "collapsed": false
   },
   "outputs": [],
   "source": [
    "a is f"
   ]
  },
  {
   "cell_type": "code",
   "execution_count": null,
   "metadata": {
    "collapsed": false
   },
   "outputs": [],
   "source": [
    "a.append(6)\n",
    "print a, f"
   ]
  },
  {
   "cell_type": "code",
   "execution_count": null,
   "metadata": {
    "collapsed": false
   },
   "outputs": [],
   "source": [
    "# removing from lists\n",
    "a = [1,2,3,4,5] \n",
    "a[1:3] = []\n",
    "a"
   ]
  },
  {
   "cell_type": "code",
   "execution_count": null,
   "metadata": {
    "collapsed": false
   },
   "outputs": [],
   "source": [
    "a = [1, 2, 3]\n",
    "\" \".join([str(x) for x in a])"
   ]
  },
  {
   "cell_type": "code",
   "execution_count": null,
   "metadata": {
    "collapsed": false
   },
   "outputs": [],
   "source": [
    "sentence_string = \"this is a sentence\"\n",
    "words = sentence_string.split()\n",
    "for word in words:\n",
    "    print word\n",
    "new_sentence_string = \"_\".join(words)\n",
    "print new_sentence_string"
   ]
  },
  {
   "cell_type": "code",
   "execution_count": null,
   "metadata": {
    "collapsed": false
   },
   "outputs": [],
   "source": [
    "s = 'I wish I was home right now'\n",
    "s.find('home')"
   ]
  },
  {
   "cell_type": "code",
   "execution_count": null,
   "metadata": {
    "collapsed": false
   },
   "outputs": [],
   "source": [
    "s.find('dinosaur')"
   ]
  },
  {
   "cell_type": "code",
   "execution_count": null,
   "metadata": {
    "collapsed": false
   },
   "outputs": [],
   "source": [
    "'dinosaur' in s"
   ]
  },
  {
   "cell_type": "code",
   "execution_count": null,
   "metadata": {
    "collapsed": false
   },
   "outputs": [],
   "source": [
    "s.replace('home', 'at the beach')"
   ]
  },
  {
   "cell_type": "code",
   "execution_count": null,
   "metadata": {
    "collapsed": false
   },
   "outputs": [],
   "source": [
    "s1 = '   wongeogn--   '\n",
    "s1.strip()"
   ]
  },
  {
   "cell_type": "code",
   "execution_count": null,
   "metadata": {
    "collapsed": false
   },
   "outputs": [],
   "source": [
    "s1.strip(' -')"
   ]
  },
  {
   "cell_type": "code",
   "execution_count": null,
   "metadata": {
    "collapsed": false
   },
   "outputs": [],
   "source": [
    "p = \"123\"\n",
    "int(p)+1"
   ]
  },
  {
   "cell_type": "code",
   "execution_count": null,
   "metadata": {
    "collapsed": false
   },
   "outputs": [],
   "source": [
    "f = open('word_c.txt', 'r')\n",
    "text = f.read()\n",
    "words = text.split()\n",
    "counts = {}\n",
    "\n",
    "for word in words:\n",
    "    counts[word] = counts.get(word, 0) + 1\n",
    "    \n",
    "print counts\n",
    "    "
   ]
  },
  {
   "cell_type": "code",
   "execution_count": null,
   "metadata": {
    "collapsed": false
   },
   "outputs": [],
   "source": [
    "sorted(counts)"
   ]
  },
  {
   "cell_type": "code",
   "execution_count": null,
   "metadata": {
    "collapsed": false
   },
   "outputs": [],
   "source": [
    "import operator\n",
    "sorted_counts = sorted(counts.items(), key=operator.itemgetter(1))\n",
    "print sorted_counts[::-1]"
   ]
  },
  {
   "cell_type": "code",
   "execution_count": null,
   "metadata": {
    "collapsed": false
   },
   "outputs": [],
   "source": [
    "# using enumerate(sequence, start=0)\n",
    "seasons = ['Spring', 'Summer', 'Fall', 'Winter']\n",
    "s = 'just a string'\n",
    "\n",
    "print list(enumerate(seasons))\n",
    "print list(enumerate(seasons, start = 1))\n",
    "print list(enumerate(s))\n"
   ]
  },
  {
   "cell_type": "code",
   "execution_count": null,
   "metadata": {
    "collapsed": false
   },
   "outputs": [],
   "source": [
    "for count, elem in enumerate(seasons):\n",
    "    print count, elem"
   ]
  },
  {
   "cell_type": "code",
   "execution_count": null,
   "metadata": {
    "collapsed": false
   },
   "outputs": [],
   "source": [
    "for count, elem in enumerate(s):\n",
    "    print count, elem"
   ]
  },
  {
   "cell_type": "markdown",
   "metadata": {
    "collapsed": false
   },
   "source": [
    "### one of the solutions in the Strings meeting (Sep 28)\n",
    "\"\"\"\n",
    "s = 'aabcddefggabc'\n",
    "def dups(s):\n",
    "    d = dict()\n",
    "    for k, v in enumerate(s):\n",
    "        if v not in d:\n",
    "            d[v] = []\n",
    "        d[v] +=1\n",
    "        \n",
    "    l = []\n",
    "    for i in d values:\n",
    "        if i>1:\n",
    "            return k[i]\n",
    "        \n",
    "### returns error: \n",
    " for i in d values:\n",
    "                    ^\n",
    "SyntaxError: invalid syntax\n",
    "\"\"\""
   ]
  },
  {
   "cell_type": "code",
   "execution_count": null,
   "metadata": {
    "collapsed": false
   },
   "outputs": [],
   "source": [
    "\n",
    "letters = 'aabbcba'\n",
    "\n",
    "def Duplicates(s):\n",
    "    res = {}\n",
    "    dupl= []\n",
    "    for elem in s:\n",
    "        res[elem] = res.get(elem, 0)+1\n",
    "    for k,v in res.iteritems():\n",
    "        if v > 1:\n",
    "            dupl.append(k)\n",
    "    return dupl\n",
    "\n",
    "\n",
    "print Duplicates(letters)"
   ]
  },
  {
   "cell_type": "code",
   "execution_count": null,
   "metadata": {
    "collapsed": false
   },
   "outputs": [],
   "source": [
    "# using recursion to produce the binary of a given integer\n",
    "def binary(x):\n",
    "    r = str(x%2)\n",
    "    d = '0b'\n",
    "    if x >=2:\n",
    "        d = binary(x/2)\n",
    "    return  d + r"
   ]
  },
  {
   "cell_type": "code",
   "execution_count": null,
   "metadata": {
    "collapsed": false
   },
   "outputs": [],
   "source": [
    "print binary(237)\n",
    "print bin(237)"
   ]
  },
  {
   "cell_type": "code",
   "execution_count": null,
   "metadata": {
    "collapsed": false
   },
   "outputs": [],
   "source": [
    "print(7/3)\n"
   ]
  },
  {
   "cell_type": "code",
   "execution_count": null,
   "metadata": {
    "collapsed": false
   },
   "outputs": [],
   "source": [
    "\"\"\" integer division: //. \n",
    "Note that when two integers are divided, the result is a floating point. \n",
    "The inte- ger division operator returns the integer portion of the quotient \n",
    "by truncating any fractional part\"\"\"\n",
    "\n",
    "print(7//3)\n"
   ]
  },
  {
   "cell_type": "code",
   "execution_count": null,
   "metadata": {
    "collapsed": false
   },
   "outputs": [],
   "source": [
    "print((5 >= 1) and (5 <= 10))"
   ]
  },
  {
   "cell_type": "code",
   "execution_count": null,
   "metadata": {
    "collapsed": false
   },
   "outputs": [],
   "source": [
    "# lists are heterogenous\n",
    "my_list = [1, 3, True, 6.5]\n",
    "my_list"
   ]
  },
  {
   "cell_type": "code",
   "execution_count": null,
   "metadata": {
    "collapsed": false
   },
   "outputs": [],
   "source": [
    "\"\"\"The variable A holds a collection of three references to the original list called my_list. \n",
    "Note that a change to one element of my_list shows up in all three occurrences in A.\"\"\"\n",
    "\n",
    "my_list = [1, 2, 3, 4]\n",
    "A = [my_list] * 3\n",
    "print(A)\n",
    "my_list[2] = 45\n",
    "print(A)"
   ]
  },
  {
   "cell_type": "code",
   "execution_count": null,
   "metadata": {
    "collapsed": false
   },
   "outputs": [],
   "source": [
    "my_list=[1024, 3, True, 6.5]\n",
    "my_list.append(False)\n",
    "print(my_list)"
   ]
  },
  {
   "cell_type": "code",
   "execution_count": null,
   "metadata": {
    "collapsed": false
   },
   "outputs": [],
   "source": [
    "my_list.insert(2, 4.5)\n",
    "print(my_list)"
   ]
  },
  {
   "cell_type": "code",
   "execution_count": null,
   "metadata": {
    "collapsed": false
   },
   "outputs": [],
   "source": [
    "print(my_list.pop())"
   ]
  },
  {
   "cell_type": "code",
   "execution_count": null,
   "metadata": {
    "collapsed": false
   },
   "outputs": [],
   "source": [
    "print(my_list)"
   ]
  },
  {
   "cell_type": "code",
   "execution_count": null,
   "metadata": {
    "collapsed": false
   },
   "outputs": [],
   "source": [
    "print(my_list.pop(1))"
   ]
  },
  {
   "cell_type": "code",
   "execution_count": null,
   "metadata": {
    "collapsed": false
   },
   "outputs": [],
   "source": [
    "my_list.sort()\n",
    "print(my_list)"
   ]
  },
  {
   "cell_type": "code",
   "execution_count": null,
   "metadata": {
    "collapsed": false
   },
   "outputs": [],
   "source": [
    "my_list.reverse()\n",
    "print(my_list)"
   ]
  },
  {
   "cell_type": "code",
   "execution_count": null,
   "metadata": {
    "collapsed": false
   },
   "outputs": [],
   "source": [
    "print(my_list.count(6.5))"
   ]
  },
  {
   "cell_type": "code",
   "execution_count": null,
   "metadata": {
    "collapsed": false
   },
   "outputs": [],
   "source": [
    "print(my_list.index(4.5))"
   ]
  },
  {
   "cell_type": "code",
   "execution_count": null,
   "metadata": {
    "collapsed": false
   },
   "outputs": [],
   "source": [
    "my_list.remove(6.5)\n",
    "print(my_list)"
   ]
  },
  {
   "cell_type": "code",
   "execution_count": null,
   "metadata": {
    "collapsed": false
   },
   "outputs": [],
   "source": [
    "del my_list[0]\n",
    "#print(my_list)"
   ]
  },
  {
   "cell_type": "code",
   "execution_count": null,
   "metadata": {
    "collapsed": false
   },
   "outputs": [],
   "source": [
    "\"\"\"\n",
    "You should also notice the familiar “dot” notation for asking an object to invoke a method. \n",
    "my_list.append(False) can be read as \n",
    "        “ask the object my_list to perform its append method and send it the value False.” \n",
    "Even simple data objects such as integers can invoke methods in this way.\n",
    "\"\"\"\n",
    "(54).__add__(21)"
   ]
  },
  {
   "cell_type": "code",
   "execution_count": null,
   "metadata": {
    "collapsed": false
   },
   "outputs": [],
   "source": [
    "# range function\n",
    "range(10)"
   ]
  },
  {
   "cell_type": "code",
   "execution_count": null,
   "metadata": {
    "collapsed": false
   },
   "outputs": [],
   "source": [
    "list(range(10))"
   ]
  },
  {
   "cell_type": "code",
   "execution_count": null,
   "metadata": {
    "collapsed": false
   },
   "outputs": [],
   "source": [
    "list(range(5, 10, 2))"
   ]
  },
  {
   "cell_type": "code",
   "execution_count": null,
   "metadata": {
    "collapsed": false
   },
   "outputs": [],
   "source": [
    "list(range(10, 1, -1))"
   ]
  },
  {
   "cell_type": "code",
   "execution_count": null,
   "metadata": {
    "collapsed": false
   },
   "outputs": [],
   "source": [
    "name= \"Lene\"\n",
    "name.upper()"
   ]
  },
  {
   "cell_type": "code",
   "execution_count": null,
   "metadata": {
    "collapsed": false
   },
   "outputs": [],
   "source": [
    "name.center(10)"
   ]
  },
  {
   "cell_type": "code",
   "execution_count": null,
   "metadata": {
    "collapsed": false
   },
   "outputs": [],
   "source": [
    "name.split('e')"
   ]
  },
  {
   "cell_type": "code",
   "execution_count": null,
   "metadata": {
    "collapsed": false
   },
   "outputs": [],
   "source": [
    "name.split('n')"
   ]
  },
  {
   "cell_type": "code",
   "execution_count": null,
   "metadata": {
    "collapsed": false
   },
   "outputs": [],
   "source": [
    "my_tuple = (2, True, 4.96)"
   ]
  },
  {
   "cell_type": "code",
   "execution_count": null,
   "metadata": {
    "collapsed": false
   },
   "outputs": [],
   "source": [
    "len(my_tuple)"
   ]
  },
  {
   "cell_type": "code",
   "execution_count": null,
   "metadata": {
    "collapsed": false
   },
   "outputs": [],
   "source": [
    "my_tuple[0]"
   ]
  },
  {
   "cell_type": "code",
   "execution_count": null,
   "metadata": {
    "collapsed": false
   },
   "outputs": [],
   "source": [
    "my_tuple * 3"
   ]
  },
  {
   "cell_type": "code",
   "execution_count": null,
   "metadata": {
    "collapsed": false
   },
   "outputs": [],
   "source": [
    "my_tuple[0:2]"
   ]
  },
  {
   "cell_type": "code",
   "execution_count": null,
   "metadata": {
    "collapsed": false
   },
   "outputs": [],
   "source": [
    "{3,6,\"cat\",4.5,False}"
   ]
  },
  {
   "cell_type": "code",
   "execution_count": null,
   "metadata": {
    "collapsed": false
   },
   "outputs": [],
   "source": [
    "my_set = {3,6,\"cat\",4.5,False}\n",
    "my_set"
   ]
  },
  {
   "cell_type": "code",
   "execution_count": null,
   "metadata": {
    "collapsed": false
   },
   "outputs": [],
   "source": [
    "\"dog\" in my_set"
   ]
  },
  {
   "cell_type": "code",
   "execution_count": null,
   "metadata": {
    "collapsed": false
   },
   "outputs": [],
   "source": [
    "False in my_set"
   ]
  },
  {
   "cell_type": "code",
   "execution_count": null,
   "metadata": {
    "collapsed": false
   },
   "outputs": [],
   "source": [
    "# dictionary\n",
    "capitals = {'Iowa':'DesMoines','Wisconsin':'Madison'}\n",
    "print(capitals['Iowa'])"
   ]
  },
  {
   "cell_type": "code",
   "execution_count": null,
   "metadata": {
    "collapsed": false
   },
   "outputs": [],
   "source": [
    "capitals['Utah']='SaltLakeCity'\n",
    "capitals['California']='Sacramento'\n",
    "print(capitals)"
   ]
  },
  {
   "cell_type": "code",
   "execution_count": null,
   "metadata": {
    "collapsed": false
   },
   "outputs": [],
   "source": [
    "for k in capitals:\n",
    "  print(capitals[k],\" is the capital of \", k)"
   ]
  },
  {
   "cell_type": "code",
   "execution_count": null,
   "metadata": {
    "collapsed": false
   },
   "outputs": [],
   "source": [
    "print(len(capitals))"
   ]
  },
  {
   "cell_type": "code",
   "execution_count": null,
   "metadata": {
    "collapsed": false
   },
   "outputs": [],
   "source": [
    "phone_ext={'david':1410, 'brad':1137}\n",
    "phone_ext"
   ]
  },
  {
   "cell_type": "code",
   "execution_count": null,
   "metadata": {
    "collapsed": false
   },
   "outputs": [],
   "source": [
    "phone_ext.keys()"
   ]
  },
  {
   "cell_type": "code",
   "execution_count": null,
   "metadata": {
    "collapsed": false
   },
   "outputs": [],
   "source": [
    "# creates a list\n",
    "list(phone_ext.keys())"
   ]
  },
  {
   "cell_type": "code",
   "execution_count": null,
   "metadata": {
    "collapsed": false
   },
   "outputs": [],
   "source": [
    "\"brad\" in phone_ext"
   ]
  },
  {
   "cell_type": "code",
   "execution_count": null,
   "metadata": {
    "collapsed": false
   },
   "outputs": [],
   "source": [
    "1137 in phone_ext"
   ]
  },
  {
   "cell_type": "code",
   "execution_count": null,
   "metadata": {
    "collapsed": false
   },
   "outputs": [],
   "source": [
    "phone_ext.values()"
   ]
  },
  {
   "cell_type": "code",
   "execution_count": null,
   "metadata": {
    "collapsed": false
   },
   "outputs": [],
   "source": [
    "phone_ext.items()"
   ]
  },
  {
   "cell_type": "code",
   "execution_count": null,
   "metadata": {
    "collapsed": false
   },
   "outputs": [],
   "source": [
    "list(phone_ext.items())"
   ]
  },
  {
   "cell_type": "code",
   "execution_count": null,
   "metadata": {
    "collapsed": true
   },
   "outputs": [],
   "source": [
    "phone_ext.get(\"kent\")"
   ]
  },
  {
   "cell_type": "code",
   "execution_count": null,
   "metadata": {
    "collapsed": false
   },
   "outputs": [],
   "source": [
    "phone_ext.get(\"kent\", 'no entry')"
   ]
  },
  {
   "cell_type": "code",
   "execution_count": null,
   "metadata": {
    "collapsed": true
   },
   "outputs": [],
   "source": [
    "del phone_ext[\"david\"]"
   ]
  },
  {
   "cell_type": "code",
   "execution_count": null,
   "metadata": {
    "collapsed": false
   },
   "outputs": [],
   "source": [
    "phone_ext"
   ]
  },
  {
   "cell_type": "code",
   "execution_count": null,
   "metadata": {
    "collapsed": false
   },
   "outputs": [],
   "source": [
    "user_name = input(\"Please enter your name \")"
   ]
  },
  {
   "cell_type": "code",
   "execution_count": null,
   "metadata": {
    "collapsed": false
   },
   "outputs": [],
   "source": [
    "print(\"Your name in all capitals is\",user_name.upper(),\n",
    "    \"and has length\", len(user_name))"
   ]
  },
  {
   "cell_type": "code",
   "execution_count": null,
   "metadata": {
    "collapsed": false
   },
   "outputs": [],
   "source": [
    "user_radius = input(\"Please enter the radius of the circle \")\n",
    "radius = float(user_radius)\n",
    "diameter = 2 * radius"
   ]
  },
  {
   "cell_type": "code",
   "execution_count": null,
   "metadata": {
    "collapsed": false
   },
   "outputs": [],
   "source": [
    "print diameter"
   ]
  },
  {
   "cell_type": "code",
   "execution_count": null,
   "metadata": {
    "collapsed": false
   },
   "outputs": [],
   "source": [
    "user_name2 = raw_input(\"Please enter your name \")"
   ]
  },
  {
   "cell_type": "code",
   "execution_count": null,
   "metadata": {
    "collapsed": false
   },
   "outputs": [],
   "source": [
    "print user_name2"
   ]
  },
  {
   "cell_type": "code",
   "execution_count": null,
   "metadata": {
    "collapsed": false
   },
   "outputs": [],
   "source": [
    "from __future__ import print_function\n",
    "print(\"Hello\",\"World\", sep = \"***\")"
   ]
  },
  {
   "cell_type": "code",
   "execution_count": null,
   "metadata": {
    "collapsed": false
   },
   "outputs": [],
   "source": [
    "for char in 'longstring':\n",
    "    print(char)"
   ]
  },
  {
   "cell_type": "code",
   "execution_count": null,
   "metadata": {
    "collapsed": false
   },
   "outputs": [],
   "source": [
    "word_list = ['cat','dog','rabbit']\n",
    "letter_list = [ ]\n",
    "for a_word in word_list:\n",
    "   for a_letter in a_word:\n",
    "      letter_list.append(a_letter)\n",
    "print(letter_list)"
   ]
  },
  {
   "cell_type": "code",
   "execution_count": null,
   "metadata": {
    "collapsed": false
   },
   "outputs": [],
   "source": [
    "n = -2\n",
    "if n<0:\n",
    "    n= abs(n)\n",
    "print(math.sqrt(n))"
   ]
  },
  {
   "cell_type": "code",
   "execution_count": null,
   "metadata": {
    "collapsed": false
   },
   "outputs": [],
   "source": [
    "# print(math.sqrt(-2)) >> ValueError: math domain error"
   ]
  },
  {
   "cell_type": "code",
   "execution_count": null,
   "metadata": {
    "collapsed": false
   },
   "outputs": [],
   "source": [
    "# list comprehension\n",
    "sq_list = [x * x for x in range(1, 11) if x % 2 != 0]\n",
    "sq_list"
   ]
  },
  {
   "cell_type": "code",
   "execution_count": null,
   "metadata": {
    "collapsed": false
   },
   "outputs": [],
   "source": [
    "[ch.upper() for ch in 'comprehension' if ch not in 'aeiou']"
   ]
  },
  {
   "cell_type": "code",
   "execution_count": null,
   "metadata": {
    "collapsed": false
   },
   "outputs": [],
   "source": [
    "word_list = ['cat','dog','rabbit']\n",
    "letter_list = [ ]\n",
    "for a_word in word_list:\n",
    "    for a_letter in a_word:\n",
    "        if a_letter not in letter_list:  \n",
    "            letter_list.append(a_letter)\n",
    "print(letter_list)"
   ]
  },
  {
   "cell_type": "code",
   "execution_count": null,
   "metadata": {
    "collapsed": false
   },
   "outputs": [],
   "source": [
    "a_number = int(raw_input(\"Please enter an integer \"))\n",
    "\n",
    "try:\n",
    "    print(math.sqrt(a_number))\n",
    "    \n",
    "except:\n",
    "    print(\"Bad Value for square root\")\n",
    "    print(\"Using absolute value instead\")\n",
    "    print(math.sqrt(abs(a_number)))"
   ]
  },
  {
   "cell_type": "code",
   "execution_count": null,
   "metadata": {
    "collapsed": false
   },
   "outputs": [],
   "source": [
    "n = 1\n",
    "def square_root(n):\n",
    "    #initial guess will be 1/2 of n\n",
    "    root = float(n / 2)\n",
    "    for k in range(20):\n",
    "        #print(k)\n",
    "        root =  ((root + (n / root)))/2\n",
    "        #print root\n",
    "    return root\n",
    "square_root(9)"
   ]
  },
  {
   "cell_type": "code",
   "execution_count": null,
   "metadata": {
    "collapsed": false
   },
   "outputs": [],
   "source": [
    "square_root(4563)"
   ]
  },
  {
   "cell_type": "code",
   "execution_count": null,
   "metadata": {
    "collapsed": false
   },
   "outputs": [],
   "source": [
    "import random\n",
    "import string\n",
    "random.choice(string.ascii_letters)\n",
    "# random.choice(string.ascii_lowercase + ' ')"
   ]
  },
  {
   "cell_type": "code",
   "execution_count": null,
   "metadata": {
    "collapsed": false
   },
   "outputs": [],
   "source": [
    "L = []\n",
    "for k in range(27):\n",
    "    c = random.choice(string.ascii_lowercase + ' ')\n",
    "    L.append(c)\n",
    "    new_string = \"\".join(str(x) for x in L)\n",
    "print(new_string)"
   ]
  },
  {
   "cell_type": "code",
   "execution_count": null,
   "metadata": {
    "collapsed": false
   },
   "outputs": [],
   "source": [
    "grade = 0\n",
    "phrase = 'methinks it is like a weasel'\n",
    "\n",
    "for c in range(0,27):\n",
    "    if new_string[c] == phrase[c]:\n",
    "        grade += 1\n",
    "#print grade/27"
   ]
  },
  {
   "cell_type": "code",
   "execution_count": null,
   "metadata": {
    "collapsed": false
   },
   "outputs": [],
   "source": [
    "# checking logic\n",
    "grade2 = 0\n",
    "test_str = 'methinks it is like a weasel'\n",
    "for c in range(0,27):\n",
    "    if test_str[c] == phrase[c]:\n",
    "        grade += 1\n",
    "#print grade / 27 * 100,'%'"
   ]
  },
  {
   "cell_type": "code",
   "execution_count": null,
   "metadata": {
    "collapsed": false
   },
   "outputs": [],
   "source": [
    "# testing calling functions\n",
    "\n",
    "def gen():\n",
    "    L = []\n",
    "    for k in range(27):\n",
    "        c = random.choice(string.ascii_lowercase + ' ')\n",
    "        L.append(c)\n",
    "        new_string = \"\".join(str(x) for x in L)\n",
    "    return new_string\n",
    "#print gen()\n",
    "\n",
    "\n",
    "def grade(new_string):\n",
    "    grade = 0\n",
    "    phrase = 'methinks it is like a weasel'\n",
    "\n",
    "    for c in range(0,27):\n",
    "        if new_string[c] == phrase[c]:\n",
    "            grade += 1\n",
    "    return grade/27\n",
    "\n",
    "#print grade(gen())"
   ]
  },
  {
   "cell_type": "code",
   "execution_count": null,
   "metadata": {
    "collapsed": false
   },
   "outputs": [],
   "source": [
    "\"\"\" \n",
    "def weasel():\n",
    "    for k in range(50):\n",
    "        temp = grade(gen())\n",
    "        if k%10 == 0:\n",
    "            #print gen(), temp\n",
    "        return \"end of for\"\n",
    "\n",
    "#print weasel()\"\"\""
   ]
  },
  {
   "cell_type": "code",
   "execution_count": null,
   "metadata": {
    "collapsed": false
   },
   "outputs": [],
   "source": [
    "NL = []\n",
    "\n",
    "NP = 'methinks it is like a weasel'\n",
    "\n",
    "NC = random.choice(string.ascii_lowercase + ' ')\n",
    "\n",
    "\n",
    "for k in range(len(NP)):\n",
    "    while NC != NP[k]:\n",
    "        NC = random.choice(string.ascii_lowercase + ' ')\n",
    "    NL.append(NC)\n",
    "\n",
    "sol = \"\".join(str(x) for x in NL)\n",
    "\n",
    "\n",
    "print(sol)\n",
    "print(k)"
   ]
  },
  {
   "cell_type": "code",
   "execution_count": null,
   "metadata": {
    "collapsed": false
   },
   "outputs": [],
   "source": [
    "# implementing a Fraction class - Miller and Ranum, pg 34 onwards\n",
    "\n",
    "# gcd function\n",
    "def gcd(m, n):\n",
    "    while m % n != 0:\n",
    "        old_m = m\n",
    "        old_n = n\n",
    "        \n",
    "        m = old_n\n",
    "        n = old_m % old_n\n",
    "    return n\n",
    "\n",
    "print(gcd(57, 45))"
   ]
  },
  {
   "cell_type": "code",
   "execution_count": null,
   "metadata": {
    "collapsed": false
   },
   "outputs": [],
   "source": [
    "# Fraction class\n",
    "# implements: addition and equality\n",
    "# to do: multiplication, division, subtraction and comparison operators (<, >)\n",
    "\n",
    "class Fraction:\n",
    "    def __init__(self, top, bottom):  # constructor method\n",
    "        if top == int(top) and bottom == int(bottom):\n",
    "            if top > 0 and bottom > 0:\n",
    "                self.num = top\n",
    "                self.den = bottom\n",
    "            else: \n",
    "                self.num = abs(top)\n",
    "                self.den = abs(bottom)\n",
    "        else:\n",
    "            raise RuntimeError(\"not integers\")\n",
    "            \n",
    "        \n",
    "    def __str__(self):  # overrides str - for conversion of fraction into string\n",
    "        return str(self.num) + \"/\" + str(self.den)\n",
    "        \n",
    "    def show(self):    \n",
    "        print(self.num, \"/\", self.den)   # method show allow the fraction object to print itself as a string\n",
    "        \n",
    "    def __add__(self, other_fraction):  # overrides addition - we can use standard operator \"+\"\n",
    "        new_num = self.num * other_fraction.den + \\\n",
    "                  self.den * other_fraction.num  \n",
    "        new_den = self.den * other_fraction.den\n",
    "        common = gcd(new_num, new_den)   # gcd used to reduce fraction to lowest terms\n",
    "        return Fraction(new_num // common, new_den // common)\n",
    "    \n",
    "    def __eq__(self, other):\n",
    "        first_num = self.num * other.den\n",
    "        second_num = other.num * self.den\n",
    "        return first_num == second_num\n",
    "    \n",
    "    def __mul__(self, other_fraction):  # overrides multiplication - operator \"*\"\n",
    "        new_num = self.num * other_fraction.num  \n",
    "        new_den = self.den * other_fraction.den\n",
    "        common = gcd(new_num, new_den)   # gcd used to reduce fraction to lowest terms\n",
    "        return Fraction(new_num // common, new_den // common)  \n",
    "    \n",
    "    def __truediv__(self, other_fraction): # overrides division - operator \"/\"\n",
    "        recip_num = other_fraction.den\n",
    "        recip_den = other_fraction.num\n",
    "        return self * Fraction(recip_num, recip_den)\n",
    "    \n",
    "    def __sub__(self, other_fraction):  # overrides subtraction - operator \"-\"\n",
    "        new_num = self.num * other_fraction.den - self.den * other_fraction.num  \n",
    "        new_den = self.den * other_fraction.den\n",
    "        common = gcd(new_num, new_den)   \n",
    "        return Fraction(new_num // common, new_den // common)\n",
    "    \n",
    "    def __lt__(self, other):\n",
    "        new_den = self.den * other.den\n",
    "        first_num = self.num * new_den\n",
    "        second_num = other.num * new_den\n",
    "        return first_num < second_num\n",
    "    \n",
    "    def __gt__(self, other):\n",
    "        new_den = self.den * other.den\n",
    "        first_num = self.num * new_den\n",
    "        second_num = other.num * new_den\n",
    "        return first_num > second_num\n",
    "    "
   ]
  },
  {
   "cell_type": "code",
   "execution_count": null,
   "metadata": {
    "collapsed": false
   },
   "outputs": [],
   "source": [
    "my_f = Fraction(-2, -5)\n",
    "print(my_f)"
   ]
  },
  {
   "cell_type": "code",
   "execution_count": null,
   "metadata": {
    "collapsed": false
   },
   "outputs": [],
   "source": [
    "f1 = Fraction(-1, -4)\n",
    "f2 = Fraction(1, 2)\n",
    "f3 = f1 - f2\n",
    "print(f3)"
   ]
  },
  {
   "cell_type": "code",
   "execution_count": null,
   "metadata": {
    "collapsed": false
   },
   "outputs": [],
   "source": [
    "my_f = Fraction(3, 5)\n",
    "print(my_f)\n",
    "print(\"I ate\", my_f, \"of the pizza\")\n",
    "my_f.__str__()\n",
    "str(my_f)"
   ]
  },
  {
   "cell_type": "code",
   "execution_count": null,
   "metadata": {
    "collapsed": true
   },
   "outputs": [],
   "source": []
  },
  {
   "cell_type": "code",
   "execution_count": null,
   "metadata": {
    "collapsed": false
   },
   "outputs": [],
   "source": [
    "f1 = Fraction(1, 4)\n",
    "f2 = Fraction(1, 2)\n",
    "f3 = f1 + f2\n",
    "print(f3)\n",
    "\n",
    "f4 = f1 * f2\n",
    "print(f4)\n",
    "\n",
    "f5 = f1 / f2\n",
    "print(f5)\n",
    "\n",
    "f6 = f1 - f2\n",
    "print(f6)"
   ]
  },
  {
   "cell_type": "code",
   "execution_count": null,
   "metadata": {
    "collapsed": false
   },
   "outputs": [],
   "source": [
    "f1 = Fraction(3, 5)\n",
    "f2 = Fraction(6, 9)\n",
    "f3 = f1 + f2\n",
    "print(f3)\n",
    "\n",
    "f4 = f1 * f2\n",
    "print(f4)\n",
    "\n",
    "f5 = f1 / f2\n",
    "print(f5)\n",
    "\n",
    "f6 = f1 - f2\n",
    "print(f6)"
   ]
  },
  {
   "cell_type": "code",
   "execution_count": null,
   "metadata": {
    "collapsed": false
   },
   "outputs": [],
   "source": [
    "x = Fraction(1, 2)\n",
    "y = Fraction(2, 3)\n",
    "print(x + y)\n",
    "print(x == y)\n",
    "\n",
    "x = Fraction(-3, -5)\n",
    "y = Fraction(1, 4)\n",
    "print(x > y)"
   ]
  },
  {
   "cell_type": "code",
   "execution_count": null,
   "metadata": {
    "collapsed": false
   },
   "outputs": [],
   "source": [
    "x = Fraction(12, 8)\n",
    "y = Fraction(6, 4)\n",
    "print(x + y)\n",
    "print(x == y)"
   ]
  },
  {
   "cell_type": "code",
   "execution_count": null,
   "metadata": {
    "collapsed": false
   },
   "outputs": [],
   "source": [
    "x = Fraction(1, 8)\n",
    "y = Fraction(1, 8)\n",
    "print(x < y)"
   ]
  },
  {
   "cell_type": "code",
   "execution_count": null,
   "metadata": {
    "collapsed": false
   },
   "outputs": [],
   "source": [
    "\"\"\"\n",
    "method object.__repr__ \n",
    "\n",
    "Called by the repr() built-in function and by string conversions (reverse quotes) to compute \n",
    "the “official” string representation of an object. \n",
    "If at all possible, this should look like a valid Python expression that could be used to \n",
    "recreate an object with the same value (given an appropriate environment). \n",
    "If this is not possible, a string of the form <...some useful description...> \n",
    "should be returned. The return value must be a string object. \n",
    "If a class defines __repr__() but not __str__(), then __repr__() is also used \n",
    "when an “informal” string representation of instances of that class is required.\n",
    "This is typically used for debugging, so it is important that the representation \n",
    "is information-rich and unambiguous.\n",
    "\"\"\"\n",
    "\n",
    "class StackOverflowDemo:\n",
    "    def __init__(self):\n",
    "        pass\n",
    "    def __repr__(self):\n",
    "        return '<StackOverflow demo object __repr__>'\n",
    "\n",
    "demo = StackOverflowDemo()\n",
    "demo"
   ]
  },
  {
   "cell_type": "code",
   "execution_count": null,
   "metadata": {
    "collapsed": false
   },
   "outputs": [],
   "source": [
    "import numpy as np\n",
    "\n",
    "a = np.zeros((9, 9), dtype=int)\n",
    "# print a\n",
    "# adding info to first column\n",
    "a[:,0] = [9, 5, 0, 0, 0, 0, 6, 0, 8]\n",
    "a[:,5] = [0, 0, 8, 0, 7, 1, 0, 0, 3]\n",
    "a[:,8] = [5, 0, 4, 0, 0, 0, 0, 8, 2]\n",
    "print a\n",
    "# slicing\n",
    "print a[:,0]  # first column\n",
    "print a[0, :]  # first row\n"
   ]
  },
  {
   "cell_type": "code",
   "execution_count": null,
   "metadata": {
    "collapsed": false
   },
   "outputs": [],
   "source": [
    "a = np.array(\n",
    "    [[9, 8, 3, 6, 7, 0, 2, 0, 5],\n",
    "     [5, 0, 0, 0, 1, 0, 8, 0, 0],\n",
    "     [0, 1, 0, 0, 0, 8, 0, 0, 4],\n",
    "     [0, 7, 8, 5, 0, 0, 0, 0, 0],\n",
    "     [0, 5, 2, 8, 9, 7, 4, 3, 0],\n",
    "     [0, 0, 0, 0, 0, 1, 5, 8, 0],\n",
    "     [6, 0, 0, 7, 0, 0, 0, 4, 0],\n",
    "     [0, 0, 1, 0, 4, 0, 0, 0, 8],\n",
    "     [8, 0, 4, 0, 6, 3, 7, 5, 2]], dtype=int)\n",
    "\n",
    "R1 = a[0, :]\n",
    "R2 = a[1, :]\n",
    "R3 = a[2, :]\n",
    "R4 = a[3, :]\n",
    "R5 = a[4, :]\n",
    "R6 = a[5, :]\n",
    "R7 = a[6, :]\n",
    "R8 = a[7, :]\n",
    "R9 = a[8, :]\n",
    "rowList = [R1, R2, R3, R4, R5, R6, R7, R8, R9]    \n",
    "\n",
    "C1 = a[:,0]\n",
    "C2 = a[:,1]\n",
    "C3 = a[:,2]\n",
    "C4 = a[:,3]\n",
    "C5 = a[:,4]\n",
    "C6 = a[:,5]\n",
    "C7 = a[:,6]\n",
    "C8 = a[:,7]\n",
    "C9 = a[:,8]\n",
    "colList = [C1, C2, C3, C4, C5, C6, C7, C8, C9]\n",
    "\n",
    "G1 = a[0:3, 0:3] \n",
    "G2 = a[3:6, 0:3]\n",
    "G3 = a[6:, 0:3]\n",
    "G4 = a[0:3, 3:6]\n",
    "G5 = a[3:6, 3:6]\n",
    "G6 = a[6:, 3:6]\n",
    "G7 = a[0:3, 6:]\n",
    "G8 = a[3:6, 6:]\n",
    "G9 = a[6:, 6:]\n",
    "gridList = [G1, G2, G3, G4, G5, G6, G7, G8, G9]   \n",
    "\n",
    "# iterating through rows\n",
    "\n",
    "a = np.array(\n",
    "    [[1, 0, 2, 6, 0, 4, 8, 0, 0],\n",
    "     [0, 0, 0, 0, 8, 1, 4, 2, 5],\n",
    "     [0, 0, 4, 0, 0, 0, 0, 0, 0],\n",
    "     [0, 0, 9, 0, 6, 8, 2, 5, 0],\n",
    "     [5, 3, 0, 4, 2, 9, 0, 8, 6],\n",
    "     [0, 6, 8, 5, 3, 0, 9, 0, 0],\n",
    "     [0, 0, 0, 0, 0, 0, 3, 0, 0],\n",
    "     [8, 9, 3, 7, 5, 0, 0, 0, 0],\n",
    "     [0, 0, 7, 9, 0, 3, 5, 0, 8]], dtype=int)\n",
    "\n",
    "zeroCount = 0\n",
    "rowN = []\n",
    "zeroList = []\n",
    "\n",
    "\n",
    "for row in a:\n",
    "    rowN.append(row)\n",
    "    for elem in row:\n",
    "        if elem == 0:\n",
    "            zeroCount +=1\n",
    "        \n",
    "    zeroList.append(zeroCount)\n",
    "    zeroCount = 0\n",
    "    \n",
    "newlist = zip(rowN, zeroList)\n",
    "print newlist\n",
    "\n",
    "\n",
    " \n",
    "    "
   ]
  },
  {
   "cell_type": "code",
   "execution_count": null,
   "metadata": {
    "collapsed": false
   },
   "outputs": [],
   "source": [
    "count2s = 0\n",
    "list2s = []\n",
    "ad = 0\n",
    "for elem in newlist:\n",
    "    if elem[1] == 2:\n",
    "        count2s +=1\n",
    "        list2s.append(elem[0])\n",
    "        \n",
    "print \" num of rows with 2 zeros = \", count2s\n",
    "print \" row arrays with 2 zeros = \",  list2s\n",
    "\n",
    "        "
   ]
  },
  {
   "cell_type": "code",
   "execution_count": null,
   "metadata": {
    "collapsed": false
   },
   "outputs": [],
   "source": [
    "# iterating through columns\n",
    "zeroCount = 0\n",
    "colN = []\n",
    "zeroList = []\n",
    "\n",
    "\n",
    "for col in a.T:   # same as iterating through rows, but using the transpose of the original array\n",
    "    colN.append(col)\n",
    "    for elem in col:\n",
    "        if elem == 0:\n",
    "            zeroCount +=1\n",
    "        \n",
    "    zeroList.append(zeroCount)\n",
    "    zeroCount = 0\n",
    "    \n",
    "newCollist = zip(colN, zeroList)\n",
    "print newCollist\n",
    "\n",
    "collist2s = []\n",
    "count2s = 0\n",
    "for elem in newCollist:\n",
    "    if elem[1] == 2:\n",
    "        count2s +=1\n",
    "        collist2s.append(elem[0])\n",
    "print \" num of cols with 2 zeros = \", count2s\n",
    "print \" col arrays with 2 zeros = \", collist2s\n"
   ]
  },
  {
   "cell_type": "code",
   "execution_count": null,
   "metadata": {
    "collapsed": false
   },
   "outputs": [],
   "source": [
    "#  iterating through grids\n",
    "\n",
    "G1 = a[0:3, 0:3]\n",
    "G2 = a[3:6, 0:3]\n",
    "G3 = a[6:, 0:3]\n",
    "G4 = a[0:3, 3:6]\n",
    "G5 = a[3:6, 3:6]\n",
    "G6 = a[6:, 3:6]\n",
    "G7 = a[0:3, 6:]\n",
    "G8 = a[3:6, 6:]\n",
    "G9 = a[6:, 6:]\n",
    "gridList = [G1, G2, G3, G4, G5, G6, G7, G8, G9]   \n",
    "\n",
    "zeroCount = 0\n",
    "zeroGList = []\n",
    "gridN = []\n",
    "\n",
    "for grid in gridList:\n",
    "    gridN.append(grid)\n",
    "    for row in grid:\n",
    "        for elem in row:\n",
    "            if elem == 0:\n",
    "                zeroCount +=1\n",
    "    zeroGList.append(zeroCount)\n",
    "    zeroCount = 0\n",
    "\n",
    "newGlist = zip(gridN, zeroGList)\n",
    "print newGlist            \n",
    "       \n",
    "Glist2s = []\n",
    "count2s = 0\n",
    "for elem in newGlist:\n",
    "    if elem[1] == 2:\n",
    "        count2s +=1\n",
    "        Glist2s.append(elem[0])\n",
    "print \" num of grids with 2 zeros = \", count2s\n",
    "print \" grid arrays with 2 zeros = \", Glist2s"
   ]
  },
  {
   "cell_type": "code",
   "execution_count": null,
   "metadata": {
    "collapsed": true
   },
   "outputs": [],
   "source": []
  }
 ],
 "metadata": {
  "anaconda-cloud": {},
  "kernelspec": {
   "display_name": "Python 2",
   "language": "python",
   "name": "python2"
  },
  "language_info": {
   "codemirror_mode": {
    "name": "ipython",
    "version": 2
   },
   "file_extension": ".py",
   "mimetype": "text/x-python",
   "name": "python",
   "nbconvert_exporter": "python",
   "pygments_lexer": "ipython2",
   "version": "2.7.13"
  }
 },
 "nbformat": 4,
 "nbformat_minor": 0
}
