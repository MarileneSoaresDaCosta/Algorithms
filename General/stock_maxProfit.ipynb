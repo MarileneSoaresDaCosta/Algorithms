{
 "cells": [
  {
   "cell_type": "code",
   "execution_count": 1,
   "metadata": {
    "collapsed": false
   },
   "outputs": [],
   "source": [
    "def maxProfit(prices):\n",
    "    n = len(prices)\n",
    "    sell = prices[n-1]\n",
    "    sell_ind = n-1\n",
    "    buy = prices[0]\n",
    "    buy_ind = 0\n",
    "    \n",
    "   \n",
    "    for i in range(1, n-1):\n",
    "        # price went up\n",
    "        if prices[i] > prices[i-1] and sell_ind > buy_ind:  \n",
    "            sell = prices[i]\n",
    "            print 'prices[i]' , prices[i], 'prices[i-1]' , prices[i-1]\n",
    "           \n",
    "            quit()\n",
    "            # price came down\n",
    "            \n",
    "        elif prices[i] < prices[i-1] and sell_ind > buy_ind: \n",
    "            buy = prices[i]\n",
    "            print 'buy, buy'\n",
    "        else:\n",
    "            print 'max profit', (sell - buy)\n",
    "        \n",
    "    "
   ]
  },
  {
   "cell_type": "code",
   "execution_count": 2,
   "metadata": {
    "collapsed": false
   },
   "outputs": [
    {
     "name": "stdout",
     "output_type": "stream",
     "text": [
      "buy, buy\n",
      "buy, buy\n",
      "prices[i] 8 prices[i-1] 5\n",
      "prices[i] 11 prices[i-1] 8\n",
      "None\n"
     ]
    }
   ],
   "source": [
    "p = [10, 7, 5, 8, 11, 9]\n",
    "\n",
    "print maxProfit(p)"
   ]
  },
  {
   "cell_type": "code",
   "execution_count": null,
   "metadata": {
    "collapsed": true
   },
   "outputs": [],
   "source": []
  }
 ],
 "metadata": {
  "kernelspec": {
   "display_name": "Python [Root]",
   "language": "python",
   "name": "Python [Root]"
  },
  "language_info": {
   "codemirror_mode": {
    "name": "ipython",
    "version": 2
   },
   "file_extension": ".py",
   "mimetype": "text/x-python",
   "name": "python",
   "nbconvert_exporter": "python",
   "pygments_lexer": "ipython2",
   "version": "2.7.12"
  }
 },
 "nbformat": 4,
 "nbformat_minor": 0
}
