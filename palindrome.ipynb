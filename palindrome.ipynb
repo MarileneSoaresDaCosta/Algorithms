{
 "cells": [
  {
   "cell_type": "markdown",
   "metadata": {},
   "source": [
    "### check if a string is a palindrome, without creating another string"
   ]
  },
  {
   "cell_type": "code",
   "execution_count": 52,
   "metadata": {
    "collapsed": false
   },
   "outputs": [],
   "source": [
    "import re\n",
    "\n",
    "def Check_palin(s):\n",
    "    if not s.isalpha():      \n",
    "        s = re.sub(r'[^\\w]', '', s) \n",
    "#        print s\n",
    "    \n",
    "    s = s.lower() \n",
    "    i = 0\n",
    "    for i in range(0, len(s)/2):\n",
    "        if s[i] == s[len(s)-1-i]:\n",
    "#            print i, s[i], s[len(s)-1-i]\n",
    "            i+=1\n",
    "#            print i\n",
    "        else:\n",
    "            return 'no'\n",
    "    return 'yes'\n",
    "    "
   ]
  },
  {
   "cell_type": "code",
   "execution_count": 54,
   "metadata": {
    "collapsed": false
   },
   "outputs": [
    {
     "name": "stdout",
     "output_type": "stream",
     "text": [
      "Abc1d1cba\n",
      "0 a a\n",
      "1\n",
      "1 b b\n",
      "2\n",
      "2 c c\n",
      "3\n",
      "3 1 1\n",
      "4\n",
      "yes\n"
     ]
    }
   ],
   "source": [
    "# Testing\n",
    "\n",
    "#print Check_palin('ana')\n",
    "print Check_palin('Abc1!d1cba')"
   ]
  },
  {
   "cell_type": "code",
   "execution_count": null,
   "metadata": {
    "collapsed": true
   },
   "outputs": [],
   "source": []
  },
  {
   "cell_type": "code",
   "execution_count": 58,
   "metadata": {
    "collapsed": false
   },
   "outputs": [],
   "source": [
    "# pythonic solution> the [::-1] slice takes care of inverting the string \n",
    "def Check_palin3(s):\n",
    "    if str(s) == str(s)[::-1] and len(s) >2:\n",
    "        return \"%s IS a palindrome\" %(s)\n",
    "    else:\n",
    "        return \"%s is NOT a palindrome\" %(s)\n",
    "    \n",
    "# http://stackoverflow.com/questions/17331290/how-to-check-for-palindrome-using-python-logic"
   ]
  },
  {
   "cell_type": "code",
   "execution_count": 59,
   "metadata": {
    "collapsed": false
   },
   "outputs": [
    {
     "name": "stdout",
     "output_type": "stream",
     "text": [
      "ana IS a palindrome\n",
      "an is NOT a palindrome\n",
      " is NOT a palindrome\n",
      "a man, a plan , a canal, Panama is NOT a palindrome\n"
     ]
    }
   ],
   "source": [
    "# Testing\n",
    "print Check_palin3('ana')\n",
    "print Check_palin3('an')\n",
    "print Check_palin3('')\n",
    "print Check_palin3('a man, a plan , a canal, Panama')"
   ]
  },
  {
   "cell_type": "code",
   "execution_count": 60,
   "metadata": {
    "collapsed": false
   },
   "outputs": [
    {
     "data": {
      "text/plain": [
       "True"
      ]
     },
     "execution_count": 60,
     "metadata": {},
     "output_type": "execute_result"
    }
   ],
   "source": [
    "test = \"abcba\"\n",
    "test == ''.join(reversed(test))"
   ]
  },
  {
   "cell_type": "code",
   "execution_count": 61,
   "metadata": {
    "collapsed": false
   },
   "outputs": [
    {
     "data": {
      "text/plain": [
       "False"
      ]
     },
     "execution_count": 61,
     "metadata": {},
     "output_type": "execute_result"
    }
   ],
   "source": [
    "test = \"a man, a plan , a canal, Panama\"\n",
    "test == ''.join(reversed(test))"
   ]
  },
  {
   "cell_type": "code",
   "execution_count": 66,
   "metadata": {
    "collapsed": false
   },
   "outputs": [
    {
     "name": "stdout",
     "output_type": "stream",
     "text": [
      "True\n"
     ]
    }
   ],
   "source": [
    "# cleaning up and using recursion (also from stackoverflow)\n",
    "# regular expression:\n",
    "# [^...] -- matches any single character not in brackets\n",
    "# \\w  -- Matches any alphanumeric character\n",
    "#  re.sub(pattern, repl, string, count=0, flags=0)¶\n",
    "\n",
    "import re\n",
    "\n",
    "rules = [\n",
    "    lambda s: any(x.isupper() for x in s),\n",
    "    lambda s: not s.isalpha()\n",
    "]\n",
    "\n",
    "\n",
    "def is_palindrome(s):\n",
    "    if any(rule(s) for rule in rules):\n",
    "        s = re.sub(r'[^\\w]', '', s).lower()\n",
    "    if len(s) < 2:\n",
    "        return True\n",
    "    if s[0] != s[-1]:\n",
    "        return False\n",
    "    return is_palindrome(s[1:-1])\n",
    "\n",
    "\n",
    "string = 'Are we not drawn onward, we few, drawn onward to new era?'\n",
    "\n",
    "print(is_palindrome(string))"
   ]
  },
  {
   "cell_type": "code",
   "execution_count": 67,
   "metadata": {
    "collapsed": false
   },
   "outputs": [
    {
     "name": "stdout",
     "output_type": "stream",
     "text": [
      "True\n"
     ]
    }
   ],
   "source": [
    "s4 = 'a man, a plan , a canal, Panama'\n",
    "print(is_palindrome(s4))"
   ]
  },
  {
   "cell_type": "code",
   "execution_count": 44,
   "metadata": {
    "collapsed": true
   },
   "outputs": [],
   "source": [
    "# pythonic way version 2 - no cleaning\n",
    "def Check_palin4(s):\n",
    "    if s == s[::-1] and len(s) >2:\n",
    "        return \"%s IS a palindrome\" %(s)\n",
    "    else:\n",
    "        print s\n",
    "        print s[::-1] \n",
    "        return \"%s is NOT a palindrome\" %(s)"
   ]
  },
  {
   "cell_type": "code",
   "execution_count": 45,
   "metadata": {
    "collapsed": false
   },
   "outputs": [
    {
     "name": "stdout",
     "output_type": "stream",
     "text": [
      "abcba IS a palindrome\n"
     ]
    }
   ],
   "source": [
    "print Check_palin4('abcba')"
   ]
  },
  {
   "cell_type": "code",
   "execution_count": null,
   "metadata": {
    "collapsed": false
   },
   "outputs": [],
   "source": []
  },
  {
   "cell_type": "code",
   "execution_count": 62,
   "metadata": {
    "collapsed": false
   },
   "outputs": [
    {
     "name": "stdout",
     "output_type": "stream",
     "text": [
      "abcba\n",
      "abcba\n",
      "bcb\n",
      "bcb\n",
      "c\n",
      "c\n",
      "True\n"
     ]
    }
   ],
   "source": [
    "# using recursion with cleaning\n",
    "import re\n",
    "\n",
    "def ispal(s):\n",
    "    if not s.isalpha():      \n",
    "        s = re.sub(r'[^\\w]', '', s) \n",
    "    s = s.lower() \n",
    "    print s\n",
    "    if len(s) < 2:\n",
    "        print s\n",
    "        return True\n",
    "    if s[0] != s[-1]:\n",
    "        print s\n",
    "        return False\n",
    "    print s\n",
    "    return ispal(s[1:-1])\n",
    "\n",
    "string = 'abcba'\n",
    "\n",
    "print(ispal(string))"
   ]
  },
  {
   "cell_type": "code",
   "execution_count": null,
   "metadata": {
    "collapsed": true
   },
   "outputs": [],
   "source": []
  }
 ],
 "metadata": {
  "anaconda-cloud": {},
  "kernelspec": {
   "display_name": "Python [Root]",
   "language": "python",
   "name": "Python [Root]"
  },
  "language_info": {
   "codemirror_mode": {
    "name": "ipython",
    "version": 2
   },
   "file_extension": ".py",
   "mimetype": "text/x-python",
   "name": "python",
   "nbconvert_exporter": "python",
   "pygments_lexer": "ipython2",
   "version": "2.7.12"
  }
 },
 "nbformat": 4,
 "nbformat_minor": 0
}
