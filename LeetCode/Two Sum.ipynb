{
 "cells": [
  {
   "cell_type": "code",
   "execution_count": 20,
   "metadata": {},
   "outputs": [],
   "source": [
    "\"\"\"\n",
    "Given an array of integers, return indices of the two numbers such that they add up to a specific target.\n",
    "\n",
    "You may assume that each input would have exactly one solution, and you may not use the same element twice.\n",
    "\n",
    "Example:\n",
    "\n",
    "Given nums = [2, 7, 11, 15], target = 9,\n",
    "\n",
    "Because nums[0] + nums[1] = 2 + 7 = 9,\n",
    "return [0, 1].\n",
    "\"\"\"\n",
    "\n",
    "# BRUTE FORCE SOLUTION\n",
    "\n",
    "\n",
    "class Solution:\n",
    "    def twoSum(self, arr, t):\n",
    "        for i in range(0, len(arr)):\n",
    "            for j in range(i + 1, len(arr)):\n",
    "                if arr[i] + arr[j] == t: \n",
    "                    sol_arr = [i, j]\n",
    "                    return sol_arr\n",
    "                \n",
    "    \n"
   ]
  },
  {
   "cell_type": "code",
   "execution_count": 41,
   "metadata": {},
   "outputs": [
    {
     "name": "stdout",
     "output_type": "stream",
     "text": [
      "[1, 2]\n"
     ]
    }
   ],
   "source": [
    "\"\"\"\n",
    "testing the logic - assuming array is not sorted\n",
    "\"\"\"\n",
    "\n",
    "nums = [3, 2, 4]\n",
    "t = 6\n",
    "\n",
    "def twoSum(arr, t):\n",
    "    for i in range(0, len(arr)):\n",
    "        for j in range(i + 1, len(arr)):\n",
    "            if arr[i] + arr[j] == t: \n",
    "                sol_arr = [i, j]\n",
    "                return sol_arr\n",
    "            \n",
    "    \n",
    "\n",
    "print(twoSum(nums, t))"
   ]
  },
  {
   "cell_type": "code",
   "execution_count": 107,
   "metadata": {},
   "outputs": [
    {
     "name": "stdout",
     "output_type": "stream",
     "text": [
      "[0, 1]\n"
     ]
    }
   ],
   "source": [
    "#  OPTIMIZING\n",
    "nums = [3, 3]\n",
    "target = 6\n",
    "\n",
    "def twoSum(arr, t):\n",
    "    d = {}\n",
    "    for i, num in enumerate(arr):\n",
    "        n = target - num\n",
    "        if n not in d:\n",
    "            d[num] = i\n",
    "        else:\n",
    "            return [d[n], i]\n",
    "            \n",
    "print(twoSum(nums, target))"
   ]
  },
  {
   "cell_type": "code",
   "execution_count": 106,
   "metadata": {},
   "outputs": [
    {
     "data": {
      "text/plain": [
       "'\\nnums = [3, 2, 3]\\ntarget = 6\\n\\ndef twoSum(arr, t):\\n    d = {}\\n    for num in arr:\\n        comp = t - num\\n        print(\"num , comp \" , num, comp)\\n        if comp not in d.values():\\n            d[arr.index(num)] = num\\n#             print(d.keys(comp))\\n            \\n        else:\\n            return [comp, num]\\n        \\n            \\nprint(twoSum(nums, target))\\n'"
      ]
     },
     "execution_count": 106,
     "metadata": {},
     "output_type": "execute_result"
    }
   ],
   "source": [
    "\"\"\"\n",
    "nums = [3, 2, 3]\n",
    "target = 6\n",
    "\n",
    "def twoSum(arr, t):\n",
    "    d = {}\n",
    "    for num in arr:\n",
    "        comp = t - num\n",
    "        print(\"num , comp \" , num, comp)\n",
    "        if comp not in d.values():\n",
    "            d[arr.index(num)] = num\n",
    "#             print(d.keys(comp))\n",
    "            \n",
    "        else:\n",
    "            return [comp, num]\n",
    "        \n",
    "            \n",
    "print(twoSum(nums, target))\n",
    "\"\"\""
   ]
  },
  {
   "cell_type": "code",
   "execution_count": 79,
   "metadata": {},
   "outputs": [
    {
     "name": "stdout",
     "output_type": "stream",
     "text": [
      "found\n"
     ]
    }
   ],
   "source": [
    "f = {0: 3, 1: 2, 2: 4, 3: 5, 4: 12, 5: 1}\n",
    "if 2 in f.values():\n",
    "    print(\"found\")"
   ]
  },
  {
   "cell_type": "code",
   "execution_count": null,
   "metadata": {},
   "outputs": [],
   "source": []
  }
 ],
 "metadata": {
  "kernelspec": {
   "display_name": "Python 3",
   "language": "python",
   "name": "python3"
  },
  "language_info": {
   "codemirror_mode": {
    "name": "ipython",
    "version": 3
   },
   "file_extension": ".py",
   "mimetype": "text/x-python",
   "name": "python",
   "nbconvert_exporter": "python",
   "pygments_lexer": "ipython3",
   "version": "3.7.7"
  }
 },
 "nbformat": 4,
 "nbformat_minor": 4
}
