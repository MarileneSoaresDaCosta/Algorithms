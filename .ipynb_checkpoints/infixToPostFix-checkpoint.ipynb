{
 "cells": [
  {
   "cell_type": "code",
   "execution_count": 2,
   "metadata": {
    "collapsed": false
   },
   "outputs": [
    {
     "name": "stdout",
     "output_type": "stream",
     "text": [
      "A B * C D * +\n",
      "A B + C * D E - F G + * -\n"
     ]
    }
   ],
   "source": [
    "# 3.9. Infix, Prefix and Postfix Expressions - another exemple of using stacks\n",
    "\n",
    "class Stack:\n",
    "    def __init__(self):\n",
    "         self.items = []\n",
    "\n",
    "    def isEmpty(self):\n",
    "        return self.items == []\n",
    "\n",
    "    def push(self, item):\n",
    "        self.items.append(item)\n",
    "\n",
    "    def pop(self):\n",
    "        return self.items.pop()\n",
    "\n",
    "    def peek(self):\n",
    "        return self.items[len(self.items)-1]\n",
    "\n",
    "    def size(self):\n",
    "        return len(self.items)\n",
    "\n",
    "\n",
    "\"\"\"\n",
    "The following steps will produce a string of tokens in postfix order.\n",
    "\"\"\"    \n",
    "    \n",
    "def infixToPostfix(infixexpr):\n",
    "    prec = {}\n",
    "    prec[\"^\"] = 4\n",
    "    prec[\"*\"] = 3\n",
    "    prec[\"/\"] = 3\n",
    "    prec[\"+\"] = 2\n",
    "    prec[\"-\"] = 2\n",
    "    prec[\"(\"] = 1\n",
    "    \n",
    "    # Create an empty stack called opstack for keeping operators.\n",
    "    opStack = Stack()               \n",
    "   \n",
    "    # Create an empty list for output. \n",
    "    postfixList = []                \n",
    "    \n",
    "    # Convert the input infix string to a list by using the string method split.\n",
    "    tokenList = infixexpr.split()   \n",
    "    \n",
    "    #Scan the token list from left to right.\n",
    "    for token in tokenList:\n",
    "        \n",
    "        # If the token is an operand, append it to the end of the output list.\n",
    "        if token in \"ABCDEFGHIJKLMNOPQRSTUVWXYZ\" or token in \"0123456789\":\n",
    "            postfixList.append(token)\n",
    "            \n",
    "        # If the token is a left parenthesis, push it on the opstack.     \n",
    "        elif token == '(':\n",
    "            opStack.push(token)\n",
    "        # If the token is a right parenthesis, pop the opstack until     \n",
    "        elif token == ')':\n",
    "            topToken = opStack.pop()\n",
    "            \n",
    "            # the corresponding left parenthesis is removed. Append each operator to the end of the output list.\n",
    "            while topToken != '(':\n",
    "                postfixList.append(topToken)\n",
    "                topToken = opStack.pop()\n",
    "        # If the token is an operator, *, /, +, or -, push it on the opstack. \n",
    "        # However, first remove any operators already on the opstack that have higher or equal \n",
    "        # precedence and append them to the output list.        \n",
    "        else:\n",
    "            while (not opStack.isEmpty()) and (prec[opStack.peek()] >= prec[token]):\n",
    "                postfixList.append(opStack.pop())\n",
    "            opStack.push(token)\n",
    "            \n",
    "    # When the input expression has been completely processed, check the opstack. \n",
    "    # Any operators still on the stack can be removed and appended to the end of the output list.\n",
    "    while not opStack.isEmpty():\n",
    "        postfixList.append(opStack.pop())\n",
    "    return \" \".join(postfixList)\n",
    "\n",
    "print(infixToPostfix(\"A * B + C * D\"))\n",
    "print(infixToPostfix(\"( A + B ) * C - ( D - E ) * ( F + G )\"))\n"
   ]
  },
  {
   "cell_type": "code",
   "execution_count": 3,
   "metadata": {
    "collapsed": false
   },
   "outputs": [
    {
     "name": "stdout",
     "output_type": "stream",
     "text": [
      "A B + C D + *\n",
      "A B + C *\n",
      "A B C * +\n",
      "A B C * D E - / +\n"
     ]
    }
   ],
   "source": [
    "print(infixToPostfix(\"( A + B ) * ( C + D )\"))\n",
    "print(infixToPostfix(\"( A + B ) * C\"))\n",
    "print(infixToPostfix(\"A + B * C\"))\n",
    "print(infixToPostfix(\"A + B * C / ( D - E )\"))\n"
   ]
  },
  {
   "cell_type": "code",
   "execution_count": 4,
   "metadata": {
    "collapsed": false
   },
   "outputs": [
    {
     "name": "stdout",
     "output_type": "stream",
     "text": [
      "5 3 4 2 - ^ *\n"
     ]
    }
   ],
   "source": [
    "# watch out for spaces!!\n",
    "\n",
    "print(infixToPostfix(\"5 * 3 ^ ( 4 - 2 )\"))"
   ]
  },
  {
   "cell_type": "code",
   "execution_count": 5,
   "metadata": {
    "collapsed": false
   },
   "outputs": [
    {
     "name": "stdout",
     "output_type": "stream",
     "text": [
      "3\n"
     ]
    }
   ],
   "source": [
    "\"\"\"\n",
    "Assume the postfix expression is a string of tokens delimited by spaces. \n",
    "The operators are *, /, +, and - and the operands are assumed to be single-digit \n",
    "integer values. The output will be an integer result.\n",
    "\n",
    "1. Create an empty stack called operandStack.\n",
    "\n",
    "2. Convert the string to a list by using the string method split.\n",
    "\n",
    "3. Scan the token list from left to right.\n",
    "\n",
    "    - If the token is an operand, convert it from a string to an integer and \n",
    "      push the value onto the operandStack.\n",
    "      \n",
    "    - If the token is an operator, *, /, +, or -, it will need two operands. \n",
    "      Pop the operandStack twice. The first pop is the second operand and the \n",
    "      second pop is the first operand. Perform the arithmetic operation. \n",
    "      Push the result back on the operandStack.\n",
    "      \n",
    "When the input expression has been completely processed, the result is on the stack. \n",
    "Pop the operandStack and return the value.\n",
    "\n",
    "\"\"\"\n",
    "def postfixEval(postfixExpr):\n",
    "    operandStack = Stack()\n",
    "    tokenList = postfixExpr.split()\n",
    "\n",
    "    for token in tokenList:\n",
    "        if token in \"0123456789\":\n",
    "            operandStack.push(int(token))\n",
    "        else:\n",
    "            operand2 = operandStack.pop()\n",
    "            operand1 = operandStack.pop()\n",
    "            result = doMath(token,operand1,operand2)\n",
    "            operandStack.push(result)\n",
    "    return operandStack.pop()\n",
    "\n",
    "def doMath(op, op1, op2):\n",
    "    if op == \"*\":\n",
    "        return op1 * op2\n",
    "    elif op == \"/\":\n",
    "        return op1 / op2\n",
    "    elif op == \"+\":\n",
    "        return op1 + op2\n",
    "    else:\n",
    "        return op1 - op2\n",
    "\n",
    "print(postfixEval('7 8 + 3 2 + /'))\n"
   ]
  },
  {
   "cell_type": "code",
   "execution_count": 8,
   "metadata": {
    "collapsed": false
   },
   "outputs": [
    {
     "name": "stdout",
     "output_type": "stream",
     "text": [
      "A B + C D + * E F + *\n"
     ]
    }
   ],
   "source": [
    "print(infixToPostfix(\"( A + B ) * ( C + D ) * ( E + F )\"))"
   ]
  },
  {
   "cell_type": "code",
   "execution_count": 9,
   "metadata": {
    "collapsed": false
   },
   "outputs": [
    {
     "name": "stdout",
     "output_type": "stream",
     "text": [
      "A B C + D E + * +\n"
     ]
    }
   ],
   "source": [
    "print(infixToPostfix(\"A + ( ( B + C ) * ( D + E ) )\"))"
   ]
  },
  {
   "cell_type": "code",
   "execution_count": 11,
   "metadata": {
    "collapsed": false
   },
   "outputs": [
    {
     "name": "stdout",
     "output_type": "stream",
     "text": [
      "A B * C * D * E + F +\n"
     ]
    }
   ],
   "source": [
    "print(infixToPostfix(\"A * B * C * D + E + F\"))"
   ]
  },
  {
   "cell_type": "code",
   "execution_count": 12,
   "metadata": {
    "collapsed": false
   },
   "outputs": [
    {
     "name": "stdout",
     "output_type": "stream",
     "text": [
      "10\n",
      "15\n",
      "47\n"
     ]
    }
   ],
   "source": [
    "print(postfixEval('2 3 * 4 +'))\n",
    "print(postfixEval('1 2 + 3 + 4 + 5 +'))\n",
    "print(postfixEval('1 2 3 4 5 * + * +'))"
   ]
  },
  {
   "cell_type": "code",
   "execution_count": null,
   "metadata": {
    "collapsed": true
   },
   "outputs": [],
   "source": []
  }
 ],
 "metadata": {
  "kernelspec": {
   "display_name": "Python 2",
   "language": "python",
   "name": "python2"
  },
  "language_info": {
   "codemirror_mode": {
    "name": "ipython",
    "version": 2
   },
   "file_extension": ".py",
   "mimetype": "text/x-python",
   "name": "python",
   "nbconvert_exporter": "python",
   "pygments_lexer": "ipython2",
   "version": "2.7.13"
  }
 },
 "nbformat": 4,
 "nbformat_minor": 2
}
