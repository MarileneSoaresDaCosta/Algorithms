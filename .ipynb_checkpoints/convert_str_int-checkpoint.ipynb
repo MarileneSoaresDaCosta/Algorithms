{
 "cells": [
  {
   "cell_type": "markdown",
   "metadata": {},
   "source": [
    "#### problem 7.1 Interconvert Strings & Integers"
   ]
  },
  {
   "cell_type": "code",
   "execution_count": null,
   "metadata": {
    "collapsed": false
   },
   "outputs": [],
   "source": [
    "# converting string into integer\n",
    "\n",
    "s = \"-123\"\n",
    "\n",
    "if s[0] == '-':\n",
    "    s1 = s[1:]\n",
    "else:\n",
    "    s1 = s\n",
    "\n",
    "i = 0\n",
    "result = 0\n",
    "for i in range(len(s1)):\n",
    "\n",
    "    dig = int(s1[len(s1)-1-i])*(10**i)\n",
    "    result = result + dig\n",
    "\n",
    "if s[0] == '-':\n",
    "    print result * -1\n",
    "else:\n",
    "    print result\n"
   ]
  },
  {
   "cell_type": "code",
   "execution_count": null,
   "metadata": {
    "collapsed": false
   },
   "outputs": [],
   "source": [
    "# converting integer into string - understanding the problem\n",
    "\n",
    "x = 123\n",
    "a = (x / 1)%10\n",
    "b = (x / 10)%10\n",
    "c = (x / 100)%10\n",
    "d = (x / 1000)%10\n",
    "print a, b, c, d\n",
    "\n"
   ]
  },
  {
   "cell_type": "code",
   "execution_count": null,
   "metadata": {
    "collapsed": false
   },
   "outputs": [],
   "source": [
    "# converting integer into string - testing conversion\n",
    "\n",
    "    \n",
    "s = '' + str(x%10)\n",
    "x = x/10\n",
    "\n",
    "s = s + str(x%10)\n",
    "x = x/10\n",
    "\n",
    "s = s + str(x%10)\n",
    "print s[::-1]\n",
    "print x > 0\n",
    "# one more time...\n",
    "x = x/10\n",
    "print x\n",
    "print x > 0"
   ]
  },
  {
   "cell_type": "code",
   "execution_count": null,
   "metadata": {
    "collapsed": false
   },
   "outputs": [],
   "source": [
    "x = 433\n",
    "s = ''\n",
    "while x > 0:\n",
    "    s += str(x%10)\n",
    "    x /= 10\n",
    "\n",
    "print s[::-1]"
   ]
  },
  {
   "cell_type": "code",
   "execution_count": 2,
   "metadata": {
    "collapsed": false
   },
   "outputs": [
    {
     "name": "stdout",
     "output_type": "stream",
     "text": [
      "-356\n"
     ]
    }
   ],
   "source": [
    "# converting integer into string - including signal\n",
    "x = -356\n",
    "is_negative = False\n",
    "\n",
    "if x < 0:\n",
    "    is_negative = True\n",
    "x = -x\n",
    "s = ''\n",
    "while x > 0:\n",
    "    s += str(x%10)\n",
    "    x /= 10\n",
    "    \n",
    "if is_negative == True:\n",
    "    print '-' + s[::-1]\n",
    "else: \n",
    "    print s[::-1]"
   ]
  },
  {
   "cell_type": "code",
   "execution_count": null,
   "metadata": {
    "collapsed": true
   },
   "outputs": [],
   "source": []
  }
 ],
 "metadata": {
  "anaconda-cloud": {},
  "kernelspec": {
   "display_name": "Python [Root]",
   "language": "python",
   "name": "Python [Root]"
  },
  "language_info": {
   "codemirror_mode": {
    "name": "ipython",
    "version": 2
   },
   "file_extension": ".py",
   "mimetype": "text/x-python",
   "name": "python",
   "nbconvert_exporter": "python",
   "pygments_lexer": "ipython2",
   "version": "2.7.12"
  }
 },
 "nbformat": 4,
 "nbformat_minor": 0
}
