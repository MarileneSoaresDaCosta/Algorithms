{
 "cells": [
  {
   "cell_type": "markdown",
   "metadata": {},
   "source": [
    "## Basic Data Structures\n",
    "### stacks, queues, deques, linked lists"
   ]
  },
  {
   "cell_type": "code",
   "execution_count": 9,
   "metadata": {
    "collapsed": false
   },
   "outputs": [],
   "source": [
    "\"\"\"\n",
    "To implement the Stack Abstract Data Type, we create a new class and use lists.\n",
    "The stack operations are implemented as methods.\n",
    "We need to decide which end of the list will be considered the 'top' of the stack\n",
    "and which will be the base. \n",
    "\n",
    "The following stack implementation (ActiveCode 1) assumes that the end of the list \n",
    "will hold the top element of the stack. As the stack grows (as push operations occur), \n",
    "new items will be added on the end of the list. pop operations will manipulate that same end.\n",
    "\"\"\"\n",
    "\n",
    "class Stack:\n",
    "    def __init__(self):\n",
    "         self.items = []\n",
    "\n",
    "    def isEmpty(self):\n",
    "        return self.items == []\n",
    "\n",
    "    def push(self, item):\n",
    "        self.items.append(item)\n",
    "\n",
    "    def pop(self):\n",
    "        return self.items.pop()\n",
    "\n",
    "    def peek(self):\n",
    "        return self.items[len(self.items)-1]\n",
    "\n",
    "    def size(self):\n",
    "        return len(self.items)"
   ]
  },
  {
   "cell_type": "code",
   "execution_count": 15,
   "metadata": {
    "collapsed": false
   },
   "outputs": [
    {
     "name": "stdout",
     "output_type": "stream",
     "text": [
      "is empty?: True\n",
      "peek after adding dog: dog\n",
      "size:  3\n",
      "is empty?: False\n",
      "pop after adding 8.4:  8.4\n",
      "pop again: True\n",
      "size: 2\n"
     ]
    }
   ],
   "source": [
    "s=Stack()\n",
    "\n",
    "print 'is empty?:',(s.isEmpty())\n",
    "s.push(4)\n",
    "s.push('dog')\n",
    "\n",
    "print 'peek after adding dog:',(s.peek())\n",
    "s.push(True)\n",
    "\n",
    "print 'size: ',(s.size())\n",
    "print 'is empty?:',(s.isEmpty())\n",
    "s.push(8.4)\n",
    "\n",
    "print 'pop after adding 8.4: ', (s.pop())\n",
    "print 'pop again:', (s.pop())\n",
    "print 'size:', (s.size())\n"
   ]
  },
  {
   "cell_type": "code",
   "execution_count": 19,
   "metadata": {
    "collapsed": false
   },
   "outputs": [],
   "source": [
    "\"\"\"\n",
    "implementing the stack using a list where the top is at the beginning \n",
    "instead of at the end. In this case, the previous pop and append methods\n",
    "would no longer work and we would have to index position 0 \n",
    "(the first item in the list) explicitly using pop and insert. \n",
    "\"\"\"\n",
    "\n",
    "class StackB:\n",
    "    def __init__(self):\n",
    "        self.items = []\n",
    "\n",
    "    def isEmpty(self):\n",
    "        return self.items == []\n",
    "\n",
    "    def push(self, item):\n",
    "        self.items.insert(0,item)\n",
    "\n",
    "    def pop(self):\n",
    "        return self.items.pop(0)\n",
    "\n",
    "    def peek(self):\n",
    "        return self.items[0]\n",
    "\n",
    "    def size(self):\n",
    "        return len(self.items)\n",
    "\n"
   ]
  },
  {
   "cell_type": "code",
   "execution_count": 20,
   "metadata": {
    "collapsed": false
   },
   "outputs": [
    {
     "name": "stdout",
     "output_type": "stream",
     "text": [
      "true\n"
     ]
    }
   ],
   "source": [
    "s = StackB()\n",
    "s.push('hello')\n",
    "s.push('true')\n",
    "print(s.pop())"
   ]
  },
  {
   "cell_type": "markdown",
   "metadata": {},
   "source": [
    ">This ability to change the physical implementation of an abstract data type while maintaining the logical characteristics is an example of abstraction at work. However, even though the stack will work either way, if we consider the performance of the two implementations, there is definitely a difference. Recall that the append and pop() operations were both O(1). This means that the first implementation will perform push and pop in constant time no matter how many items are on the stack. The performance of the second implementation suffers in that the insert(0) and pop(0) operations will both require O(n) for a stack of size n. Clearly, even though the implementations are logically equivalent, they would have very different timings when performing benchmark testing."
   ]
  },
  {
   "cell_type": "code",
   "execution_count": 60,
   "metadata": {
    "collapsed": false
   },
   "outputs": [
    {
     "name": "stdout",
     "output_type": "stream",
     "text": [
      "('erapmoc', 0.0001049041748046875)\n"
     ]
    }
   ],
   "source": [
    "# a function that uses a stack to reverse the characters in a string.\n",
    "import time\n",
    "\n",
    "def revstring(mystr):\n",
    "    # push every char in mystr to the stack\n",
    "    start = time.time()\n",
    "    revS = Stack()\n",
    "    for ch in mystr:\n",
    "#         print ch\n",
    "        revS.push(ch)\n",
    "#     print revS.size()\n",
    "    \n",
    "    nlist = []\n",
    "    \n",
    "    while not revS.isEmpty():\n",
    "#     print not revS.isEmpty()    \n",
    "        nlist.append(revS.peek())     # it was not necessary to use peek - I thought that pop would not return anything\n",
    "        revS.pop()\n",
    "    \n",
    "    nstr = \"\".join(str(x) for x in nlist)\n",
    "    end = time.time()\n",
    "    return nstr, end-start\n",
    "\n",
    "print revstring('compare')"
   ]
  },
  {
   "cell_type": "code",
   "execution_count": 61,
   "metadata": {
    "collapsed": false
   },
   "outputs": [
    {
     "name": "stdout",
     "output_type": "stream",
     "text": [
      "('erapmoc', 2.5987625122070312e-05)\n"
     ]
    }
   ],
   "source": [
    "def revstring2(mystr):\n",
    "    start = time.time()\n",
    "    myStack = Stack()\n",
    "    for ch in mystr:\n",
    "        myStack.push(ch)    \n",
    "    nstr = ''\n",
    "    while not myStack.isEmpty():\n",
    "        nstr = nstr + myStack.pop()\n",
    "    end = time.time()\n",
    "    return nstr, end-start\n",
    "\n",
    "print revstring2('compare')"
   ]
  },
  {
   "cell_type": "code",
   "execution_count": 62,
   "metadata": {
    "collapsed": false
   },
   "outputs": [
    {
     "name": "stdout",
     "output_type": "stream",
     "text": [
      "elppa\n",
      "x\n",
      "0987654321\n"
     ]
    }
   ],
   "source": [
    "# without measuring time\n",
    "def revstring3(mystr):\n",
    "    myStack = Stack()\n",
    "    for ch in mystr:\n",
    "        myStack.push(ch)    \n",
    "    nstr = ''\n",
    "    while not myStack.isEmpty():\n",
    "        nstr = nstr + myStack.pop()\n",
    "    return nstr\n",
    "\n",
    "print revstring3('apple')\n",
    "print revstring3('x')\n",
    "print revstring3('1234567890')"
   ]
  },
  {
   "cell_type": "code",
   "execution_count": 63,
   "metadata": {
    "collapsed": false
   },
   "outputs": [
    {
     "name": "stdout",
     "output_type": "stream",
     "text": [
      "True\n",
      "True\n",
      "True\n"
     ]
    }
   ],
   "source": [
    "def testEqual(s1, s2):\n",
    "    i = 0\n",
    "    for i in range(0, len(s1)):\n",
    "        if s1[i] != s2[i]:\n",
    "            print 'False'\n",
    "    return True\n",
    "    \n",
    "print testEqual(revstring3('apple'), 'elppa')\n",
    "print testEqual(revstring3('x'), 'x')\n",
    "print testEqual(revstring3('1234567890'), '0987654321')"
   ]
  },
  {
   "cell_type": "code",
   "execution_count": null,
   "metadata": {
    "collapsed": false
   },
   "outputs": [],
   "source": [
    "   "
   ]
  },
  {
   "cell_type": "code",
   "execution_count": null,
   "metadata": {
    "collapsed": true
   },
   "outputs": [],
   "source": []
  }
 ],
 "metadata": {
  "kernelspec": {
   "display_name": "Python 2",
   "language": "python",
   "name": "python2"
  },
  "language_info": {
   "codemirror_mode": {
    "name": "ipython",
    "version": 2
   },
   "file_extension": ".py",
   "mimetype": "text/x-python",
   "name": "python",
   "nbconvert_exporter": "python",
   "pygments_lexer": "ipython2",
   "version": "2.7.13"
  }
 },
 "nbformat": 4,
 "nbformat_minor": 2
}
